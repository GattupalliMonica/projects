{
  "nbformat": 4,
  "nbformat_minor": 0,
  "metadata": {
    "kernelspec": {
      "display_name": "Python 3",
      "language": "python",
      "name": "python3"
    },
    "language_info": {
      "codemirror_mode": {
        "name": "ipython",
        "version": 3
      },
      "file_extension": ".py",
      "mimetype": "text/x-python",
      "name": "python",
      "nbconvert_exporter": "python",
      "pygments_lexer": "ipython3",
      "version": "3.6.6"
    },
    "colab": {
      "name": "COVID-19_Prediction_CNN.ipynb",
      "provenance": [],
      "collapsed_sections": [],
      "toc_visible": true
    },
    "accelerator": "GPU"
  },
  "cells": [
    {
      "cell_type": "markdown",
      "metadata": {
        "id": "2SMclpaMFGvR"
      },
      "source": [
        "## [Covid-19 detection  using Convolutional Neural Network](https://)\n"
      ]
    },
    {
      "cell_type": "code",
      "metadata": {
        "id": "4D03bNewV6hb"
      },
      "source": [
        "#import all the required packages\n",
        "import os\n",
        "import cv2\n",
        "import numpy as np"
      ],
      "execution_count": null,
      "outputs": []
    },
    {
      "cell_type": "code",
      "metadata": {
        "id": "qpp81Qaq0h4a",
        "colab": {
          "base_uri": "https://localhost:8080/"
        },
        "outputId": "6518b9bb-f162-4fb0-fdba-191e395a8eb8"
      },
      "source": [
        "from google.colab import drive\n",
        "drive.mount('/content/drive')"
      ],
      "execution_count": null,
      "outputs": [
        {
          "output_type": "stream",
          "text": [
            "Mounted at /content/drive\n"
          ],
          "name": "stdout"
        }
      ]
    },
    {
      "cell_type": "code",
      "metadata": {
        "id": "YFXtjE79WSst"
      },
      "source": [
        "#create a variable indicating the path of the current image directory\n",
        "data_path = '/content/drive/My Drive/transferlearning'\n"
      ],
      "execution_count": null,
      "outputs": []
    },
    {
      "cell_type": "code",
      "metadata": {
        "id": "PHnXfCjBWaPS"
      },
      "source": [
        "# All the necessary intializations to read data from directories\n",
        "classes = os.listdir(data_path) # returns sub-directory names from the given path, typically these are the folders where your data is residing\n",
        "Images = [] #you will be adding your image pixels to this list \n",
        "labels = [] #you will be adding your image labels to this list"
      ],
      "execution_count": null,
      "outputs": []
    },
    {
      "cell_type": "code",
      "metadata": {
        "id": "9FTkDn87FGvT",
        "colab": {
          "base_uri": "https://localhost:8080/"
        },
        "outputId": "f3c3eb1e-99c7-47c5-e815-403990309adb"
      },
      "source": [
        "#Reading all the images of the dataset along with their associted labels \n",
        "for class_name in classes:\n",
        "    subpath=data_path+\"/\"+class_name \n",
        "    for im in os.listdir(subpath):  \n",
        "        im_path = subpath+\"/\"+im  \n",
        "        print(im_path)\n",
        "        img = cv2.imread(im_path)\n",
        "        img = cv2.resize(img,(128,128))\n",
        "        Images.append(img)\n",
        "        label = classes.index(class_name)\n",
        "        labels.append(label)\n",
        "        #print(im,'-->',img.shape,'--->',label)\n",
        "        \n",
        "X = np.asarray(Images)  #images  as a numpy array\n",
        "y = np.asarray(labels)  #labels as a numpy array "
      ],
      "execution_count": null,
      "outputs": [
        {
          "output_type": "stream",
          "text": [
            "/content/drive/My Drive/transferlearning/No_findings/00002457_011.png\n",
            "/content/drive/My Drive/transferlearning/No_findings/00002094_002.png\n",
            "/content/drive/My Drive/transferlearning/No_findings/00001385_000.png\n",
            "/content/drive/My Drive/transferlearning/No_findings/00002659_001.png\n",
            "/content/drive/My Drive/transferlearning/No_findings/00003361_008.png\n",
            "/content/drive/My Drive/transferlearning/No_findings/00003005_019.png\n",
            "/content/drive/My Drive/transferlearning/No_findings/00001865_000.png\n",
            "/content/drive/My Drive/transferlearning/No_findings/00003264_004.png\n",
            "/content/drive/My Drive/transferlearning/No_findings/00002549_003.png\n",
            "/content/drive/My Drive/transferlearning/No_findings/00001803_017.png\n",
            "/content/drive/My Drive/transferlearning/No_findings/00003140_008.png\n",
            "/content/drive/My Drive/transferlearning/No_findings/00001680_000.png\n",
            "/content/drive/My Drive/transferlearning/No_findings/00001996_010.png\n",
            "/content/drive/My Drive/transferlearning/No_findings/00001684_005.png\n",
            "/content/drive/My Drive/transferlearning/No_findings/00001759_001.png\n",
            "/content/drive/My Drive/transferlearning/No_findings/00001464_000.png\n",
            "/content/drive/My Drive/transferlearning/No_findings/00003040_000.png\n",
            "/content/drive/My Drive/transferlearning/No_findings/00001445_000.png\n",
            "/content/drive/My Drive/transferlearning/No_findings/00002311_002.png\n",
            "/content/drive/My Drive/transferlearning/No_findings/00002572_000.png\n",
            "/content/drive/My Drive/transferlearning/No_findings/00002344_008.png\n",
            "/content/drive/My Drive/transferlearning/No_findings/00003437_000.png\n",
            "/content/drive/My Drive/transferlearning/No_findings/00003275_005.png\n",
            "/content/drive/My Drive/transferlearning/No_findings/00002933_000.png\n",
            "/content/drive/My Drive/transferlearning/No_findings/00001684_021.png\n",
            "/content/drive/My Drive/transferlearning/No_findings/00001526_000.png\n",
            "/content/drive/My Drive/transferlearning/No_findings/00001433_002.png\n",
            "/content/drive/My Drive/transferlearning/No_findings/00001634_008.png\n",
            "/content/drive/My Drive/transferlearning/No_findings/00002344_007.png\n",
            "/content/drive/My Drive/transferlearning/No_findings/00003628_002.png\n",
            "/content/drive/My Drive/transferlearning/No_findings/00003517_000.png\n",
            "/content/drive/My Drive/transferlearning/No_findings/00003392_004.png\n",
            "/content/drive/My Drive/transferlearning/No_findings/00003478_002.png\n",
            "/content/drive/My Drive/transferlearning/No_findings/00001543_004.png\n",
            "/content/drive/My Drive/transferlearning/No_findings/00002288_010.png\n",
            "/content/drive/My Drive/transferlearning/No_findings/00003248_001.png\n",
            "/content/drive/My Drive/transferlearning/No_findings/00001769_000.png\n",
            "/content/drive/My Drive/transferlearning/No_findings/00002863_003.png\n",
            "/content/drive/My Drive/transferlearning/No_findings/00003806_001.png\n",
            "/content/drive/My Drive/transferlearning/No_findings/00002237_000.png\n",
            "/content/drive/My Drive/transferlearning/No_findings/00003426_015.png\n",
            "/content/drive/My Drive/transferlearning/No_findings/00003847_004.png\n",
            "/content/drive/My Drive/transferlearning/No_findings/00001864_003.png\n",
            "/content/drive/My Drive/transferlearning/No_findings/00003758_005.png\n",
            "/content/drive/My Drive/transferlearning/No_findings/00003324_000.png\n",
            "/content/drive/My Drive/transferlearning/No_findings/00003356_000.png\n",
            "/content/drive/My Drive/transferlearning/No_findings/00003198_005.png\n",
            "/content/drive/My Drive/transferlearning/No_findings/00003574_006.png\n",
            "/content/drive/My Drive/transferlearning/No_findings/00003137_001.png\n",
            "/content/drive/My Drive/transferlearning/No_findings/00002594_007.png\n",
            "/content/drive/My Drive/transferlearning/No_findings/00001568_004.png\n",
            "/content/drive/My Drive/transferlearning/No_findings/00001734_001.png\n",
            "/content/drive/My Drive/transferlearning/No_findings/00002658_001.png\n",
            "/content/drive/My Drive/transferlearning/No_findings/00003535_021.png\n",
            "/content/drive/My Drive/transferlearning/No_findings/00002013_002.png\n",
            "/content/drive/My Drive/transferlearning/No_findings/00002195_002.png\n",
            "/content/drive/My Drive/transferlearning/No_findings/00001992_000.png\n",
            "/content/drive/My Drive/transferlearning/No_findings/00001854_003.png\n",
            "/content/drive/My Drive/transferlearning/No_findings/00003370_001.png\n",
            "/content/drive/My Drive/transferlearning/No_findings/00003741_002.png\n",
            "/content/drive/My Drive/transferlearning/No_findings/00003150_000.png\n",
            "/content/drive/My Drive/transferlearning/No_findings/00001974_001.png\n",
            "/content/drive/My Drive/transferlearning/No_findings/00002219_008.png\n",
            "/content/drive/My Drive/transferlearning/No_findings/00002007_000.png\n",
            "/content/drive/My Drive/transferlearning/No_findings/00003478_000.png\n",
            "/content/drive/My Drive/transferlearning/No_findings/00001504_000.png\n",
            "/content/drive/My Drive/transferlearning/No_findings/00002102_000.png\n",
            "/content/drive/My Drive/transferlearning/No_findings/00002555_000.png\n",
            "/content/drive/My Drive/transferlearning/No_findings/00003510_015.png\n",
            "/content/drive/My Drive/transferlearning/No_findings/00002215_002.png\n",
            "/content/drive/My Drive/transferlearning/No_findings/00003750_003.png\n",
            "/content/drive/My Drive/transferlearning/No_findings/00001682_001.png\n",
            "/content/drive/My Drive/transferlearning/No_findings/00003490_010.png\n",
            "/content/drive/My Drive/transferlearning/No_findings/00001504_001.png\n",
            "/content/drive/My Drive/transferlearning/No_findings/00002482_001.png\n",
            "/content/drive/My Drive/transferlearning/No_findings/00003043_000.png\n",
            "/content/drive/My Drive/transferlearning/No_findings/00002720_024.png\n",
            "/content/drive/My Drive/transferlearning/No_findings/00003126_019.png\n",
            "/content/drive/My Drive/transferlearning/No_findings/00001986_006.png\n",
            "/content/drive/My Drive/transferlearning/No_findings/00003580_001.png\n",
            "/content/drive/My Drive/transferlearning/No_findings/00002633_030.png\n",
            "/content/drive/My Drive/transferlearning/No_findings/00002058_014.png\n",
            "/content/drive/My Drive/transferlearning/No_findings/00001769_002.png\n",
            "/content/drive/My Drive/transferlearning/No_findings/00003005_002.png\n",
            "/content/drive/My Drive/transferlearning/No_findings/00003572_000.png\n",
            "/content/drive/My Drive/transferlearning/No_findings/00002233_000.png\n",
            "/content/drive/My Drive/transferlearning/No_findings/00002371_010.png\n",
            "/content/drive/My Drive/transferlearning/No_findings/00003478_003.png\n",
            "/content/drive/My Drive/transferlearning/No_findings/00003847_012.png\n",
            "/content/drive/My Drive/transferlearning/No_findings/00003497_000.png\n",
            "/content/drive/My Drive/transferlearning/No_findings/00002194_002.png\n",
            "/content/drive/My Drive/transferlearning/No_findings/00002229_003.png\n",
            "/content/drive/My Drive/transferlearning/No_findings/00003259_001.png\n",
            "/content/drive/My Drive/transferlearning/No_findings/00003421_004.png\n",
            "/content/drive/My Drive/transferlearning/No_findings/00002594_000.png\n",
            "/content/drive/My Drive/transferlearning/No_findings/00003415_000.png\n",
            "/content/drive/My Drive/transferlearning/No_findings/00003130_004.png\n",
            "/content/drive/My Drive/transferlearning/No_findings/00002735_002.png\n",
            "/content/drive/My Drive/transferlearning/No_findings/00002673_004.png\n",
            "/content/drive/My Drive/transferlearning/No_findings/00002120_007.png\n",
            "/content/drive/My Drive/transferlearning/No_findings/00001951_000.png\n",
            "/content/drive/My Drive/transferlearning/No_findings/00001315_006.png\n",
            "/content/drive/My Drive/transferlearning/No_findings/00001303_001.png\n",
            "/content/drive/My Drive/transferlearning/No_findings/00003211_004.png\n",
            "/content/drive/My Drive/transferlearning/No_findings/00003448_000.png\n",
            "/content/drive/My Drive/transferlearning/No_findings/00003849_000.png\n",
            "/content/drive/My Drive/transferlearning/No_findings/00001620_003.png\n",
            "/content/drive/My Drive/transferlearning/No_findings/00003623_000.png\n",
            "/content/drive/My Drive/transferlearning/No_findings/00001616_008.png\n",
            "/content/drive/My Drive/transferlearning/No_findings/00003367_003.png\n",
            "/content/drive/My Drive/transferlearning/No_findings/00001724_006.png\n",
            "/content/drive/My Drive/transferlearning/No_findings/00003129_008.png\n",
            "/content/drive/My Drive/transferlearning/No_findings/00002366_001.png\n",
            "/content/drive/My Drive/transferlearning/No_findings/00003490_013.png\n",
            "/content/drive/My Drive/transferlearning/No_findings/00003463_001.png\n",
            "/content/drive/My Drive/transferlearning/No_findings/00003330_005.png\n",
            "/content/drive/My Drive/transferlearning/No_findings/00003580_000.png\n",
            "/content/drive/My Drive/transferlearning/No_findings/00002679_000.png\n",
            "/content/drive/My Drive/transferlearning/No_findings/00002545_001.png\n",
            "/content/drive/My Drive/transferlearning/No_findings/00003601_007.png\n",
            "/content/drive/My Drive/transferlearning/No_findings/00002184_002.png\n",
            "/content/drive/My Drive/transferlearning/No_findings/00003158_002.png\n",
            "/content/drive/My Drive/transferlearning/No_findings/00002262_007.png\n",
            "/content/drive/My Drive/transferlearning/No_findings/00002053_000.png\n",
            "/content/drive/My Drive/transferlearning/No_findings/00003847_011.png\n",
            "/content/drive/My Drive/transferlearning/No_findings/00001739_000.png\n",
            "/content/drive/My Drive/transferlearning/No_findings/00002032_003.png\n",
            "/content/drive/My Drive/transferlearning/No_findings/00003140_010.png\n",
            "/content/drive/My Drive/transferlearning/No_findings/00002339_012.png\n",
            "/content/drive/My Drive/transferlearning/No_findings/00001401_001.png\n",
            "/content/drive/My Drive/transferlearning/No_findings/00002860_021.png\n",
            "/content/drive/My Drive/transferlearning/No_findings/00003353_006.png\n",
            "/content/drive/My Drive/transferlearning/No_findings/00002954_007.png\n",
            "/content/drive/My Drive/transferlearning/No_findings/00001362_014.png\n",
            "/content/drive/My Drive/transferlearning/No_findings/00001935_000.png\n",
            "/content/drive/My Drive/transferlearning/No_findings/00002946_000.png\n",
            "/content/drive/My Drive/transferlearning/No_findings/00002117_005.png\n",
            "/content/drive/My Drive/transferlearning/No_findings/00002576_008.png\n",
            "/content/drive/My Drive/transferlearning/No_findings/00003847_010.png\n",
            "/content/drive/My Drive/transferlearning/No_findings/00002860_002.png\n",
            "/content/drive/My Drive/transferlearning/No_findings/00001820_002.png\n",
            "/content/drive/My Drive/transferlearning/No_findings/00002452_000.png\n",
            "/content/drive/My Drive/transferlearning/No_findings/00001699_000.png\n",
            "/content/drive/My Drive/transferlearning/No_findings/00001854_002.png\n",
            "/content/drive/My Drive/transferlearning/No_findings/00003353_005.png\n",
            "/content/drive/My Drive/transferlearning/No_findings/00003611_007.png\n",
            "/content/drive/My Drive/transferlearning/No_findings/00003759_001.png\n",
            "/content/drive/My Drive/transferlearning/No_findings/00003126_021.png\n",
            "/content/drive/My Drive/transferlearning/No_findings/00002540_001.png\n",
            "/content/drive/My Drive/transferlearning/No_findings/00001684_015.png\n",
            "/content/drive/My Drive/transferlearning/No_findings/00003395_003.png\n",
            "/content/drive/My Drive/transferlearning/No_findings/00003453_000.png\n",
            "/content/drive/My Drive/transferlearning/No_findings/00001992_016.png\n",
            "/content/drive/My Drive/transferlearning/No_findings/00003178_000.png\n",
            "/content/drive/My Drive/transferlearning/No_findings/00003872_001.png\n",
            "/content/drive/My Drive/transferlearning/No_findings/00001629_002.png\n",
            "/content/drive/My Drive/transferlearning/No_findings/00003497_001.png\n",
            "/content/drive/My Drive/transferlearning/No_findings/00002678_005.png\n",
            "/content/drive/My Drive/transferlearning/No_findings/00003930_000.png\n",
            "/content/drive/My Drive/transferlearning/No_findings/00003426_014.png\n",
            "/content/drive/My Drive/transferlearning/No_findings/00001699_002.png\n",
            "/content/drive/My Drive/transferlearning/No_findings/00002071_000.png\n",
            "/content/drive/My Drive/transferlearning/No_findings/00001543_002.png\n",
            "/content/drive/My Drive/transferlearning/No_findings/00003005_022.png\n",
            "/content/drive/My Drive/transferlearning/No_findings/00001697_011.png\n",
            "/content/drive/My Drive/transferlearning/No_findings/00003209_001.png\n",
            "/content/drive/My Drive/transferlearning/No_findings/00001426_000.png\n",
            "/content/drive/My Drive/transferlearning/No_findings/00001986_011.png\n",
            "/content/drive/My Drive/transferlearning/No_findings/00002194_003.png\n",
            "/content/drive/My Drive/transferlearning/No_findings/00001684_008.png\n",
            "/content/drive/My Drive/transferlearning/No_findings/00001992_010.png\n",
            "/content/drive/My Drive/transferlearning/No_findings/00001823_000.png\n",
            "/content/drive/My Drive/transferlearning/No_findings/00001389_003.png\n",
            "/content/drive/My Drive/transferlearning/No_findings/00001543_005.png\n",
            "/content/drive/My Drive/transferlearning/No_findings/00003190_013.png\n",
            "/content/drive/My Drive/transferlearning/No_findings/00003447_001.png\n",
            "/content/drive/My Drive/transferlearning/No_findings/00003002_014.png\n",
            "/content/drive/My Drive/transferlearning/No_findings/00003837_004.png\n",
            "/content/drive/My Drive/transferlearning/No_findings/00003190_014.png\n",
            "/content/drive/My Drive/transferlearning/No_findings/00001591_000.png\n",
            "/content/drive/My Drive/transferlearning/No_findings/00003490_008.png\n",
            "/content/drive/My Drive/transferlearning/No_findings/00003382_009.png\n",
            "/content/drive/My Drive/transferlearning/No_findings/00003771_003.png\n",
            "/content/drive/My Drive/transferlearning/No_findings/00002549_005.png\n",
            "/content/drive/My Drive/transferlearning/No_findings/00003140_014.png\n",
            "/content/drive/My Drive/transferlearning/No_findings/00002817_010.png\n",
            "/content/drive/My Drive/transferlearning/No_findings/00002218_003.png\n",
            "/content/drive/My Drive/transferlearning/No_findings/00002457_013.png\n",
            "/content/drive/My Drive/transferlearning/No_findings/00001697_015.png\n",
            "/content/drive/My Drive/transferlearning/No_findings/00003601_006.png\n",
            "/content/drive/My Drive/transferlearning/No_findings/00003230_006.png\n",
            "/content/drive/My Drive/transferlearning/No_findings/00001308_002.png\n",
            "/content/drive/My Drive/transferlearning/No_findings/00001772_007.png\n",
            "/content/drive/My Drive/transferlearning/No_findings/00002037_001.png\n",
            "/content/drive/My Drive/transferlearning/No_findings/00003510_003.png\n",
            "/content/drive/My Drive/transferlearning/No_findings/00003966_000.png\n",
            "/content/drive/My Drive/transferlearning/No_findings/00003510_007.png\n",
            "/content/drive/My Drive/transferlearning/No_findings/00002922_000.png\n",
            "/content/drive/My Drive/transferlearning/No_findings/00001724_005.png\n",
            "/content/drive/My Drive/transferlearning/No_findings/00003759_002.png\n",
            "/content/drive/My Drive/transferlearning/No_findings/00003726_002.png\n",
            "/content/drive/My Drive/transferlearning/No_findings/00003956_001.png\n",
            "/content/drive/My Drive/transferlearning/No_findings/00001951_008.png\n",
            "/content/drive/My Drive/transferlearning/No_findings/00002819_000.png\n",
            "/content/drive/My Drive/transferlearning/No_findings/00002380_002.png\n",
            "/content/drive/My Drive/transferlearning/No_findings/00002633_005.png\n",
            "/content/drive/My Drive/transferlearning/No_findings/00003478_005.png\n",
            "/content/drive/My Drive/transferlearning/No_findings/00002673_010.png\n",
            "/content/drive/My Drive/transferlearning/No_findings/00002356_005.png\n",
            "/content/drive/My Drive/transferlearning/No_findings/00003248_003.png\n",
            "/content/drive/My Drive/transferlearning/No_findings/00003361_004.png\n",
            "/content/drive/My Drive/transferlearning/No_findings/00003459_015.png\n",
            "/content/drive/My Drive/transferlearning/No_findings/00003098_010.png\n",
            "/content/drive/My Drive/transferlearning/No_findings/00001684_000.png\n",
            "/content/drive/My Drive/transferlearning/No_findings/00001616_011.png\n",
            "/content/drive/My Drive/transferlearning/No_findings/00001323_001.png\n",
            "/content/drive/My Drive/transferlearning/No_findings/00001568_000.png\n",
            "/content/drive/My Drive/transferlearning/No_findings/00003140_016.png\n",
            "/content/drive/My Drive/transferlearning/No_findings/00001569_003.png\n",
            "/content/drive/My Drive/transferlearning/No_findings/00003259_000.png\n",
            "/content/drive/My Drive/transferlearning/No_findings/00003441_000.png\n",
            "/content/drive/My Drive/transferlearning/No_findings/00001801_000.png\n",
            "/content/drive/My Drive/transferlearning/No_findings/00003779_005.png\n",
            "/content/drive/My Drive/transferlearning/No_findings/00001526_002.png\n",
            "/content/drive/My Drive/transferlearning/No_findings/00001304_001.png\n",
            "/content/drive/My Drive/transferlearning/No_findings/00001629_001.png\n",
            "/content/drive/My Drive/transferlearning/No_findings/00002735_001.png\n",
            "/content/drive/My Drive/transferlearning/No_findings/00003539_003.png\n",
            "/content/drive/My Drive/transferlearning/No_findings/00003331_000.png\n",
            "/content/drive/My Drive/transferlearning/No_findings/00001820_003.png\n",
            "/content/drive/My Drive/transferlearning/No_findings/00003264_000.png\n",
            "/content/drive/My Drive/transferlearning/No_findings/00003249_002.png\n",
            "/content/drive/My Drive/transferlearning/No_findings/00003140_017.png\n",
            "/content/drive/My Drive/transferlearning/No_findings/00002846_011.png\n",
            "/content/drive/My Drive/transferlearning/No_findings/00003392_007.png\n",
            "/content/drive/My Drive/transferlearning/No_findings/00003661_000.png\n",
            "/content/drive/My Drive/transferlearning/No_findings/00001986_007.png\n",
            "/content/drive/My Drive/transferlearning/No_findings/00002633_021.png\n",
            "/content/drive/My Drive/transferlearning/No_findings/00002673_002.png\n",
            "/content/drive/My Drive/transferlearning/No_findings/00003176_001.png\n",
            "/content/drive/My Drive/transferlearning/No_findings/00003461_000.png\n",
            "/content/drive/My Drive/transferlearning/No_findings/00001403_002.png\n",
            "/content/drive/My Drive/transferlearning/No_findings/00001689_009.png\n",
            "/content/drive/My Drive/transferlearning/No_findings/00003369_013.png\n",
            "/content/drive/My Drive/transferlearning/No_findings/00002830_000.png\n",
            "/content/drive/My Drive/transferlearning/No_findings/00001371_003.png\n",
            "/content/drive/My Drive/transferlearning/No_findings/00001305_001.png\n",
            "/content/drive/My Drive/transferlearning/No_findings/00002154_000.png\n",
            "/content/drive/My Drive/transferlearning/No_findings/00003361_012.png\n",
            "/content/drive/My Drive/transferlearning/No_findings/00003748_000.png\n",
            "/content/drive/My Drive/transferlearning/No_findings/00003490_012.png\n",
            "/content/drive/My Drive/transferlearning/No_findings/00002582_001.png\n",
            "/content/drive/My Drive/transferlearning/No_findings/00003330_003.png\n",
            "/content/drive/My Drive/transferlearning/No_findings/00003742_001.png\n",
            "/content/drive/My Drive/transferlearning/No_findings/00003176_002.png\n",
            "/content/drive/My Drive/transferlearning/No_findings/00003053_001.png\n",
            "/content/drive/My Drive/transferlearning/No_findings/00002070_003.png\n",
            "/content/drive/My Drive/transferlearning/No_findings/00001389_001.png\n",
            "/content/drive/My Drive/transferlearning/No_findings/00002442_001.png\n",
            "/content/drive/My Drive/transferlearning/No_findings/00003392_031.png\n",
            "/content/drive/My Drive/transferlearning/No_findings/00002827_001.png\n",
            "/content/drive/My Drive/transferlearning/No_findings/00003140_007.png\n",
            "/content/drive/My Drive/transferlearning/No_findings/00002582_006.png\n",
            "/content/drive/My Drive/transferlearning/No_findings/00003518_000.png\n",
            "/content/drive/My Drive/transferlearning/No_findings/00003895_000.png\n",
            "/content/drive/My Drive/transferlearning/No_findings/00001452_002.png\n",
            "/content/drive/My Drive/transferlearning/No_findings/00002860_024.png\n",
            "/content/drive/My Drive/transferlearning/No_findings/00001507_002.png\n",
            "/content/drive/My Drive/transferlearning/No_findings/00002117_011.png\n",
            "/content/drive/My Drive/transferlearning/No_findings/00002806_003.png\n",
            "/content/drive/My Drive/transferlearning/No_findings/00001613_004.png\n",
            "/content/drive/My Drive/transferlearning/No_findings/00001710_000.png\n",
            "/content/drive/My Drive/transferlearning/No_findings/00001489_000.png\n",
            "/content/drive/My Drive/transferlearning/No_findings/00003392_018.png\n",
            "/content/drive/My Drive/transferlearning/No_findings/00001483_017.png\n",
            "/content/drive/My Drive/transferlearning/No_findings/00002673_019.png\n",
            "/content/drive/My Drive/transferlearning/No_findings/00003628_000.png\n",
            "/content/drive/My Drive/transferlearning/No_findings/00003672_002.png\n",
            "/content/drive/My Drive/transferlearning/No_findings/00001951_017.png\n",
            "/content/drive/My Drive/transferlearning/No_findings/00003098_001.png\n",
            "/content/drive/My Drive/transferlearning/No_findings/00003564_000.png\n",
            "/content/drive/My Drive/transferlearning/No_findings/00001362_001.png\n",
            "/content/drive/My Drive/transferlearning/No_findings/00001807_000.png\n",
            "/content/drive/My Drive/transferlearning/No_findings/00002464_001.png\n",
            "/content/drive/My Drive/transferlearning/No_findings/00003226_004.png\n",
            "/content/drive/My Drive/transferlearning/No_findings/00002381_005.png\n",
            "/content/drive/My Drive/transferlearning/No_findings/00001689_012.png\n",
            "/content/drive/My Drive/transferlearning/No_findings/00002344_002.png\n",
            "/content/drive/My Drive/transferlearning/No_findings/00001804_000.png\n",
            "/content/drive/My Drive/transferlearning/No_findings/00003875_007.png\n",
            "/content/drive/My Drive/transferlearning/No_findings/00001981_000.png\n",
            "/content/drive/My Drive/transferlearning/No_findings/00003552_005.png\n",
            "/content/drive/My Drive/transferlearning/No_findings/00001497_000.png\n",
            "/content/drive/My Drive/transferlearning/No_findings/00002678_006.png\n",
            "/content/drive/My Drive/transferlearning/No_findings/00002658_002.png\n",
            "/content/drive/My Drive/transferlearning/No_findings/00002550_000.png\n",
            "/content/drive/My Drive/transferlearning/No_findings/00003140_015.png\n",
            "/content/drive/My Drive/transferlearning/No_findings/00001684_003.png\n",
            "/content/drive/My Drive/transferlearning/No_findings/00001885_000.png\n",
            "/content/drive/My Drive/transferlearning/No_findings/00001995_004.png\n",
            "/content/drive/My Drive/transferlearning/No_findings/00002726_001.png\n",
            "/content/drive/My Drive/transferlearning/No_findings/00003490_011.png\n",
            "/content/drive/My Drive/transferlearning/No_findings/00003707_000.png\n",
            "/content/drive/My Drive/transferlearning/No_findings/00001921_002.png\n",
            "/content/drive/My Drive/transferlearning/No_findings/00002451_005.png\n",
            "/content/drive/My Drive/transferlearning/No_findings/00003689_010.png\n",
            "/content/drive/My Drive/transferlearning/No_findings/00002572_003.png\n",
            "/content/drive/My Drive/transferlearning/No_findings/00001650_000.png\n",
            "/content/drive/My Drive/transferlearning/No_findings/00003292_002.png\n",
            "/content/drive/My Drive/transferlearning/No_findings/00001895_000.png\n",
            "/content/drive/My Drive/transferlearning/No_findings/00001371_002.png\n",
            "/content/drive/My Drive/transferlearning/No_findings/00001684_010.png\n",
            "/content/drive/My Drive/transferlearning/No_findings/00001543_003.png\n",
            "/content/drive/My Drive/transferlearning/No_findings/00001280_004.png\n",
            "/content/drive/My Drive/transferlearning/No_findings/00001803_001.png\n",
            "/content/drive/My Drive/transferlearning/No_findings/00003468_006.png\n",
            "/content/drive/My Drive/transferlearning/No_findings/00002016_003.png\n",
            "/content/drive/My Drive/transferlearning/No_findings/00003535_019.png\n",
            "/content/drive/My Drive/transferlearning/No_findings/00001568_003.png\n",
            "/content/drive/My Drive/transferlearning/No_findings/00003354_002.png\n",
            "/content/drive/My Drive/transferlearning/No_findings/00001362_017.png\n",
            "/content/drive/My Drive/transferlearning/No_findings/00001613_003.png\n",
            "/content/drive/My Drive/transferlearning/No_findings/00001471_001.png\n",
            "/content/drive/My Drive/transferlearning/No_findings/00002491_012.png\n",
            "/content/drive/My Drive/transferlearning/No_findings/00002981_006.png\n",
            "/content/drive/My Drive/transferlearning/No_findings/00001326_002.png\n",
            "/content/drive/My Drive/transferlearning/No_findings/00003276_000.png\n",
            "/content/drive/My Drive/transferlearning/No_findings/00003552_004.png\n",
            "/content/drive/My Drive/transferlearning/No_findings/00001741_002.png\n",
            "/content/drive/My Drive/transferlearning/No_findings/00003571_000.png\n",
            "/content/drive/My Drive/transferlearning/No_findings/00003847_005.png\n",
            "/content/drive/My Drive/transferlearning/No_findings/00002371_012.png\n",
            "/content/drive/My Drive/transferlearning/No_findings/00001689_008.png\n",
            "/content/drive/My Drive/transferlearning/No_findings/00001323_002.png\n",
            "/content/drive/My Drive/transferlearning/No_findings/00001616_009.png\n",
            "/content/drive/My Drive/transferlearning/No_findings/00001697_001.png\n",
            "/content/drive/My Drive/transferlearning/No_findings/00002678_004.png\n",
            "/content/drive/My Drive/transferlearning/No_findings/00003158_001.png\n",
            "/content/drive/My Drive/transferlearning/No_findings/00002993_001.png\n",
            "/content/drive/My Drive/transferlearning/No_findings/00003882_007.png\n",
            "/content/drive/My Drive/transferlearning/No_findings/00003418_000.png\n",
            "/content/drive/My Drive/transferlearning/No_findings/00003097_003.png\n",
            "/content/drive/My Drive/transferlearning/No_findings/00002262_006.png\n",
            "/content/drive/My Drive/transferlearning/No_findings/00001961_005.png\n",
            "/content/drive/My Drive/transferlearning/No_findings/00003384_000.png\n",
            "/content/drive/My Drive/transferlearning/No_findings/00003970_002.png\n",
            "/content/drive/My Drive/transferlearning/No_findings/00002457_003.png\n",
            "/content/drive/My Drive/transferlearning/No_findings/00002933_001.png\n",
            "/content/drive/My Drive/transferlearning/No_findings/00001719_000.png\n",
            "/content/drive/My Drive/transferlearning/No_findings/00003541_000.png\n",
            "/content/drive/My Drive/transferlearning/No_findings/00002497_000.png\n",
            "/content/drive/My Drive/transferlearning/No_findings/00001389_002.png\n",
            "/content/drive/My Drive/transferlearning/No_findings/00001543_000.png\n",
            "/content/drive/My Drive/transferlearning/No_findings/00003507_000.png\n",
            "/content/drive/My Drive/transferlearning/No_findings/00002915_002.png\n",
            "/content/drive/My Drive/transferlearning/No_findings/00001957_002.png\n",
            "/content/drive/My Drive/transferlearning/No_findings/00003140_004.png\n",
            "/content/drive/My Drive/transferlearning/No_findings/00001543_007.png\n",
            "/content/drive/My Drive/transferlearning/No_findings/00003872_002.png\n",
            "/content/drive/My Drive/transferlearning/No_findings/00003426_016.png\n",
            "/content/drive/My Drive/transferlearning/No_findings/00003291_001.png\n",
            "/content/drive/My Drive/transferlearning/No_findings/00001666_001.png\n",
            "/content/drive/My Drive/transferlearning/No_findings/00002790_003.png\n",
            "/content/drive/My Drive/transferlearning/No_findings/00003393_030.png\n",
            "/content/drive/My Drive/transferlearning/No_findings/00001689_011.png\n",
            "/content/drive/My Drive/transferlearning/No_findings/00002301_000.png\n",
            "/content/drive/My Drive/transferlearning/No_findings/00002649_008.png\n",
            "/content/drive/My Drive/transferlearning/No_findings/00003161_003.png\n",
            "/content/drive/My Drive/transferlearning/No_findings/00002728_003.png\n",
            "/content/drive/My Drive/transferlearning/No_findings/00002376_001.png\n",
            "/content/drive/My Drive/transferlearning/No_findings/00001568_001.png\n",
            "/content/drive/My Drive/transferlearning/No_findings/00003005_012.png\n",
            "/content/drive/My Drive/transferlearning/No_findings/00002058_013.png\n",
            "/content/drive/My Drive/transferlearning/No_findings/00001362_004.png\n",
            "/content/drive/My Drive/transferlearning/No_findings/00001362_008.png\n",
            "/content/drive/My Drive/transferlearning/No_findings/00002091_000.png\n",
            "/content/drive/My Drive/transferlearning/No_findings/00002670_000.png\n",
            "/content/drive/My Drive/transferlearning/No_findings/00003698_000.png\n",
            "/content/drive/My Drive/transferlearning/No_findings/00002633_011.png\n",
            "/content/drive/My Drive/transferlearning/No_findings/00003140_005.png\n",
            "/content/drive/My Drive/transferlearning/No_findings/00003560_001.png\n",
            "/content/drive/My Drive/transferlearning/No_findings/00003426_018.png\n",
            "/content/drive/My Drive/transferlearning/No_findings/00001638_000.png\n",
            "/content/drive/My Drive/transferlearning/No_findings/00001385_003.png\n",
            "/content/drive/My Drive/transferlearning/No_findings/00003680_000.png\n",
            "/content/drive/My Drive/transferlearning/No_findings/00003024_001.png\n",
            "/content/drive/My Drive/transferlearning/No_findings/00001620_005.png\n",
            "/content/drive/My Drive/transferlearning/No_findings/00002812_001.png\n",
            "/content/drive/My Drive/transferlearning/No_findings/00003080_000.png\n",
            "/content/drive/My Drive/transferlearning/No_findings/00001803_005.png\n",
            "/content/drive/My Drive/transferlearning/No_findings/00003914_001.png\n",
            "/content/drive/My Drive/transferlearning/No_findings/00003647_001.png\n",
            "/content/drive/My Drive/transferlearning/No_findings/00003426_008.png\n",
            "/content/drive/My Drive/transferlearning/No_findings/00003392_021.png\n",
            "/content/drive/My Drive/transferlearning/No_findings/00003867_004.png\n",
            "/content/drive/My Drive/transferlearning/No_findings/00001880_001.png\n",
            "/content/drive/My Drive/transferlearning/No_findings/00001968_003.png\n",
            "/content/drive/My Drive/transferlearning/No_findings/00002505_002.png\n",
            "/content/drive/My Drive/transferlearning/No_findings/00003562_001.png\n",
            "/content/drive/My Drive/transferlearning/No_findings/00002812_000.png\n",
            "/content/drive/My Drive/transferlearning/No_findings/00003140_001.png\n",
            "/content/drive/My Drive/transferlearning/No_findings/00003140_003.png\n",
            "/content/drive/My Drive/transferlearning/No_findings/00001516_000.png\n",
            "/content/drive/My Drive/transferlearning/No_findings/00003263_001.png\n",
            "/content/drive/My Drive/transferlearning/No_findings/00003478_004.png\n",
            "/content/drive/My Drive/transferlearning/No_findings/00002754_000.png\n",
            "/content/drive/My Drive/transferlearning/No_findings/00003646_001.png\n",
            "/content/drive/My Drive/transferlearning/No_findings/00001970_001.png\n",
            "/content/drive/My Drive/transferlearning/No_findings/00003366_002.png\n",
            "/content/drive/My Drive/transferlearning/No_findings/00001754_000.png\n",
            "/content/drive/My Drive/transferlearning/No_findings/00003120_000.png\n",
            "/content/drive/My Drive/transferlearning/No_findings/00002811_000.png\n",
            "/content/drive/My Drive/transferlearning/No_findings/00003190_015.png\n",
            "/content/drive/My Drive/transferlearning/No_findings/00001951_010.png\n",
            "/content/drive/My Drive/transferlearning/No_findings/00001684_012.png\n",
            "/content/drive/My Drive/transferlearning/No_findings/00002086_000.png\n",
            "/content/drive/My Drive/transferlearning/No_findings/00001576_001.png\n",
            "/content/drive/My Drive/transferlearning/No_findings/00002339_011.png\n",
            "/content/drive/My Drive/transferlearning/No_findings/00003828_000.png\n",
            "/content/drive/My Drive/transferlearning/No_findings/00001880_000.png\n",
            "/content/drive/My Drive/transferlearning/No_findings/00003417_000.png\n",
            "/content/drive/My Drive/transferlearning/No_findings/00001483_021.png\n",
            "/content/drive/My Drive/transferlearning/No_findings/00002048_014.png\n",
            "/content/drive/My Drive/transferlearning/No_findings/00002852_000.png\n",
            "/content/drive/My Drive/transferlearning/No_findings/00002904_000.png\n",
            "/content/drive/My Drive/transferlearning/No_findings/00003353_003.png\n",
            "/content/drive/My Drive/transferlearning/No_findings/00001986_005.png\n",
            "/content/drive/My Drive/transferlearning/No_findings/00003693_006.png\n",
            "/content/drive/My Drive/transferlearning/No_findings/00001470_003.png\n",
            "/content/drive/My Drive/transferlearning/No_findings/00003896_006.png\n",
            "/content/drive/My Drive/transferlearning/No_findings/00003773_000.png\n",
            "/content/drive/My Drive/transferlearning/No_findings/00001543_001.png\n",
            "/content/drive/My Drive/transferlearning/No_findings/00002104_006.png\n",
            "/content/drive/My Drive/transferlearning/No_findings/00001460_004.png\n",
            "/content/drive/My Drive/transferlearning/No_findings/00002949_000.png\n",
            "/content/drive/My Drive/transferlearning/No_findings/00001299_000.png\n",
            "/content/drive/My Drive/transferlearning/No_findings/00003438_000.png\n",
            "/content/drive/My Drive/transferlearning/No_findings/00002572_004.png\n",
            "/content/drive/My Drive/transferlearning/No_findings/00003407_005.png\n",
            "/content/drive/My Drive/transferlearning/No_findings/00003324_001.png\n",
            "/content/drive/My Drive/transferlearning/No_findings/00001720_002.png\n",
            "/content/drive/My Drive/transferlearning/No_findings/00001684_028.png\n",
            "/content/drive/My Drive/transferlearning/No_findings/00002381_004.png\n",
            "/content/drive/My Drive/transferlearning/No_findings/00003363_001.png\n",
            "/content/drive/My Drive/transferlearning/No_findings/00001684_011.png\n",
            "/content/drive/My Drive/transferlearning/No_findings/00002250_002.png\n",
            "/content/drive/My Drive/transferlearning/No_findings/00002474_006.png\n",
            "/content/drive/My Drive/transferlearning/No_findings/00003896_003.png\n",
            "/content/drive/My Drive/transferlearning/No_findings/00002262_010.png\n",
            "/content/drive/My Drive/transferlearning/No_findings/00001371_001.png\n",
            "/content/drive/My Drive/transferlearning/No_findings/00001395_009.png\n",
            "/content/drive/My Drive/transferlearning/No_findings/00002582_008.png\n",
            "/content/drive/My Drive/transferlearning/No_findings/00002239_004.png\n",
            "/content/drive/My Drive/transferlearning/No_findings/00001684_006.png\n",
            "/content/drive/My Drive/transferlearning/No_findings/00001993_002.png\n",
            "/content/drive/My Drive/transferlearning/No_findings/00002644_000.png\n",
            "/content/drive/My Drive/transferlearning/No_findings/00003005_013.png\n",
            "/content/drive/My Drive/transferlearning/No_findings/00003908_000.png\n",
            "/content/drive/My Drive/transferlearning/No_findings/00002843_019.png\n",
            "/content/drive/My Drive/transferlearning/No_findings/00002556_000.png\n",
            "/content/drive/My Drive/transferlearning/No_findings/00002582_005.png\n",
            "/content/drive/My Drive/transferlearning/No_findings/00003098_014.png\n",
            "/content/drive/My Drive/transferlearning/No_findings/00001573_000.png\n",
            "/content/drive/My Drive/transferlearning/No_findings/00002939_002.png\n",
            "/content/drive/My Drive/transferlearning/No_findings/00002645_002.png\n",
            "/content/drive/My Drive/transferlearning/No_findings/00002429_000.png\n",
            "/content/drive/My Drive/transferlearning/No_findings/00003428_002.png\n",
            "/content/drive/My Drive/transferlearning/No_findings/00003580_002.png\n",
            "/content/drive/My Drive/transferlearning/No_findings/00001300_000.png\n",
            "/content/drive/My Drive/transferlearning/No_findings/00003412_000.png\n",
            "/content/drive/My Drive/transferlearning/No_findings/00001595_002.png\n",
            "/content/drive/My Drive/transferlearning/No_findings/00002229_004.png\n",
            "/content/drive/My Drive/transferlearning/No_findings/00003392_019.png\n",
            "/content/drive/My Drive/transferlearning/No_findings/00001841_000.png\n",
            "/content/drive/My Drive/transferlearning/No_findings/00001700_001.png\n",
            "/content/drive/My Drive/transferlearning/No_findings/00001281_000.png\n",
            "/content/drive/My Drive/transferlearning/No_findings/00001613_000.png\n",
            "/content/drive/My Drive/transferlearning/No_findings/00003693_007.png\n",
            "/content/drive/My Drive/transferlearning/No_findings/00001992_015.png\n",
            "/content/drive/My Drive/transferlearning/No_findings/00001847_006.png\n",
            "/content/drive/My Drive/transferlearning/No_findings/00001504_002.png\n",
            "/content/drive/My Drive/transferlearning/No_findings/00002034_000.png\n",
            "/content/drive/My Drive/transferlearning/No_findings/00001803_002.png\n",
            "/content/drive/My Drive/transferlearning/No_findings/00003353_004.png\n",
            "/content/drive/My Drive/transferlearning/No_findings/00003709_007.png\n",
            "/content/drive/My Drive/transferlearning/No_findings/00001697_014.png\n",
            "/content/drive/My Drive/transferlearning/No_findings/00003310_000.png\n",
            "/content/drive/My Drive/transferlearning/No_findings/00003140_006.png\n",
            "/content/drive/My Drive/transferlearning/No_findings/00001543_006.png\n",
            "/content/drive/My Drive/transferlearning/No_findings/00003442_000.png\n",
            "/content/drive/My Drive/transferlearning/No_findings/00002572_005.png\n",
            "/content/drive/My Drive/transferlearning/No_findings/00003535_020.png\n",
            "/content/drive/My Drive/transferlearning/No_findings/00002022_000.png\n",
            "/content/drive/My Drive/transferlearning/No_findings/00003570_003.png\n",
            "/content/drive/My Drive/transferlearning/No_findings/00002032_006.png\n",
            "/content/drive/My Drive/transferlearning/No_findings/00002921_000.png\n",
            "/content/drive/My Drive/transferlearning/No_findings/00003363_002.png\n",
            "/content/drive/My Drive/transferlearning/No_findings/00003006_001.png\n",
            "/content/drive/My Drive/transferlearning/No_findings/00001763_000.png\n",
            "/content/drive/My Drive/transferlearning/No_findings/00002577_000.png\n",
            "/content/drive/My Drive/transferlearning/Covid-19/23E99E2E-447C-46E5-8EB2-D35D12473C39.png\n",
            "/content/drive/My Drive/transferlearning/Covid-19/85E52EB3-56E9-4D67-82DA-DEA247C82886.jpeg\n",
            "/content/drive/My Drive/transferlearning/Covid-19/jkms-35-e79-g001-l-c.jpg\n",
            "/content/drive/My Drive/transferlearning/Covid-19/353889E0-A1E8-4F9E-A0B8-F24F36BCFBFB.jpeg\n",
            "/content/drive/My Drive/transferlearning/Covid-19/41591_2020_819_Fig1_HTML.webp-day5.png\n",
            "/content/drive/My Drive/transferlearning/Covid-19/5e6dd879fde9502400e58b2f.jpeg\n",
            "/content/drive/My Drive/transferlearning/Covid-19/nejmc2001573_f1b.jpeg\n",
            "/content/drive/My Drive/transferlearning/Covid-19/1.CXRCTThoraximagesofCOVID-19fromSingapore.pdf-003-fig4b.png\n",
            "/content/drive/My Drive/transferlearning/Covid-19/2C10A413-AABE-4807-8CCE-6A2025594067.jpeg\n",
            "/content/drive/My Drive/transferlearning/Covid-19/kjr-21-e24-g003-l-a.jpg\n",
            "/content/drive/My Drive/transferlearning/Covid-19/7EF28E12-F628-4BEC-A8C5-E6277C2E4F60.png\n",
            "/content/drive/My Drive/transferlearning/Covid-19/171CB377-62FF-4B76-906C-F3787A01CB2E.jpeg\n",
            "/content/drive/My Drive/transferlearning/Covid-19/01E392EE-69F9-4E33-BFCE-E5C968654078.jpeg\n",
            "/content/drive/My Drive/transferlearning/Covid-19/E63574A7-4188-4C8D-8D17-9D67A18A1AFA.jpeg\n",
            "/content/drive/My Drive/transferlearning/Covid-19/F2DE909F-E19C-4900-92F5-8F435B031AC6.jpeg\n",
            "/content/drive/My Drive/transferlearning/Covid-19/ryct.2020200034.fig5-day7.jpeg\n",
            "/content/drive/My Drive/transferlearning/Covid-19/1-s2.0-S1684118220300682-main.pdf-002-a2.png\n",
            "/content/drive/My Drive/transferlearning/Covid-19/figure1-5e71be566aa8714a04de3386-98-left.jpeg\n",
            "/content/drive/My Drive/transferlearning/Covid-19/7E335538-2F86-424E-A0AB-6397783A38D0.jpeg\n",
            "/content/drive/My Drive/transferlearning/Covid-19/radiol.2020200490.fig3.jpeg\n",
            "/content/drive/My Drive/transferlearning/Covid-19/1312A392-67A3-4EBF-9319-810CF6DA5EF6.jpeg\n",
            "/content/drive/My Drive/transferlearning/Covid-19/ciaa199.pdf-001-c.png\n",
            "/content/drive/My Drive/transferlearning/Covid-19/covid-19-rapidly-progressive-acute-respiratory-distress-syndrome-ards-day-2.jpg\n",
            "/content/drive/My Drive/transferlearning/Covid-19/1-s2.0-S1684118220300608-main.pdf-001.jpg\n",
            "/content/drive/My Drive/transferlearning/Covid-19/auntminnie-d-2020_01_28_23_51_6665_2020_01_28_Vietnam_coronavirus.jpeg\n",
            "/content/drive/My Drive/transferlearning/Covid-19/58cb9263f16e94305c730685358e4e_jumbo.jpeg\n",
            "/content/drive/My Drive/transferlearning/Covid-19/nejmoa2001191_f5-PA.jpeg\n",
            "/content/drive/My Drive/transferlearning/Covid-19/covid-19-pneumonia-19.jpg\n",
            "/content/drive/My Drive/transferlearning/Covid-19/CD50BA96-6982-4C80-AE7B-5F67ACDBFA56.jpeg\n",
            "/content/drive/My Drive/transferlearning/Covid-19/F63AB6CE-1968-4154-A70F-913AF154F53D.jpeg\n",
            "/content/drive/My Drive/transferlearning/Covid-19/1.CXRCTThoraximagesofCOVID-19fromSingapore.pdf-001-fig2a.png\n",
            "/content/drive/My Drive/transferlearning/Covid-19/2C26F453-AF3B-4517-BB9E-802CF2179543.jpeg\n",
            "/content/drive/My Drive/transferlearning/Covid-19/1B734A89-A1BF-49A8-A1D3-66FAFA4FAC5D.jpeg\n",
            "/content/drive/My Drive/transferlearning/Covid-19/1-s2.0-S0929664620300449-gr2_lrg-c.jpg\n",
            "/content/drive/My Drive/transferlearning/Covid-19/1-s2.0-S1684118220300682-main.pdf-002-a1.png\n",
            "/content/drive/My Drive/transferlearning/Covid-19/covid-19-pneumonia-24-day12.jpg\n",
            "/content/drive/My Drive/transferlearning/Covid-19/446B2CB6-B572-40AB-B01F-1910CA07086A.jpeg\n",
            "/content/drive/My Drive/transferlearning/Covid-19/auntminnie-b-2020_01_28_23_51_6665_2020_01_28_Vietnam_coronavirus.jpeg\n",
            "/content/drive/My Drive/transferlearning/Covid-19/ryct.2020200034.fig5-day4.jpeg\n",
            "/content/drive/My Drive/transferlearning/Covid-19/1-s2.0-S0929664620300449-gr2_lrg-b.jpg\n",
            "/content/drive/My Drive/transferlearning/Covid-19/all14238-fig-0002-m-d.jpg\n",
            "/content/drive/My Drive/transferlearning/Covid-19/covid-19-pneumonia-24-day7.jpg\n",
            "/content/drive/My Drive/transferlearning/Covid-19/E1724330-1866-4581-8CD8-CEC9B8AFEDDE.jpeg\n",
            "/content/drive/My Drive/transferlearning/Covid-19/1-s2.0-S1684118220300608-main.pdf-002.jpg\n",
            "/content/drive/My Drive/transferlearning/Covid-19/6b44464d-73a7-4cf3-bbb6-ffe7168300e3.annot.original.jpeg\n",
            "/content/drive/My Drive/transferlearning/Covid-19/D7AF463C-2369-492D-908D-BE1911CCD74C.jpeg\n",
            "/content/drive/My Drive/transferlearning/Covid-19/nejmc2001573_f1a.jpeg\n",
            "/content/drive/My Drive/transferlearning/Covid-19/nejmoa2001191_f3-PA.jpeg\n",
            "/content/drive/My Drive/transferlearning/Covid-19/auntminnie-c-2020_01_28_23_51_6665_2020_01_28_Vietnam_coronavirus.jpeg\n",
            "/content/drive/My Drive/transferlearning/Covid-19/2966893D-5DDF-4B68-9E2B-4979D5956C8E.jpeg\n",
            "/content/drive/My Drive/transferlearning/Covid-19/39EE8E69-5801-48DE-B6E3-BE7D1BCF3092.jpeg\n",
            "/content/drive/My Drive/transferlearning/Covid-19/ryct.2020200034.fig2.jpeg\n",
            "/content/drive/My Drive/transferlearning/Covid-19/5CBC2E94-D358-401E-8928-965CCD965C5C.jpeg\n",
            "/content/drive/My Drive/transferlearning/Covid-19/9fdd3c3032296fd04d2cad5d9070d4_jumbo.jpeg\n",
            "/content/drive/My Drive/transferlearning/Covid-19/1.CXRCTThoraximagesofCOVID-19fromSingapore.pdf-000-fig1b.png\n",
            "/content/drive/My Drive/transferlearning/Covid-19/covid-19-pneumonia-evolution-over-a-week-1-day4.jpg\n",
            "/content/drive/My Drive/transferlearning/Covid-19/figure1-5e73d7ae897e27ff066a30cb-98.jpeg\n",
            "/content/drive/My Drive/transferlearning/Covid-19/all14238-fig-0001-m-c.jpg\n",
            "/content/drive/My Drive/transferlearning/Covid-19/covid-19-pneumonia-7-PA.jpg\n",
            "/content/drive/My Drive/transferlearning/Covid-19/5A78BCA9-5B7A-440D-8A4E-AE7710EA6EAD.jpeg\n",
            "/content/drive/My Drive/transferlearning/Covid-19/figure1-5e75d0940b71e1b702629659-98-right.jpeg\n",
            "/content/drive/My Drive/transferlearning/Covid-19/9C34AF49-E589-44D5-92D3-168B3B04E4A6.jpeg\n",
            "/content/drive/My Drive/transferlearning/Covid-19/ryct.2020200034.fig5-day0.jpeg\n",
            "/content/drive/My Drive/transferlearning/Covid-19/kjr-21-e25-g001-l-a.jpg\n",
            "/content/drive/My Drive/transferlearning/Covid-19/nCoV-radiol.2020200269.fig1-day7.jpeg\n",
            "/content/drive/My Drive/transferlearning/Covid-19/80446565-E090-4187-A031-9D3CEAA586C8.jpeg\n",
            "/content/drive/My Drive/transferlearning/Covid-19/2B8649B2-00C4-4233-85D5-1CE240CF233B.jpeg\n",
            "/content/drive/My Drive/transferlearning/Covid-19/covid-19-infection-exclusive-gastrointestinal-symptoms-pa.png\n",
            "/content/drive/My Drive/transferlearning/Covid-19/ryct.2020200028.fig1a.jpeg\n",
            "/content/drive/My Drive/transferlearning/Covid-19/8FDE8DBA-CFBD-4B4C-B1A4-6F36A93B7E87.jpeg\n",
            "/content/drive/My Drive/transferlearning/Covid-19/ciaa199.pdf-001-b.png\n",
            "/content/drive/My Drive/transferlearning/Covid-19/1-s2.0-S1684118220300682-main.pdf-003-b1.png\n",
            "/content/drive/My Drive/transferlearning/Covid-19/93FE0BB1-022D-4F24-9727-987A07975FFB.jpeg\n",
            "/content/drive/My Drive/transferlearning/Covid-19/covid-19-pneumonia-30-PA.jpg\n",
            "/content/drive/My Drive/transferlearning/Covid-19/03BF7561-A9BA-4C3C-B8A0-D3E585F73F3C.jpeg\n",
            "/content/drive/My Drive/transferlearning/Covid-19/1-s2.0-S0929664620300449-gr2_lrg-d.jpg\n",
            "/content/drive/My Drive/transferlearning/Covid-19/C6EA0BE5-B01E-4113-B194-18D956675E25.jpeg\n",
            "/content/drive/My Drive/transferlearning/Covid-19/covid-19-pneumonia-14-PA.png\n",
            "/content/drive/My Drive/transferlearning/Covid-19/FE9F9A5D-2830-46F9-851B-1FF4534959BE.jpeg\n",
            "/content/drive/My Drive/transferlearning/Covid-19/covid-19-pneumonia-evolution-over-a-week-1-day3.jpg\n",
            "/content/drive/My Drive/transferlearning/Covid-19/all14238-fig-0002-m-e.jpg\n",
            "/content/drive/My Drive/transferlearning/Covid-19/covid-19-pneumonia-evolution-over-a-week-1-day0-PA.jpg\n",
            "/content/drive/My Drive/transferlearning/Covid-19/53EC07C9-5CC6-4BE4-9B6F-D7B0D72AAA7E.jpeg\n",
            "/content/drive/My Drive/transferlearning/Covid-19/all14238-fig-0002-m-f.jpg\n",
            "/content/drive/My Drive/transferlearning/Covid-19/kjr-21-e24-g002-l-a.jpg\n",
            "/content/drive/My Drive/transferlearning/Covid-19/lancet-case2b.jpg\n",
            "/content/drive/My Drive/transferlearning/Covid-19/covid-19-pneumonia-12.jpg\n",
            "/content/drive/My Drive/transferlearning/Covid-19/covid-19-rapidly-progressive-acute-respiratory-distress-syndrome-ards-day-1.jpg\n",
            "/content/drive/My Drive/transferlearning/Covid-19/jkms-35-e79-g001-l-a.jpg\n",
            "/content/drive/My Drive/transferlearning/Covid-19/B59DD164-51D5-40DF-A926-6A42DD52EBE8.jpeg\n",
            "/content/drive/My Drive/transferlearning/Covid-19/1-s2.0-S1684118220300682-main.pdf-003-b2.png\n",
            "/content/drive/My Drive/transferlearning/Covid-19/41591_2020_819_Fig1_HTML.webp-day10.png\n",
            "/content/drive/My Drive/transferlearning/Covid-19/1.CXRCTThoraximagesofCOVID-19fromSingapore.pdf-002-fig3b.png\n",
            "/content/drive/My Drive/transferlearning/Covid-19/nejmoa2001191_f1-PA.jpeg\n",
            "/content/drive/My Drive/transferlearning/Covid-19/covid-19-pneumonia-rapidly-progressive-3-days.jpg\n",
            "/content/drive/My Drive/transferlearning/Covid-19/all14238-fig-0001-m-b.jpg\n",
            "/content/drive/My Drive/transferlearning/Covid-19/covid-19-pneumonia-rapidly-progressive-admission.jpg\n",
            "/content/drive/My Drive/transferlearning/Covid-19/auntminnie-a-2020_01_28_23_51_6665_2020_01_28_Vietnam_coronavirus.jpeg\n",
            "/content/drive/My Drive/transferlearning/Covid-19/ciaa199.pdf-001-a.png\n",
            "/content/drive/My Drive/transferlearning/Covid-19/31BA3780-2323-493F-8AED-62081B9C383B.jpeg\n",
            "/content/drive/My Drive/transferlearning/Covid-19/covid-19-pneumonia-28.png\n",
            "/content/drive/My Drive/transferlearning/Covid-19/covid-19-pneumonia-2.jpg\n",
            "/content/drive/My Drive/transferlearning/Covid-19/1F6343EE-AFEC-4B7D-97F5-62797EE18767.jpeg\n",
            "/content/drive/My Drive/transferlearning/Covid-19/7C69C012-7479-493F-8722-ABC29C60A2DD.jpeg\n",
            "/content/drive/My Drive/transferlearning/Covid-19/kjr-21-e24-g001-l-a.jpg\n",
            "/content/drive/My Drive/transferlearning/Covid-19/6CB4EFC6-68FA-4CD5-940C-BEFA8DAFE9A7.jpeg\n",
            "/content/drive/My Drive/transferlearning/Covid-19/covid-19-pneumonia-rapidly-progressive-12-hours.jpg\n",
            "/content/drive/My Drive/transferlearning/Covid-19/1.CXRCTThoraximagesofCOVID-19fromSingapore.pdf-003-fig4a.png\n",
            "/content/drive/My Drive/transferlearning/Covid-19/1-s2.0-S0140673620303706-fx1_lrg.jpg\n",
            "/content/drive/My Drive/transferlearning/Covid-19/jkms-35-e79-g001-l-b.jpg\n",
            "/content/drive/My Drive/transferlearning/Covid-19/nejmoa2001191_f4.jpeg\n",
            "/content/drive/My Drive/transferlearning/Covid-19/7AF6C1AF-D249-4BD2-8C26-449304105D03.jpeg\n",
            "/content/drive/My Drive/transferlearning/Covid-19/7D2CF6CE-F529-4470-8356-D33FFAF98600.jpeg\n",
            "/content/drive/My Drive/transferlearning/Covid-19/lancet-case2a.jpg\n",
            "/content/drive/My Drive/transferlearning/Covid-19/B2D20576-00B7-4519-A415-72DE29C90C34.jpeg\n",
            "/content/drive/My Drive/transferlearning/Covid-19/F4341CE7-73C9-45C6-99C8-8567A5484B63.jpeg\n",
            "/content/drive/My Drive/transferlearning/Covid-19/5931B64A-7B97-485D-BE60-3F1EA76BC4F0.jpeg\n",
            "/content/drive/My Drive/transferlearning/Covid-19/1.CXRCTThoraximagesofCOVID-19fromSingapore.pdf-002-fig3a.png\n",
            "/content/drive/My Drive/transferlearning/Covid-19/covid-19-rapidly-progressive-acute-respiratory-distress-syndrome-ards-admission.jpg\n",
            "/content/drive/My Drive/transferlearning/Covid-19/1.CXRCTThoraximagesofCOVID-19fromSingapore.pdf-001-fig2b.png\n",
            "/content/drive/My Drive/transferlearning/Covid-19/covid-19-pneumonia-15-PA.jpg\n",
            "/content/drive/My Drive/transferlearning/Covid-19/6C94A287-C059-46A0-8600-AFB95F4727B7.jpeg\n",
            "/content/drive/My Drive/transferlearning/Covid-19/1.CXRCTThoraximagesofCOVID-19fromSingapore.pdf-000-fig1a.png\n",
            "/content/drive/My Drive/transferlearning/Covid-19/covid-19-pneumonia-24-day6.jpg\n",
            "/content/drive/My Drive/transferlearning/Covid-19/1-s2.0-S0929664620300449-gr2_lrg-a.jpg\n"
          ],
          "name": "stdout"
        }
      ]
    },
    {
      "cell_type": "code",
      "metadata": {
        "id": "5DmfeShXIb82",
        "colab": {
          "base_uri": "https://localhost:8080/"
        },
        "outputId": "18704e96-bfd6-401e-852a-ea486d808f6d"
      },
      "source": [
        "X.shape"
      ],
      "execution_count": null,
      "outputs": [
        {
          "output_type": "execute_result",
          "data": {
            "text/plain": [
              "(625, 128, 128, 3)"
            ]
          },
          "metadata": {
            "tags": []
          },
          "execution_count": 7
        }
      ]
    },
    {
      "cell_type": "code",
      "metadata": {
        "id": "BNHdw4XOIhYt",
        "colab": {
          "base_uri": "https://localhost:8080/"
        },
        "outputId": "cf5be7e7-f8d4-4028-a3dd-2db87f513161"
      },
      "source": [
        "y.shape"
      ],
      "execution_count": null,
      "outputs": [
        {
          "output_type": "execute_result",
          "data": {
            "text/plain": [
              "(625,)"
            ]
          },
          "metadata": {
            "tags": []
          },
          "execution_count": 8
        }
      ]
    },
    {
      "cell_type": "code",
      "metadata": {
        "id": "fs7L5Gr5IjRu",
        "colab": {
          "base_uri": "https://localhost:8080/"
        },
        "outputId": "254f7583-ec99-45cb-b9fa-e643ad9ed009"
      },
      "source": [
        "y"
      ],
      "execution_count": null,
      "outputs": [
        {
          "output_type": "execute_result",
          "data": {
            "text/plain": [
              "array([0, 0, 0, 0, 0, 0, 0, 0, 0, 0, 0, 0, 0, 0, 0, 0, 0, 0, 0, 0, 0, 0,\n",
              "       0, 0, 0, 0, 0, 0, 0, 0, 0, 0, 0, 0, 0, 0, 0, 0, 0, 0, 0, 0, 0, 0,\n",
              "       0, 0, 0, 0, 0, 0, 0, 0, 0, 0, 0, 0, 0, 0, 0, 0, 0, 0, 0, 0, 0, 0,\n",
              "       0, 0, 0, 0, 0, 0, 0, 0, 0, 0, 0, 0, 0, 0, 0, 0, 0, 0, 0, 0, 0, 0,\n",
              "       0, 0, 0, 0, 0, 0, 0, 0, 0, 0, 0, 0, 0, 0, 0, 0, 0, 0, 0, 0, 0, 0,\n",
              "       0, 0, 0, 0, 0, 0, 0, 0, 0, 0, 0, 0, 0, 0, 0, 0, 0, 0, 0, 0, 0, 0,\n",
              "       0, 0, 0, 0, 0, 0, 0, 0, 0, 0, 0, 0, 0, 0, 0, 0, 0, 0, 0, 0, 0, 0,\n",
              "       0, 0, 0, 0, 0, 0, 0, 0, 0, 0, 0, 0, 0, 0, 0, 0, 0, 0, 0, 0, 0, 0,\n",
              "       0, 0, 0, 0, 0, 0, 0, 0, 0, 0, 0, 0, 0, 0, 0, 0, 0, 0, 0, 0, 0, 0,\n",
              "       0, 0, 0, 0, 0, 0, 0, 0, 0, 0, 0, 0, 0, 0, 0, 0, 0, 0, 0, 0, 0, 0,\n",
              "       0, 0, 0, 0, 0, 0, 0, 0, 0, 0, 0, 0, 0, 0, 0, 0, 0, 0, 0, 0, 0, 0,\n",
              "       0, 0, 0, 0, 0, 0, 0, 0, 0, 0, 0, 0, 0, 0, 0, 0, 0, 0, 0, 0, 0, 0,\n",
              "       0, 0, 0, 0, 0, 0, 0, 0, 0, 0, 0, 0, 0, 0, 0, 0, 0, 0, 0, 0, 0, 0,\n",
              "       0, 0, 0, 0, 0, 0, 0, 0, 0, 0, 0, 0, 0, 0, 0, 0, 0, 0, 0, 0, 0, 0,\n",
              "       0, 0, 0, 0, 0, 0, 0, 0, 0, 0, 0, 0, 0, 0, 0, 0, 0, 0, 0, 0, 0, 0,\n",
              "       0, 0, 0, 0, 0, 0, 0, 0, 0, 0, 0, 0, 0, 0, 0, 0, 0, 0, 0, 0, 0, 0,\n",
              "       0, 0, 0, 0, 0, 0, 0, 0, 0, 0, 0, 0, 0, 0, 0, 0, 0, 0, 0, 0, 0, 0,\n",
              "       0, 0, 0, 0, 0, 0, 0, 0, 0, 0, 0, 0, 0, 0, 0, 0, 0, 0, 0, 0, 0, 0,\n",
              "       0, 0, 0, 0, 0, 0, 0, 0, 0, 0, 0, 0, 0, 0, 0, 0, 0, 0, 0, 0, 0, 0,\n",
              "       0, 0, 0, 0, 0, 0, 0, 0, 0, 0, 0, 0, 0, 0, 0, 0, 0, 0, 0, 0, 0, 0,\n",
              "       0, 0, 0, 0, 0, 0, 0, 0, 0, 0, 0, 0, 0, 0, 0, 0, 0, 0, 0, 0, 0, 0,\n",
              "       0, 0, 0, 0, 0, 0, 0, 0, 0, 0, 0, 0, 0, 0, 0, 0, 0, 0, 0, 0, 0, 0,\n",
              "       0, 0, 0, 0, 0, 0, 0, 0, 0, 0, 0, 0, 0, 0, 0, 0, 1, 1, 1, 1, 1, 1,\n",
              "       1, 1, 1, 1, 1, 1, 1, 1, 1, 1, 1, 1, 1, 1, 1, 1, 1, 1, 1, 1, 1, 1,\n",
              "       1, 1, 1, 1, 1, 1, 1, 1, 1, 1, 1, 1, 1, 1, 1, 1, 1, 1, 1, 1, 1, 1,\n",
              "       1, 1, 1, 1, 1, 1, 1, 1, 1, 1, 1, 1, 1, 1, 1, 1, 1, 1, 1, 1, 1, 1,\n",
              "       1, 1, 1, 1, 1, 1, 1, 1, 1, 1, 1, 1, 1, 1, 1, 1, 1, 1, 1, 1, 1, 1,\n",
              "       1, 1, 1, 1, 1, 1, 1, 1, 1, 1, 1, 1, 1, 1, 1, 1, 1, 1, 1, 1, 1, 1,\n",
              "       1, 1, 1, 1, 1, 1, 1, 1, 1])"
            ]
          },
          "metadata": {
            "tags": []
          },
          "execution_count": 9
        }
      ]
    },
    {
      "cell_type": "code",
      "metadata": {
        "id": "t3tZf8kaFGvb",
        "colab": {
          "base_uri": "https://localhost:8080/",
          "height": 622
        },
        "outputId": "3a89d50f-bc3d-4e72-abe2-041df72de19a"
      },
      "source": [
        "#Visualizing few sample images from the dataset\n",
        "from matplotlib import pyplot\n",
        "\n",
        "# plot first few images from data\n",
        "for i in range(42):\n",
        "    # define subplot\n",
        "    pyplot.subplot(331+ i)\n",
        "    # plot raw pixel data\n",
        "    pyplot.imshow(X[i], cmap=pyplot.get_cmap('gray'))\n",
        "# show the figure\n",
        "pyplot.show()"
      ],
      "execution_count": null,
      "outputs": [
        {
          "output_type": "error",
          "ename": "ValueError",
          "evalue": "ignored",
          "traceback": [
            "\u001b[0;31m---------------------------------------------------------------------------\u001b[0m",
            "\u001b[0;31mValueError\u001b[0m                                Traceback (most recent call last)",
            "\u001b[0;32m<ipython-input-10-7b54bd4729cf>\u001b[0m in \u001b[0;36m<module>\u001b[0;34m()\u001b[0m\n\u001b[1;32m      5\u001b[0m \u001b[0;32mfor\u001b[0m \u001b[0mi\u001b[0m \u001b[0;32min\u001b[0m \u001b[0mrange\u001b[0m\u001b[0;34m(\u001b[0m\u001b[0;36m42\u001b[0m\u001b[0;34m)\u001b[0m\u001b[0;34m:\u001b[0m\u001b[0;34m\u001b[0m\u001b[0;34m\u001b[0m\u001b[0m\n\u001b[1;32m      6\u001b[0m     \u001b[0;31m# define subplot\u001b[0m\u001b[0;34m\u001b[0m\u001b[0;34m\u001b[0m\u001b[0;34m\u001b[0m\u001b[0m\n\u001b[0;32m----> 7\u001b[0;31m     \u001b[0mpyplot\u001b[0m\u001b[0;34m.\u001b[0m\u001b[0msubplot\u001b[0m\u001b[0;34m(\u001b[0m\u001b[0;36m331\u001b[0m\u001b[0;34m+\u001b[0m \u001b[0mi\u001b[0m\u001b[0;34m)\u001b[0m\u001b[0;34m\u001b[0m\u001b[0;34m\u001b[0m\u001b[0m\n\u001b[0m\u001b[1;32m      8\u001b[0m     \u001b[0;31m# plot raw pixel data\u001b[0m\u001b[0;34m\u001b[0m\u001b[0;34m\u001b[0m\u001b[0;34m\u001b[0m\u001b[0m\n\u001b[1;32m      9\u001b[0m     \u001b[0mpyplot\u001b[0m\u001b[0;34m.\u001b[0m\u001b[0mimshow\u001b[0m\u001b[0;34m(\u001b[0m\u001b[0mX\u001b[0m\u001b[0;34m[\u001b[0m\u001b[0mi\u001b[0m\u001b[0;34m]\u001b[0m\u001b[0;34m,\u001b[0m \u001b[0mcmap\u001b[0m\u001b[0;34m=\u001b[0m\u001b[0mpyplot\u001b[0m\u001b[0;34m.\u001b[0m\u001b[0mget_cmap\u001b[0m\u001b[0;34m(\u001b[0m\u001b[0;34m'gray'\u001b[0m\u001b[0;34m)\u001b[0m\u001b[0;34m)\u001b[0m\u001b[0;34m\u001b[0m\u001b[0;34m\u001b[0m\u001b[0m\n",
            "\u001b[0;32m/usr/local/lib/python3.6/dist-packages/matplotlib/pyplot.py\u001b[0m in \u001b[0;36msubplot\u001b[0;34m(*args, **kwargs)\u001b[0m\n\u001b[1;32m   1028\u001b[0m \u001b[0;34m\u001b[0m\u001b[0m\n\u001b[1;32m   1029\u001b[0m     \u001b[0mfig\u001b[0m \u001b[0;34m=\u001b[0m \u001b[0mgcf\u001b[0m\u001b[0;34m(\u001b[0m\u001b[0;34m)\u001b[0m\u001b[0;34m\u001b[0m\u001b[0;34m\u001b[0m\u001b[0m\n\u001b[0;32m-> 1030\u001b[0;31m     \u001b[0ma\u001b[0m \u001b[0;34m=\u001b[0m \u001b[0mfig\u001b[0m\u001b[0;34m.\u001b[0m\u001b[0madd_subplot\u001b[0m\u001b[0;34m(\u001b[0m\u001b[0;34m*\u001b[0m\u001b[0margs\u001b[0m\u001b[0;34m,\u001b[0m \u001b[0;34m**\u001b[0m\u001b[0mkwargs\u001b[0m\u001b[0;34m)\u001b[0m\u001b[0;34m\u001b[0m\u001b[0;34m\u001b[0m\u001b[0m\n\u001b[0m\u001b[1;32m   1031\u001b[0m     \u001b[0mbbox\u001b[0m \u001b[0;34m=\u001b[0m \u001b[0ma\u001b[0m\u001b[0;34m.\u001b[0m\u001b[0mbbox\u001b[0m\u001b[0;34m\u001b[0m\u001b[0;34m\u001b[0m\u001b[0m\n\u001b[1;32m   1032\u001b[0m     \u001b[0mbyebye\u001b[0m \u001b[0;34m=\u001b[0m \u001b[0;34m[\u001b[0m\u001b[0;34m]\u001b[0m\u001b[0;34m\u001b[0m\u001b[0;34m\u001b[0m\u001b[0m\n",
            "\u001b[0;32m/usr/local/lib/python3.6/dist-packages/matplotlib/figure.py\u001b[0m in \u001b[0;36madd_subplot\u001b[0;34m(self, *args, **kwargs)\u001b[0m\n\u001b[1;32m   1417\u001b[0m                     \u001b[0mself\u001b[0m\u001b[0;34m.\u001b[0m\u001b[0m_axstack\u001b[0m\u001b[0;34m.\u001b[0m\u001b[0mremove\u001b[0m\u001b[0;34m(\u001b[0m\u001b[0max\u001b[0m\u001b[0;34m)\u001b[0m\u001b[0;34m\u001b[0m\u001b[0;34m\u001b[0m\u001b[0m\n\u001b[1;32m   1418\u001b[0m \u001b[0;34m\u001b[0m\u001b[0m\n\u001b[0;32m-> 1419\u001b[0;31m             \u001b[0ma\u001b[0m \u001b[0;34m=\u001b[0m \u001b[0msubplot_class_factory\u001b[0m\u001b[0;34m(\u001b[0m\u001b[0mprojection_class\u001b[0m\u001b[0;34m)\u001b[0m\u001b[0;34m(\u001b[0m\u001b[0mself\u001b[0m\u001b[0;34m,\u001b[0m \u001b[0;34m*\u001b[0m\u001b[0margs\u001b[0m\u001b[0;34m,\u001b[0m \u001b[0;34m**\u001b[0m\u001b[0mkwargs\u001b[0m\u001b[0;34m)\u001b[0m\u001b[0;34m\u001b[0m\u001b[0;34m\u001b[0m\u001b[0m\n\u001b[0m\u001b[1;32m   1420\u001b[0m \u001b[0;34m\u001b[0m\u001b[0m\n\u001b[1;32m   1421\u001b[0m         \u001b[0;32mreturn\u001b[0m \u001b[0mself\u001b[0m\u001b[0;34m.\u001b[0m\u001b[0m_add_axes_internal\u001b[0m\u001b[0;34m(\u001b[0m\u001b[0mkey\u001b[0m\u001b[0;34m,\u001b[0m \u001b[0ma\u001b[0m\u001b[0;34m)\u001b[0m\u001b[0;34m\u001b[0m\u001b[0;34m\u001b[0m\u001b[0m\n",
            "\u001b[0;32m/usr/local/lib/python3.6/dist-packages/matplotlib/axes/_subplots.py\u001b[0m in \u001b[0;36m__init__\u001b[0;34m(self, fig, *args, **kwargs)\u001b[0m\n\u001b[1;32m     64\u001b[0m                 \u001b[0;32mif\u001b[0m \u001b[0mnum\u001b[0m \u001b[0;34m<\u001b[0m \u001b[0;36m1\u001b[0m \u001b[0;32mor\u001b[0m \u001b[0mnum\u001b[0m \u001b[0;34m>\u001b[0m \u001b[0mrows\u001b[0m\u001b[0;34m*\u001b[0m\u001b[0mcols\u001b[0m\u001b[0;34m:\u001b[0m\u001b[0;34m\u001b[0m\u001b[0;34m\u001b[0m\u001b[0m\n\u001b[1;32m     65\u001b[0m                     raise ValueError(\n\u001b[0;32m---> 66\u001b[0;31m                         f\"num must be 1 <= num <= {rows*cols}, not {num}\")\n\u001b[0m\u001b[1;32m     67\u001b[0m                 self._subplotspec = GridSpec(\n\u001b[1;32m     68\u001b[0m                         rows, cols, figure=self.figure)[int(num) - 1]\n",
            "\u001b[0;31mValueError\u001b[0m: num must be 1 <= num <= 12, not 0"
          ]
        },
        {
          "output_type": "display_data",
          "data": {
            "image/png": "[encoded data removed]",
            "text/plain": [
              "<Figure size 432x288 with 9 Axes>"
            ]
          },
          "metadata": {
            "tags": [],
            "needs_background": "light"
          }
        }
      ]
    },
    {
      "cell_type": "code",
      "metadata": {
        "id": "6OzYXzphFGvg"
      },
      "source": [
        "#split the data into train and test\n",
        "from sklearn.model_selection import train_test_split\n",
        "\n",
        "X_train,X_test,y_train,y_test = train_test_split(X,y,test_size=0.3,random_state=0)"
      ],
      "execution_count": null,
      "outputs": []
    },
    {
      "cell_type": "code",
      "metadata": {
        "id": "1OtE6ZNHI2s_",
        "colab": {
          "base_uri": "https://localhost:8080/"
        },
        "outputId": "011b0a39-e17c-4d1b-d2a3-8d929938a9a7"
      },
      "source": [
        "X_train.shape"
      ],
      "execution_count": null,
      "outputs": [
        {
          "output_type": "execute_result",
          "data": {
            "text/plain": [
              "(437, 128, 128, 3)"
            ]
          },
          "metadata": {
            "tags": []
          },
          "execution_count": 12
        }
      ]
    },
    {
      "cell_type": "code",
      "metadata": {
        "id": "XQi3ulj4I9UK",
        "colab": {
          "base_uri": "https://localhost:8080/"
        },
        "outputId": "f5679abe-fd5b-4ab1-ce0a-59e749644a47"
      },
      "source": [
        "X_test.shape"
      ],
      "execution_count": null,
      "outputs": [
        {
          "output_type": "execute_result",
          "data": {
            "text/plain": [
              "(188, 128, 128, 3)"
            ]
          },
          "metadata": {
            "tags": []
          },
          "execution_count": 13
        }
      ]
    },
    {
      "cell_type": "code",
      "metadata": {
        "id": "dNq7gXMOFGvm"
      },
      "source": [
        "from keras.models import Sequential\n",
        "from keras.layers import Conv2D, MaxPooling2D, Flatten, Dropout, BatchNormalization, Dense"
      ],
      "execution_count": null,
      "outputs": []
    },
    {
      "cell_type": "markdown",
      "metadata": {
        "id": "4JFMqsy8FGvr"
      },
      "source": [
        "# **Implementing a CNN Model**\n",
        "# **Without Dropout & BatchNormalization**"
      ]
    },
    {
      "cell_type": "code",
      "metadata": {
        "id": "EV_gHVLDFGvs"
      },
      "source": [
        "model = Sequential()\n",
        "model.add(Conv2D(32,(3,3),activation='relu',input_shape=(128,128,3)))\n",
        "model.add(MaxPooling2D((2,2)))\n",
        "model.add(Conv2D(64,(3,3),activation='relu'))\n",
        "model.add(MaxPooling2D((2,2)))\n",
        "model.add(Conv2D(128,(3,3),activation='relu'))\n",
        "model.add(MaxPooling2D((2,2)))\n",
        "model.add(Conv2D(128,(3,3),activation='relu'))\n",
        "model.add(MaxPooling2D((2,2)))\n",
        "\n",
        "model.add(Conv2D(128,(3,3),activation='relu'))\n",
        "model.add(MaxPooling2D((2,2)))\n",
        "model.add(Flatten())\n",
        "model.add(Dense(64,activation='relu'))\n",
        "model.add(Dense(1,activation='sigmoid'))\n",
        "model.compile(loss='binary_crossentropy',optimizer='adam',metrics=['accuracy'])"
      ],
      "execution_count": null,
      "outputs": []
    },
    {
      "cell_type": "code",
      "metadata": {
        "id": "FPTdP1fsbT8_",
        "colab": {
          "base_uri": "https://localhost:8080/",
          "height": 588
        },
        "outputId": "c5dadedf-e4c6-4907-9b75-d21c36d1dc61"
      },
      "source": [
        "model.summary()"
      ],
      "execution_count": null,
      "outputs": [
        {
          "output_type": "stream",
          "text": [
            "Model: \"sequential_1\"\n",
            "_________________________________________________________________\n",
            "Layer (type)                 Output Shape              Param #   \n",
            "=================================================================\n",
            "conv2d_5 (Conv2D)            (None, 126, 126, 32)      896       \n",
            "_________________________________________________________________\n",
            "max_pooling2d_5 (MaxPooling2 (None, 63, 63, 32)        0         \n",
            "_________________________________________________________________\n",
            "conv2d_6 (Conv2D)            (None, 61, 61, 64)        18496     \n",
            "_________________________________________________________________\n",
            "max_pooling2d_6 (MaxPooling2 (None, 30, 30, 64)        0         \n",
            "_________________________________________________________________\n",
            "conv2d_7 (Conv2D)            (None, 28, 28, 128)       73856     \n",
            "_________________________________________________________________\n",
            "max_pooling2d_7 (MaxPooling2 (None, 14, 14, 128)       0         \n",
            "_________________________________________________________________\n",
            "conv2d_8 (Conv2D)            (None, 12, 12, 128)       147584    \n",
            "_________________________________________________________________\n",
            "max_pooling2d_8 (MaxPooling2 (None, 6, 6, 128)         0         \n",
            "_________________________________________________________________\n",
            "conv2d_9 (Conv2D)            (None, 4, 4, 128)         147584    \n",
            "_________________________________________________________________\n",
            "max_pooling2d_9 (MaxPooling2 (None, 2, 2, 128)         0         \n",
            "_________________________________________________________________\n",
            "flatten_1 (Flatten)          (None, 512)               0         \n",
            "_________________________________________________________________\n",
            "dense_2 (Dense)              (None, 64)                32832     \n",
            "_________________________________________________________________\n",
            "dense_3 (Dense)              (None, 1)                 65        \n",
            "=================================================================\n",
            "Total params: 421,313\n",
            "Trainable params: 421,313\n",
            "Non-trainable params: 0\n",
            "_________________________________________________________________\n"
          ],
          "name": "stdout"
        }
      ]
    },
    {
      "cell_type": "code",
      "metadata": {
        "id": "n4KvjHx_FGv0",
        "colab": {
          "base_uri": "https://localhost:8080/",
          "height": 370
        },
        "outputId": "7b2f443a-c96b-4fe9-c2a7-78018691c529"
      },
      "source": [
        "model.fit(X_train,y_train,batch_size=8,epochs=10,validation_split=0.1)"
      ],
      "execution_count": null,
      "outputs": [
        {
          "output_type": "stream",
          "text": [
            "Epoch 1/10\n",
            "57/57 [==============================] - 1s 11ms/step - loss: 1.3009 - accuracy: 0.7644 - val_loss: 0.2844 - val_accuracy: 0.9200\n",
            "Epoch 2/10\n",
            "57/57 [==============================] - 0s 5ms/step - loss: 0.2265 - accuracy: 0.9000 - val_loss: 0.3524 - val_accuracy: 0.8000\n",
            "Epoch 3/10\n",
            "57/57 [==============================] - 0s 5ms/step - loss: 0.2265 - accuracy: 0.8911 - val_loss: 0.2397 - val_accuracy: 0.8800\n",
            "Epoch 4/10\n",
            "57/57 [==============================] - 0s 5ms/step - loss: 0.1694 - accuracy: 0.9333 - val_loss: 0.1832 - val_accuracy: 0.9000\n",
            "Epoch 5/10\n",
            "57/57 [==============================] - 0s 5ms/step - loss: 0.1251 - accuracy: 0.9444 - val_loss: 0.1500 - val_accuracy: 0.9400\n",
            "Epoch 6/10\n",
            "57/57 [==============================] - 0s 5ms/step - loss: 0.1407 - accuracy: 0.9467 - val_loss: 0.1585 - val_accuracy: 0.9400\n",
            "Epoch 7/10\n",
            "57/57 [==============================] - 0s 5ms/step - loss: 0.1540 - accuracy: 0.9422 - val_loss: 0.1056 - val_accuracy: 0.9600\n",
            "Epoch 8/10\n",
            "57/57 [==============================] - 0s 5ms/step - loss: 0.1146 - accuracy: 0.9511 - val_loss: 0.1596 - val_accuracy: 0.9000\n",
            "Epoch 9/10\n",
            "57/57 [==============================] - 0s 5ms/step - loss: 0.1530 - accuracy: 0.9444 - val_loss: 0.2176 - val_accuracy: 0.9000\n",
            "Epoch 10/10\n",
            "57/57 [==============================] - 0s 5ms/step - loss: 0.1509 - accuracy: 0.9489 - val_loss: 0.2023 - val_accuracy: 0.9400\n"
          ],
          "name": "stdout"
        },
        {
          "output_type": "execute_result",
          "data": {
            "text/plain": [
              "<tensorflow.python.keras.callbacks.History at 0x7fbee0e03f60>"
            ]
          },
          "metadata": {
            "tags": []
          },
          "execution_count": 23
        }
      ]
    },
    {
      "cell_type": "code",
      "metadata": {
        "id": "2nDcqCjjFGv6",
        "colab": {
          "base_uri": "https://localhost:8080/",
          "height": 50
        },
        "outputId": "fe943abd-0f8a-46d2-ca09-5087877bdd2a"
      },
      "source": [
        "# Final evaluation of the model\n",
        "scores = model.evaluate(X_test, y_test)\n",
        "print(\"Accuracy: %.2f%%\" % (scores[1]*100))"
      ],
      "execution_count": null,
      "outputs": [
        {
          "output_type": "stream",
          "text": [
            "4/4 [==============================] - 0s 13ms/step - loss: 0.1699 - accuracy: 0.9280\n",
            "Accuracy: 92.80%\n"
          ],
          "name": "stdout"
        }
      ]
    },
    {
      "cell_type": "markdown",
      "metadata": {
        "id": "r9IZWNYBFGwA"
      },
      "source": [
        "**CNN With Dropout & BatchNormalization**"
      ]
    },
    {
      "cell_type": "code",
      "metadata": {
        "id": "nEJIjHuWFGwA"
      },
      "source": [
        "model = Sequential()\n",
        "model.add(Conv2D(32,(3,3),activation='relu',input_shape=(128,128,3)))\n",
        "model.add(MaxPooling2D((2,2)))\n",
        "model.add(BatchNormalization())\n",
        "model.add(Conv2D(32,(3,3),activation='relu'))\n",
        "model.add(MaxPooling2D((2,2)))\n",
        "model.add(BatchNormalization())\n",
        "model.add(Conv2D(32,(3,3),activation='relu'))\n",
        "model.add(MaxPooling2D((2,2)))\n",
        "model.add(BatchNormalization())\n",
        "model.add(Conv2D(32,(3,3),activation='relu'))\n",
        "model.add(MaxPooling2D((2,2)))\n",
        "model.add(BatchNormalization())\n",
        "model.add(Conv2D(32,(3,3),activation='relu'))\n",
        "model.add(MaxPooling2D((2,2)))\n",
        "model.add(Flatten())\n",
        "model.add(Dense(64,activation='relu'))\n",
        "model.add(Dropout(0.2))\n",
        "model.add(Dense(1,activation='sigmoid'))\n",
        "model.compile(loss='binary_crossentropy',optimizer='adam',metrics=['accuracy'])"
      ],
      "execution_count": null,
      "outputs": []
    },
    {
      "cell_type": "code",
      "metadata": {
        "id": "ZKPM7bFedS83"
      },
      "source": [
        ""
      ],
      "execution_count": null,
      "outputs": []
    },
    {
      "cell_type": "code",
      "metadata": {
        "id": "bS0MCmw9FGwF",
        "colab": {
          "base_uri": "https://localhost:8080/",
          "height": 370
        },
        "outputId": "2301dad4-df42-4997-e5ce-a6c674b15c01"
      },
      "source": [
        "model.fit(X_train,y_train,batch_size=8,epochs=10,validation_split=0.1)"
      ],
      "execution_count": null,
      "outputs": [
        {
          "output_type": "stream",
          "text": [
            "Epoch 1/10\n",
            "57/57 [==============================] - 0s 8ms/step - loss: 0.2720 - accuracy: 0.8911 - val_loss: 0.4486 - val_accuracy: 0.7600\n",
            "Epoch 2/10\n",
            "57/57 [==============================] - 0s 5ms/step - loss: 0.1188 - accuracy: 0.9622 - val_loss: 0.2388 - val_accuracy: 0.8600\n",
            "Epoch 3/10\n",
            "57/57 [==============================] - 0s 5ms/step - loss: 0.0814 - accuracy: 0.9689 - val_loss: 0.4509 - val_accuracy: 0.8600\n",
            "Epoch 4/10\n",
            "57/57 [==============================] - 0s 5ms/step - loss: 0.0891 - accuracy: 0.9689 - val_loss: 0.3107 - val_accuracy: 0.8000\n",
            "Epoch 5/10\n",
            "57/57 [==============================] - 0s 5ms/step - loss: 0.0666 - accuracy: 0.9733 - val_loss: 0.1318 - val_accuracy: 0.9200\n",
            "Epoch 6/10\n",
            "57/57 [==============================] - 0s 5ms/step - loss: 0.0813 - accuracy: 0.9756 - val_loss: 0.3866 - val_accuracy: 0.8400\n",
            "Epoch 7/10\n",
            "57/57 [==============================] - 0s 5ms/step - loss: 0.0550 - accuracy: 0.9778 - val_loss: 0.2612 - val_accuracy: 0.9000\n",
            "Epoch 8/10\n",
            "57/57 [==============================] - 0s 5ms/step - loss: 0.0182 - accuracy: 0.9933 - val_loss: 0.1895 - val_accuracy: 0.9400\n",
            "Epoch 9/10\n",
            "57/57 [==============================] - 0s 5ms/step - loss: 0.0086 - accuracy: 1.0000 - val_loss: 0.3347 - val_accuracy: 0.8600\n",
            "Epoch 10/10\n",
            "57/57 [==============================] - 0s 5ms/step - loss: 0.0172 - accuracy: 0.9978 - val_loss: 0.1938 - val_accuracy: 0.8800\n"
          ],
          "name": "stdout"
        },
        {
          "output_type": "execute_result",
          "data": {
            "text/plain": [
              "<tensorflow.python.keras.callbacks.History at 0x7fbede38c978>"
            ]
          },
          "metadata": {
            "tags": []
          },
          "execution_count": 26
        }
      ]
    },
    {
      "cell_type": "code",
      "metadata": {
        "id": "BNw4RFRSFGwL",
        "colab": {
          "base_uri": "https://localhost:8080/",
          "height": 50
        },
        "outputId": "1b60d4a0-241f-47e5-f61d-cc71382f69c9"
      },
      "source": [
        "# Final evaluation of the model\n",
        "scores = model.evaluate(X_test, y_test)\n",
        "print(\"Accuracy: %.2f%%\" % (scores[1]*100))"
      ],
      "execution_count": null,
      "outputs": [
        {
          "output_type": "stream",
          "text": [
            "4/4 [==============================] - 0s 8ms/step - loss: 0.2238 - accuracy: 0.8800\n",
            "Accuracy: 88.00%\n"
          ],
          "name": "stdout"
        }
      ]
    },
    {
      "cell_type": "markdown",
      "metadata": {
        "id": "CNarcqExFGwQ"
      },
      "source": [
        "**With Dropout & BatchNormalization & Model CheckPoint**"
      ]
    },
    {
      "cell_type": "code",
      "metadata": {
        "id": "UJ5ZC0wLFGwR"
      },
      "source": [
        "from keras.callbacks import ModelCheckpoint\n",
        "filename = '/content/drive/My Drive/transferlearning/best_model.h5'\n",
        "checkpoint = ModelCheckpoint(filename, monitor='val_loss', verbose=1, save_best_only=True, mode='min')"
      ],
      "execution_count": null,
      "outputs": []
    },
    {
      "cell_type": "code",
      "metadata": {
        "id": "T-XQl3BbFGwW"
      },
      "source": [
        "model = Sequential()\n",
        "model.add(Conv2D(32,(3,3),activation='relu',input_shape=(128,128,3)))\n",
        "model.add(BatchNormalization())\n",
        "model.add(MaxPooling2D((2,2)))\n",
        "#model.add(BatchNormalization())\n",
        "model.add(Conv2D(32,(3,3),activation='relu'))\n",
        "model.add(BatchNormalization())\n",
        "model.add(MaxPooling2D((2,2)))\n",
        "#model.add(BatchNormalization())\n",
        "model.add(Conv2D(32,(3,3),activation='relu'))\n",
        "model.add(BatchNormalization())\n",
        "model.add(MaxPooling2D((2,2)))\n",
        "#model.add(BatchNormalization())\n",
        "model.add(Conv2D(32,(3,3),activation='relu'))\n",
        "model.add(BatchNormalization())\n",
        "model.add(MaxPooling2D((2,2)))\n",
        "#model.add(BatchNormalization())\n",
        "model.add(Conv2D(32,(3,3),activation='relu'))\n",
        "model.add(BatchNormalization())\n",
        "model.add(MaxPooling2D((2,2)))\n",
        "model.add(Flatten())\n",
        "model.add(Dense(64,activation='relu'))\n",
        "model.add(Dropout(0.2))\n",
        "model.add(Dense(1,activation='sigmoid'))\n",
        "model.compile(loss='binary_crossentropy',optimizer='adam',metrics=['accuracy'])"
      ],
      "execution_count": null,
      "outputs": []
    },
    {
      "cell_type": "code",
      "metadata": {
        "id": "2w6s1y5sdYqb",
        "colab": {
          "base_uri": "https://localhost:8080/",
          "height": 790
        },
        "outputId": "9506453d-136b-4df6-8dd2-de13ffd655e1"
      },
      "source": [
        "model.summary()"
      ],
      "execution_count": null,
      "outputs": [
        {
          "output_type": "stream",
          "text": [
            "Model: \"sequential_6\"\n",
            "_________________________________________________________________\n",
            "Layer (type)                 Output Shape              Param #   \n",
            "=================================================================\n",
            "conv2d_30 (Conv2D)           (None, 126, 126, 32)      896       \n",
            "_________________________________________________________________\n",
            "batch_normalization_25 (Batc (None, 126, 126, 32)      128       \n",
            "_________________________________________________________________\n",
            "max_pooling2d_30 (MaxPooling (None, 63, 63, 32)        0         \n",
            "_________________________________________________________________\n",
            "conv2d_31 (Conv2D)           (None, 61, 61, 32)        9248      \n",
            "_________________________________________________________________\n",
            "batch_normalization_26 (Batc (None, 61, 61, 32)        128       \n",
            "_________________________________________________________________\n",
            "max_pooling2d_31 (MaxPooling (None, 30, 30, 32)        0         \n",
            "_________________________________________________________________\n",
            "conv2d_32 (Conv2D)           (None, 28, 28, 32)        9248      \n",
            "_________________________________________________________________\n",
            "batch_normalization_27 (Batc (None, 28, 28, 32)        128       \n",
            "_________________________________________________________________\n",
            "max_pooling2d_32 (MaxPooling (None, 14, 14, 32)        0         \n",
            "_________________________________________________________________\n",
            "conv2d_33 (Conv2D)           (None, 12, 12, 32)        9248      \n",
            "_________________________________________________________________\n",
            "batch_normalization_28 (Batc (None, 12, 12, 32)        128       \n",
            "_________________________________________________________________\n",
            "max_pooling2d_33 (MaxPooling (None, 6, 6, 32)          0         \n",
            "_________________________________________________________________\n",
            "conv2d_34 (Conv2D)           (None, 4, 4, 32)          9248      \n",
            "_________________________________________________________________\n",
            "batch_normalization_29 (Batc (None, 4, 4, 32)          128       \n",
            "_________________________________________________________________\n",
            "max_pooling2d_34 (MaxPooling (None, 2, 2, 32)          0         \n",
            "_________________________________________________________________\n",
            "flatten_6 (Flatten)          (None, 128)               0         \n",
            "_________________________________________________________________\n",
            "dense_12 (Dense)             (None, 64)                8256      \n",
            "_________________________________________________________________\n",
            "dropout_6 (Dropout)          (None, 64)                0         \n",
            "_________________________________________________________________\n",
            "dense_13 (Dense)             (None, 1)                 65        \n",
            "=================================================================\n",
            "Total params: 46,849\n",
            "Trainable params: 46,529\n",
            "Non-trainable params: 320\n",
            "_________________________________________________________________\n"
          ],
          "name": "stdout"
        }
      ]
    },
    {
      "cell_type": "code",
      "metadata": {
        "id": "m3QKTs03FGwb",
        "colab": {
          "base_uri": "https://localhost:8080/",
          "height": 1000
        },
        "outputId": "8455744f-a966-4992-8232-cc4865d93edb"
      },
      "source": [
        "history=model.fit(X_train,y_train,batch_size=16,epochs=50,validation_split=0.1,callbacks=[checkpoint])"
      ],
      "execution_count": null,
      "outputs": [
        {
          "output_type": "stream",
          "text": [
            "Epoch 1/50\n",
            "22/25 [=========================>....] - ETA: 0s - loss: 0.3521 - accuracy: 0.8551\n",
            "Epoch 00001: val_loss improved from inf to 1.14523, saving model to /content/drive/My Drive/transferlearning/best_model.h5\n",
            "25/25 [==============================] - 1s 53ms/step - loss: 0.3265 - accuracy: 0.8677 - val_loss: 1.1452 - val_accuracy: 0.3182\n",
            "Epoch 2/50\n",
            "24/25 [===========================>..] - ETA: 0s - loss: 0.1243 - accuracy: 0.9557\n",
            "Epoch 00002: val_loss improved from 1.14523 to 0.45005, saving model to /content/drive/My Drive/transferlearning/best_model.h5\n",
            "25/25 [==============================] - 1s 22ms/step - loss: 0.1243 - accuracy: 0.9542 - val_loss: 0.4500 - val_accuracy: 0.7727\n",
            "Epoch 3/50\n",
            "25/25 [==============================] - ETA: 0s - loss: 0.1001 - accuracy: 0.9644\n",
            "Epoch 00003: val_loss improved from 0.45005 to 0.36169, saving model to /content/drive/My Drive/transferlearning/best_model.h5\n",
            "25/25 [==============================] - 1s 20ms/step - loss: 0.1001 - accuracy: 0.9644 - val_loss: 0.3617 - val_accuracy: 0.8409\n",
            "Epoch 4/50\n",
            "25/25 [==============================] - ETA: 0s - loss: 0.0576 - accuracy: 0.9847\n",
            "Epoch 00004: val_loss improved from 0.36169 to 0.32931, saving model to /content/drive/My Drive/transferlearning/best_model.h5\n",
            "25/25 [==============================] - 1s 20ms/step - loss: 0.0576 - accuracy: 0.9847 - val_loss: 0.3293 - val_accuracy: 0.8409\n",
            "Epoch 5/50\n",
            "25/25 [==============================] - ETA: 0s - loss: 0.0379 - accuracy: 0.9873\n",
            "Epoch 00005: val_loss improved from 0.32931 to 0.20691, saving model to /content/drive/My Drive/transferlearning/best_model.h5\n",
            "25/25 [==============================] - 1s 21ms/step - loss: 0.0379 - accuracy: 0.9873 - val_loss: 0.2069 - val_accuracy: 0.9318\n",
            "Epoch 6/50\n",
            "25/25 [==============================] - ETA: 0s - loss: 0.0307 - accuracy: 0.9924\n",
            "Epoch 00006: val_loss improved from 0.20691 to 0.15475, saving model to /content/drive/My Drive/transferlearning/best_model.h5\n",
            "25/25 [==============================] - 1s 20ms/step - loss: 0.0307 - accuracy: 0.9924 - val_loss: 0.1547 - val_accuracy: 0.9545\n",
            "Epoch 7/50\n",
            "25/25 [==============================] - ETA: 0s - loss: 0.0374 - accuracy: 0.9873\n",
            "Epoch 00007: val_loss did not improve from 0.15475\n",
            "25/25 [==============================] - 0s 16ms/step - loss: 0.0374 - accuracy: 0.9873 - val_loss: 0.2333 - val_accuracy: 0.8409\n",
            "Epoch 8/50\n",
            "25/25 [==============================] - ETA: 0s - loss: 0.0401 - accuracy: 0.9949\n",
            "Epoch 00008: val_loss did not improve from 0.15475\n",
            "25/25 [==============================] - 0s 16ms/step - loss: 0.0401 - accuracy: 0.9949 - val_loss: 0.2097 - val_accuracy: 0.9091\n",
            "Epoch 9/50\n",
            "25/25 [==============================] - ETA: 0s - loss: 0.0435 - accuracy: 0.9847\n",
            "Epoch 00009: val_loss did not improve from 0.15475\n",
            "25/25 [==============================] - 0s 16ms/step - loss: 0.0435 - accuracy: 0.9847 - val_loss: 0.4157 - val_accuracy: 0.7727\n",
            "Epoch 10/50\n",
            "25/25 [==============================] - ETA: 0s - loss: 0.0329 - accuracy: 0.9822\n",
            "Epoch 00010: val_loss did not improve from 0.15475\n",
            "25/25 [==============================] - 0s 16ms/step - loss: 0.0329 - accuracy: 0.9822 - val_loss: 0.2294 - val_accuracy: 0.9091\n",
            "Epoch 11/50\n",
            "25/25 [==============================] - ETA: 0s - loss: 0.0276 - accuracy: 0.9898\n",
            "Epoch 00011: val_loss did not improve from 0.15475\n",
            "25/25 [==============================] - 0s 16ms/step - loss: 0.0276 - accuracy: 0.9898 - val_loss: 0.3490 - val_accuracy: 0.8636\n",
            "Epoch 12/50\n",
            "24/25 [===========================>..] - ETA: 0s - loss: 0.0212 - accuracy: 0.9948\n",
            "Epoch 00012: val_loss did not improve from 0.15475\n",
            "25/25 [==============================] - 0s 16ms/step - loss: 0.0210 - accuracy: 0.9949 - val_loss: 0.3780 - val_accuracy: 0.8864\n",
            "Epoch 13/50\n",
            "25/25 [==============================] - ETA: 0s - loss: 0.0098 - accuracy: 0.9949\n",
            "Epoch 00013: val_loss did not improve from 0.15475\n",
            "25/25 [==============================] - 0s 16ms/step - loss: 0.0098 - accuracy: 0.9949 - val_loss: 0.2969 - val_accuracy: 0.8409\n",
            "Epoch 14/50\n",
            "25/25 [==============================] - ETA: 0s - loss: 0.0106 - accuracy: 0.9975\n",
            "Epoch 00014: val_loss did not improve from 0.15475\n",
            "25/25 [==============================] - 0s 16ms/step - loss: 0.0106 - accuracy: 0.9975 - val_loss: 0.1809 - val_accuracy: 0.9091\n",
            "Epoch 15/50\n",
            "25/25 [==============================] - ETA: 0s - loss: 0.0171 - accuracy: 0.9924\n",
            "Epoch 00015: val_loss improved from 0.15475 to 0.10287, saving model to /content/drive/My Drive/transferlearning/best_model.h5\n",
            "25/25 [==============================] - 1s 21ms/step - loss: 0.0171 - accuracy: 0.9924 - val_loss: 0.1029 - val_accuracy: 0.9545\n",
            "Epoch 16/50\n",
            "25/25 [==============================] - ETA: 0s - loss: 0.0236 - accuracy: 0.9898\n",
            "Epoch 00016: val_loss did not improve from 0.10287\n",
            "25/25 [==============================] - 0s 16ms/step - loss: 0.0236 - accuracy: 0.9898 - val_loss: 0.1160 - val_accuracy: 0.9545\n",
            "Epoch 17/50\n",
            "25/25 [==============================] - ETA: 0s - loss: 0.0144 - accuracy: 0.9975\n",
            "Epoch 00017: val_loss did not improve from 0.10287\n",
            "25/25 [==============================] - 0s 16ms/step - loss: 0.0144 - accuracy: 0.9975 - val_loss: 0.2193 - val_accuracy: 0.9318\n",
            "Epoch 18/50\n",
            "25/25 [==============================] - ETA: 0s - loss: 0.0056 - accuracy: 0.9975\n",
            "Epoch 00018: val_loss did not improve from 0.10287\n",
            "25/25 [==============================] - 0s 17ms/step - loss: 0.0056 - accuracy: 0.9975 - val_loss: 0.2683 - val_accuracy: 0.8864\n",
            "Epoch 19/50\n",
            "25/25 [==============================] - ETA: 0s - loss: 0.0082 - accuracy: 1.0000\n",
            "Epoch 00019: val_loss did not improve from 0.10287\n",
            "25/25 [==============================] - 0s 16ms/step - loss: 0.0082 - accuracy: 1.0000 - val_loss: 0.3514 - val_accuracy: 0.8864\n",
            "Epoch 20/50\n",
            "25/25 [==============================] - ETA: 0s - loss: 0.0052 - accuracy: 1.0000\n",
            "Epoch 00020: val_loss did not improve from 0.10287\n",
            "25/25 [==============================] - 0s 17ms/step - loss: 0.0052 - accuracy: 1.0000 - val_loss: 0.3294 - val_accuracy: 0.8864\n",
            "Epoch 21/50\n",
            "23/25 [==========================>...] - ETA: 0s - loss: 0.0017 - accuracy: 1.0000\n",
            "Epoch 00021: val_loss did not improve from 0.10287\n",
            "25/25 [==============================] - 0s 17ms/step - loss: 0.0016 - accuracy: 1.0000 - val_loss: 0.3795 - val_accuracy: 0.8864\n",
            "Epoch 22/50\n",
            "25/25 [==============================] - ETA: 0s - loss: 0.0018 - accuracy: 1.0000\n",
            "Epoch 00022: val_loss did not improve from 0.10287\n",
            "25/25 [==============================] - 0s 16ms/step - loss: 0.0018 - accuracy: 1.0000 - val_loss: 0.4122 - val_accuracy: 0.8864\n",
            "Epoch 23/50\n",
            "24/25 [===========================>..] - ETA: 0s - loss: 9.8062e-04 - accuracy: 1.0000\n",
            "Epoch 00023: val_loss did not improve from 0.10287\n",
            "25/25 [==============================] - 0s 17ms/step - loss: 9.5827e-04 - accuracy: 1.0000 - val_loss: 0.3374 - val_accuracy: 0.9091\n",
            "Epoch 24/50\n",
            "24/25 [===========================>..] - ETA: 0s - loss: 0.0018 - accuracy: 1.0000\n",
            "Epoch 00024: val_loss did not improve from 0.10287\n",
            "25/25 [==============================] - 0s 17ms/step - loss: 0.0017 - accuracy: 1.0000 - val_loss: 0.3883 - val_accuracy: 0.9091\n",
            "Epoch 25/50\n",
            "23/25 [==========================>...] - ETA: 0s - loss: 0.0010 - accuracy: 1.0000\n",
            "Epoch 00025: val_loss did not improve from 0.10287\n",
            "25/25 [==============================] - 0s 17ms/step - loss: 0.0012 - accuracy: 1.0000 - val_loss: 0.3830 - val_accuracy: 0.9318\n",
            "Epoch 26/50\n",
            "24/25 [===========================>..] - ETA: 0s - loss: 0.0010 - accuracy: 1.0000\n",
            "Epoch 00026: val_loss did not improve from 0.10287\n",
            "25/25 [==============================] - 0s 17ms/step - loss: 0.0010 - accuracy: 1.0000 - val_loss: 0.3417 - val_accuracy: 0.9318\n",
            "Epoch 27/50\n",
            "24/25 [===========================>..] - ETA: 0s - loss: 7.7063e-04 - accuracy: 1.0000\n",
            "Epoch 00027: val_loss did not improve from 0.10287\n",
            "25/25 [==============================] - 0s 17ms/step - loss: 7.5375e-04 - accuracy: 1.0000 - val_loss: 0.2933 - val_accuracy: 0.9318\n",
            "Epoch 28/50\n",
            "22/25 [=========================>....] - ETA: 0s - loss: 4.6502e-04 - accuracy: 1.0000\n",
            "Epoch 00028: val_loss did not improve from 0.10287\n",
            "25/25 [==============================] - 0s 17ms/step - loss: 4.4683e-04 - accuracy: 1.0000 - val_loss: 0.2669 - val_accuracy: 0.9318\n",
            "Epoch 29/50\n",
            "22/25 [=========================>....] - ETA: 0s - loss: 5.9872e-04 - accuracy: 1.0000\n",
            "Epoch 00029: val_loss did not improve from 0.10287\n",
            "25/25 [==============================] - 0s 18ms/step - loss: 5.5685e-04 - accuracy: 1.0000 - val_loss: 0.2264 - val_accuracy: 0.9318\n",
            "Epoch 30/50\n",
            "23/25 [==========================>...] - ETA: 0s - loss: 4.7721e-04 - accuracy: 1.0000\n",
            "Epoch 00030: val_loss did not improve from 0.10287\n",
            "25/25 [==============================] - 0s 17ms/step - loss: 5.9077e-04 - accuracy: 1.0000 - val_loss: 0.2210 - val_accuracy: 0.9318\n",
            "Epoch 31/50\n",
            "23/25 [==========================>...] - ETA: 0s - loss: 6.1957e-04 - accuracy: 1.0000\n",
            "Epoch 00031: val_loss did not improve from 0.10287\n",
            "25/25 [==============================] - 0s 17ms/step - loss: 6.0341e-04 - accuracy: 1.0000 - val_loss: 0.1615 - val_accuracy: 0.9318\n",
            "Epoch 32/50\n",
            "24/25 [===========================>..] - ETA: 0s - loss: 5.1804e-04 - accuracy: 1.0000\n",
            "Epoch 00032: val_loss did not improve from 0.10287\n",
            "25/25 [==============================] - 0s 17ms/step - loss: 5.1462e-04 - accuracy: 1.0000 - val_loss: 0.1554 - val_accuracy: 0.9545\n",
            "Epoch 33/50\n",
            "25/25 [==============================] - ETA: 0s - loss: 3.1906e-04 - accuracy: 1.0000\n",
            "Epoch 00033: val_loss did not improve from 0.10287\n",
            "25/25 [==============================] - 0s 17ms/step - loss: 3.1906e-04 - accuracy: 1.0000 - val_loss: 0.1675 - val_accuracy: 0.9545\n",
            "Epoch 34/50\n",
            "22/25 [=========================>....] - ETA: 0s - loss: 6.2791e-04 - accuracy: 1.0000\n",
            "Epoch 00034: val_loss did not improve from 0.10287\n",
            "25/25 [==============================] - 0s 17ms/step - loss: 5.7553e-04 - accuracy: 1.0000 - val_loss: 0.2207 - val_accuracy: 0.9318\n",
            "Epoch 35/50\n",
            "25/25 [==============================] - ETA: 0s - loss: 4.0419e-04 - accuracy: 1.0000\n",
            "Epoch 00035: val_loss did not improve from 0.10287\n",
            "25/25 [==============================] - 0s 18ms/step - loss: 4.0419e-04 - accuracy: 1.0000 - val_loss: 0.2406 - val_accuracy: 0.9318\n",
            "Epoch 36/50\n",
            "23/25 [==========================>...] - ETA: 0s - loss: 3.5644e-04 - accuracy: 1.0000\n",
            "Epoch 00036: val_loss did not improve from 0.10287\n",
            "25/25 [==============================] - 0s 17ms/step - loss: 3.4190e-04 - accuracy: 1.0000 - val_loss: 0.2518 - val_accuracy: 0.9318\n",
            "Epoch 37/50\n",
            "25/25 [==============================] - ETA: 0s - loss: 1.6581e-04 - accuracy: 1.0000\n",
            "Epoch 00037: val_loss did not improve from 0.10287\n",
            "25/25 [==============================] - 0s 18ms/step - loss: 1.6581e-04 - accuracy: 1.0000 - val_loss: 0.2338 - val_accuracy: 0.9318\n",
            "Epoch 38/50\n",
            "22/25 [=========================>....] - ETA: 0s - loss: 1.1596e-04 - accuracy: 1.0000\n",
            "Epoch 00038: val_loss did not improve from 0.10287\n",
            "25/25 [==============================] - 0s 17ms/step - loss: 1.5355e-04 - accuracy: 1.0000 - val_loss: 0.2346 - val_accuracy: 0.9318\n",
            "Epoch 39/50\n",
            "23/25 [==========================>...] - ETA: 0s - loss: 2.5719e-04 - accuracy: 1.0000\n",
            "Epoch 00039: val_loss did not improve from 0.10287\n",
            "25/25 [==============================] - 0s 17ms/step - loss: 2.8153e-04 - accuracy: 1.0000 - val_loss: 0.2282 - val_accuracy: 0.9545\n",
            "Epoch 40/50\n",
            "25/25 [==============================] - ETA: 0s - loss: 1.5644e-04 - accuracy: 1.0000\n",
            "Epoch 00040: val_loss did not improve from 0.10287\n",
            "25/25 [==============================] - 0s 17ms/step - loss: 1.5644e-04 - accuracy: 1.0000 - val_loss: 0.1806 - val_accuracy: 0.9545\n",
            "Epoch 41/50\n",
            "22/25 [=========================>....] - ETA: 0s - loss: 6.0434e-05 - accuracy: 1.0000\n",
            "Epoch 00041: val_loss did not improve from 0.10287\n",
            "25/25 [==============================] - 0s 17ms/step - loss: 5.7914e-05 - accuracy: 1.0000 - val_loss: 0.1794 - val_accuracy: 0.9545\n",
            "Epoch 42/50\n",
            "24/25 [===========================>..] - ETA: 0s - loss: 1.7124e-04 - accuracy: 1.0000\n",
            "Epoch 00042: val_loss did not improve from 0.10287\n",
            "25/25 [==============================] - 0s 17ms/step - loss: 1.6895e-04 - accuracy: 1.0000 - val_loss: 0.1906 - val_accuracy: 0.9545\n",
            "Epoch 43/50\n",
            "22/25 [=========================>....] - ETA: 0s - loss: 2.9950e-04 - accuracy: 1.0000\n",
            "Epoch 00043: val_loss did not improve from 0.10287\n",
            "25/25 [==============================] - 0s 17ms/step - loss: 2.7636e-04 - accuracy: 1.0000 - val_loss: 0.1909 - val_accuracy: 0.9545\n",
            "Epoch 44/50\n",
            "24/25 [===========================>..] - ETA: 0s - loss: 1.5845e-04 - accuracy: 1.0000\n",
            "Epoch 00044: val_loss did not improve from 0.10287\n",
            "25/25 [==============================] - 0s 18ms/step - loss: 1.5720e-04 - accuracy: 1.0000 - val_loss: 0.2087 - val_accuracy: 0.9545\n",
            "Epoch 45/50\n",
            "25/25 [==============================] - ETA: 0s - loss: 1.4407e-04 - accuracy: 1.0000\n",
            "Epoch 00045: val_loss did not improve from 0.10287\n",
            "25/25 [==============================] - 0s 17ms/step - loss: 1.4407e-04 - accuracy: 1.0000 - val_loss: 0.1973 - val_accuracy: 0.9545\n",
            "Epoch 46/50\n",
            "22/25 [=========================>....] - ETA: 0s - loss: 8.6860e-05 - accuracy: 1.0000\n",
            "Epoch 00046: val_loss did not improve from 0.10287\n",
            "25/25 [==============================] - 0s 18ms/step - loss: 8.1100e-05 - accuracy: 1.0000 - val_loss: 0.2019 - val_accuracy: 0.9545\n",
            "Epoch 47/50\n",
            "23/25 [==========================>...] - ETA: 0s - loss: 1.0555e-04 - accuracy: 1.0000\n",
            "Epoch 00047: val_loss did not improve from 0.10287\n",
            "25/25 [==============================] - 0s 17ms/step - loss: 9.9835e-05 - accuracy: 1.0000 - val_loss: 0.2181 - val_accuracy: 0.9545\n",
            "Epoch 48/50\n",
            "24/25 [===========================>..] - ETA: 0s - loss: 1.4430e-04 - accuracy: 1.0000\n",
            "Epoch 00048: val_loss did not improve from 0.10287\n",
            "25/25 [==============================] - 0s 17ms/step - loss: 1.4500e-04 - accuracy: 1.0000 - val_loss: 0.2138 - val_accuracy: 0.9545\n",
            "Epoch 49/50\n",
            "22/25 [=========================>....] - ETA: 0s - loss: 2.3337e-04 - accuracy: 1.0000\n",
            "Epoch 00049: val_loss did not improve from 0.10287\n",
            "25/25 [==============================] - 0s 17ms/step - loss: 2.2252e-04 - accuracy: 1.0000 - val_loss: 0.1811 - val_accuracy: 0.9545\n",
            "Epoch 50/50\n",
            "25/25 [==============================] - ETA: 0s - loss: 3.2295e-04 - accuracy: 1.0000\n",
            "Epoch 00050: val_loss did not improve from 0.10287\n",
            "25/25 [==============================] - 0s 17ms/step - loss: 3.2295e-04 - accuracy: 1.0000 - val_loss: 0.4014 - val_accuracy: 0.9318\n"
          ],
          "name": "stdout"
        }
      ]
    },
    {
      "cell_type": "code",
      "metadata": {
        "id": "gntCKewaFGwf",
        "colab": {
          "base_uri": "https://localhost:8080/",
          "height": 50
        },
        "outputId": "e79302e2-6bbd-4f3f-b92c-673fadf48913"
      },
      "source": [
        "from keras.models import load_model\n",
        "model = load_model(filename)\n",
        "\n",
        "# Final evaluation of the model\n",
        "scores = model.evaluate(X_test, y_test)\n",
        "print(\"Accuracy: %.2f%%\" % (scores[1]*100))"
      ],
      "execution_count": null,
      "outputs": [
        {
          "output_type": "stream",
          "text": [
            "6/6 [==============================] - 0s 10ms/step - loss: 0.1274 - accuracy: 0.9521\n",
            "Accuracy: 95.21%\n"
          ],
          "name": "stdout"
        }
      ]
    },
    {
      "cell_type": "code",
      "metadata": {
        "id": "6z9jhEvjFGwj",
        "colab": {
          "base_uri": "https://localhost:8080/",
          "height": 573
        },
        "outputId": "78ca0e46-7c1e-436b-eda7-8390f907cd1f"
      },
      "source": [
        "import matplotlib.pyplot as plt\n",
        "#summary for \n",
        "#plt.bar(history.history['accuracy'],height=0,width=0.25)\n",
        "#plt.bar(history.history['val_accuracy'],height=0.5,width=0.25)\n",
        "plt.bar(history.history['val_accuracy'],height=1,color='g')\n",
        "plt.bar(history.history['accuracy'],height=1,color='b')\n",
        "plt.title('model.accuracy')\n",
        "plt.ylabel('accuracy')\n",
        "plt.xlabel('epoch')\n",
        "plt.legend(['test','train'],loc='upper right')\n",
        "\n",
        "plt.show()\n",
        "\n",
        "plt.bar(history.history['loss'],height=1)\n",
        "plt.bar(history.history['val_accuracy'],height=1)\n",
        "plt.title('model loss')\n",
        "plt.ylabel('loss')\n",
        "plt.xlabel('epoch')\n",
        "plt.legend(['train','test'],loc='upper right')\n",
        "plt.show()"
      ],
      "execution_count": null,
      "outputs": [
        {
          "output_type": "display_data",
          "data": {
            "image/png": "[encoded data removed]",
            "text/plain": [
              "<Figure size 432x288 with 1 Axes>"
            ]
          },
          "metadata": {
            "tags": [],
            "needs_background": "light"
          }
        },
        {
          "output_type": "display_data",
          "data": {
            "image/png": "[encoded data removed]",
            "text/plain": [
              "<Figure size 432x288 with 1 Axes>"
            ]
          },
          "metadata": {
            "tags": [],
            "needs_background": "light"
          }
        }
      ]
    },
    {
      "cell_type": "code",
      "metadata": {
        "id": "pXCTCm9Q5cCJ",
        "colab": {
          "base_uri": "https://localhost:8080/",
          "height": 330
        },
        "outputId": "e1a02c67-d75f-44ea-c150-c37aba99c47d"
      },
      "source": [
        "import matplotlib.pyplot as plt\n",
        "#summary for \n",
        "#plt.bar(history.history['accuracy'],height=0,width=0.25)\n",
        "#plt.bar(history.history['val_accuracy'],height=0.5,width=0.25)\n",
        "plt.plot(history.history['val_accuracy'])\n",
        "plt.plot(history.history['accuracy'])\n",
        "plt.title('model.accuracy')\n",
        "plt.ylabel('accuracy')\n",
        "plt.xlabel('epoch')\n",
        "plt.legend(['test','train'],loc='upper right')\n",
        "\n",
        "plt.show()\n",
        "'''\n",
        "plt.plot(history.history['loss'])\n",
        "plt.plot(history.history['val_accuracy'])\n",
        "plt.title('model loss')\n",
        "plt.ylabel('loss')\n",
        "plt.xlabel('epoch')\n",
        "plt.legend(['train','test'],loc='upper right')\n",
        "plt.show()'''"
      ],
      "execution_count": null,
      "outputs": [
        {
          "output_type": "display_data",
          "data": {
            "image/png": "[encoded data removed]",
            "text/plain": [
              "<Figure size 432x288 with 1 Axes>"
            ]
          },
          "metadata": {
            "tags": [],
            "needs_background": "light"
          }
        },
        {
          "output_type": "execute_result",
          "data": {
            "application/vnd.google.colaboratory.intrinsic+json": {
              "type": "string"
            },
            "text/plain": [
              "\"\\nplt.plot(history.history['loss'])\\nplt.plot(history.history['val_accuracy'])\\nplt.title('model loss')\\nplt.ylabel('loss')\\nplt.xlabel('epoch')\\nplt.legend(['train','test'],loc='upper right')\\nplt.show()\""
            ]
          },
          "metadata": {
            "tags": []
          },
          "execution_count": 86
        }
      ]
    },
    {
      "cell_type": "code",
      "metadata": {
        "id": "m2MpP8niKBUS",
        "colab": {
          "base_uri": "https://localhost:8080/",
          "height": 295
        },
        "outputId": "9c0c2f29-d2e3-41a5-e8d9-2ad4defb583c"
      },
      "source": [
        "\n",
        "plt.plot(history.history['loss'])\n",
        "plt.plot(history.history['val_accuracy'])\n",
        "plt.title('model loss')\n",
        "plt.ylabel('loss')\n",
        "plt.xlabel('epoch')\n",
        "plt.legend(['train','test'],loc='upper right')\n",
        "plt.show()"
      ],
      "execution_count": null,
      "outputs": [
        {
          "output_type": "display_data",
          "data": {
            "image/png": "[encoded data removed]",
            "text/plain": [
              "<Figure size 432x288 with 1 Axes>"
            ]
          },
          "metadata": {
            "tags": [],
            "needs_background": "light"
          }
        }
      ]
    },
    {
      "cell_type": "code",
      "metadata": {
        "id": "TaQYtaeYSaQ4",
        "colab": {
          "base_uri": "https://localhost:8080/",
          "height": 70
        },
        "outputId": "5008ff73-cdc9-45a3-8a01-62a90dbfec28"
      },
      "source": [
        "from keras.models import load_model\n",
        "model=load_model(filename)\n",
        "predictions=model.predict_generator(X_test,steps=188//16,verbose=1)"
      ],
      "execution_count": null,
      "outputs": [
        {
          "output_type": "stream",
          "text": [
            " 1/11 [=>............................] - ETA: 0sWARNING:tensorflow:Callbacks method `on_predict_batch_end` is slow compared to the batch time (batch time: 0.0024s vs `on_predict_batch_end` time: 0.0045s). Check your callbacks.\n",
            "11/11 [==============================] - 0s 6ms/step\n"
          ],
          "name": "stdout"
        }
      ]
    },
    {
      "cell_type": "code",
      "metadata": {
        "id": "-C3UXhjpSwpz"
      },
      "source": [
        "y_pred=np.argmax(predictions,axis=1)"
      ],
      "execution_count": null,
      "outputs": []
    },
    {
      "cell_type": "code",
      "metadata": {
        "id": "3fSCpUVsLMUr",
        "colab": {
          "base_uri": "https://localhost:8080/",
          "height": 272
        },
        "outputId": "2eba5a19-6c71-499c-ca5d-ab97dc3d315f"
      },
      "source": [
        "from sklearn.metrics import classification_report,confusion_matrix\n",
        "\n",
        "print(confusion_matrix(y_test,y_pred))\n",
        "print(\"-\"*70)\n",
        "print(classification_report(y_test,y_pred))"
      ],
      "execution_count": null,
      "outputs": [
        {
          "output_type": "stream",
          "text": [
            "[[150   0]\n",
            " [ 38   0]]\n",
            "----------------------------------------------------------------------\n",
            "              precision    recall  f1-score   support\n",
            "\n",
            "           0       0.80      1.00      0.89       150\n",
            "           1       0.00      0.00      0.00        38\n",
            "\n",
            "    accuracy                           0.80       188\n",
            "   macro avg       0.40      0.50      0.44       188\n",
            "weighted avg       0.64      0.80      0.71       188\n",
            "\n"
          ],
          "name": "stdout"
        },
        {
          "output_type": "stream",
          "text": [
            "/usr/local/lib/python3.6/dist-packages/sklearn/metrics/_classification.py:1272: UndefinedMetricWarning: Precision and F-score are ill-defined and being set to 0.0 in labels with no predicted samples. Use `zero_division` parameter to control this behavior.\n",
            "  _warn_prf(average, modifier, msg_start, len(result))\n"
          ],
          "name": "stderr"
        }
      ]
    },
    {
      "cell_type": "code",
      "metadata": {
        "id": "AMFgQzpRQ27s"
      },
      "source": [
        ""
      ],
      "execution_count": null,
      "outputs": []
    }
  ]
}