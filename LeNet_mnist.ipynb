{
  "nbformat": 4,
  "nbformat_minor": 0,
  "metadata": {
    "kernelspec": {
      "display_name": "Python 3",
      "language": "python",
      "name": "python3"
    },
    "language_info": {
      "codemirror_mode": {
        "name": "ipython",
        "version": 3
      },
      "file_extension": ".py",
      "mimetype": "text/x-python",
      "name": "python",
      "nbconvert_exporter": "python",
      "pygments_lexer": "ipython3",
      "version": "3.6.6"
    },
    "colab": {
      "name": "LeNet mnist.ipynb",
      "provenance": [],
      "collapsed_sections": []
    },
    "accelerator": "GPU"
  },
  "cells": [
    {
      "cell_type": "code",
      "metadata": {
        "id": "B2d6luIbFNYw"
      },
      "source": [
        "import numpy as np\n",
        "from keras.datasets import mnist\n",
        "from matplotlib import pyplot\n",
        "from keras.utils import np_utils"
      ],
      "execution_count": 1,
      "outputs": []
    },
    {
      "cell_type": "code",
      "metadata": {
        "id": "4D03bNewV6hb",
        "colab": {
          "base_uri": "https://localhost:8080/"
        },
        "outputId": "b318f844-13d1-4a3d-84e3-26c597b9c8c7"
      },
      "source": [
        "(X_train,Y_train),(X_test,Y_test)=mnist.load_data()"
      ],
      "execution_count": 2,
      "outputs": [
        {
          "output_type": "stream",
          "text": [
            "Downloading data from https://storage.googleapis.com/tensorflow/tf-keras-datasets/mnist.npz\n",
            "11493376/11490434 [==============================] - 0s 0us/step\n"
          ],
          "name": "stdout"
        }
      ]
    },
    {
      "cell_type": "code",
      "metadata": {
        "id": "YFXtjE79WSst"
      },
      "source": [
        "#print('Train x=%s,y=%s'%(X_train.shape,Y_train.shape))\n",
        "#print('Test x=%s,y=%s' %(X_test.shape,Y_test.shape))"
      ],
      "execution_count": null,
      "outputs": []
    },
    {
      "cell_type": "code",
      "metadata": {
        "id": "mHYlQG6TEIc-"
      },
      "source": [
        "Y_train = np_utils.to_categorical(Y_train, 10)\n",
        "Y_test = np_utils.to_categorical(Y_test, 10)"
      ],
      "execution_count": null,
      "outputs": []
    },
    {
      "cell_type": "code",
      "metadata": {
        "id": "CC43oEM22jwW"
      },
      "source": [
        "X_train=X_train.reshape(X_train.shape[0], 28, 28,1)\n",
        "\n",
        "\n"
      ],
      "execution_count": null,
      "outputs": []
    },
    {
      "cell_type": "code",
      "metadata": {
        "id": "AyPC4L-J7YTO"
      },
      "source": [
        "X_test = X_test.reshape(X_test.shape[0], 28,28,1)"
      ],
      "execution_count": null,
      "outputs": []
    },
    {
      "cell_type": "code",
      "metadata": {
        "id": "fs7L5Gr5IjRu"
      },
      "source": [
        "from keras.models import Sequential\n",
        "from keras.layers import Conv2D, MaxPooling2D, Flatten,Dense,Dropout"
      ],
      "execution_count": null,
      "outputs": []
    },
    {
      "cell_type": "code",
      "metadata": {
        "id": "EV_gHVLDFGvs"
      },
      "source": [
        "model = Sequential()\n",
        "model.add(Conv2D(32,(5,5),padding='same',activation='relu',input_shape=(28,28,1)))\n",
        "model.add(MaxPooling2D((2,2),strides=(2,2)))\n",
        "model.add(Conv2D(64,(5,5),padding='same',activation='relu'))\n",
        "model.add(MaxPooling2D((2,2),strides=(2,2)))\n",
        "\n",
        "model.add(Flatten())\n",
        "\n",
        "model.add(Dense(1024,activation='relu'))\n",
        "model.add(Dropout(0.5))\n",
        "model.add(Dense(1024,activation='relu'))\n",
        "model.add(Dense(10,activation='softmax'))\n",
        "model.compile(loss='categorical_crossentropy',optimizer='adam',metrics=['accuracy'])"
      ],
      "execution_count": null,
      "outputs": []
    },
    {
      "cell_type": "code",
      "metadata": {
        "id": "FPTdP1fsbT8_",
        "colab": {
          "base_uri": "https://localhost:8080/",
          "height": 454
        },
        "outputId": "342af30e-7982-45b8-b789-aa355f194af2"
      },
      "source": [
        "model.summary()"
      ],
      "execution_count": null,
      "outputs": [
        {
          "output_type": "stream",
          "text": [
            "Model: \"sequential\"\n",
            "_________________________________________________________________\n",
            "Layer (type)                 Output Shape              Param #   \n",
            "=================================================================\n",
            "conv2d (Conv2D)              (None, 28, 28, 32)        832       \n",
            "_________________________________________________________________\n",
            "max_pooling2d (MaxPooling2D) (None, 14, 14, 32)        0         \n",
            "_________________________________________________________________\n",
            "conv2d_1 (Conv2D)            (None, 14, 14, 64)        51264     \n",
            "_________________________________________________________________\n",
            "max_pooling2d_1 (MaxPooling2 (None, 7, 7, 64)          0         \n",
            "_________________________________________________________________\n",
            "flatten (Flatten)            (None, 3136)              0         \n",
            "_________________________________________________________________\n",
            "dense (Dense)                (None, 1024)              3212288   \n",
            "_________________________________________________________________\n",
            "dropout (Dropout)            (None, 1024)              0         \n",
            "_________________________________________________________________\n",
            "dense_1 (Dense)              (None, 1024)              1049600   \n",
            "_________________________________________________________________\n",
            "dense_2 (Dense)              (None, 10)                10250     \n",
            "=================================================================\n",
            "Total params: 4,324,234\n",
            "Trainable params: 4,324,234\n",
            "Non-trainable params: 0\n",
            "_________________________________________________________________\n"
          ],
          "name": "stdout"
        }
      ]
    },
    {
      "cell_type": "code",
      "metadata": {
        "id": "n4KvjHx_FGv0",
        "colab": {
          "base_uri": "https://localhost:8080/",
          "height": 1000
        },
        "outputId": "b2d3705a-2801-4bdb-adee-fc8cec3f5c31"
      },
      "source": [
        "\n",
        "\n",
        "model.fit(X_train,Y_train,batch_size=128,epochs=50,validation_data=(X_test, Y_test))"
      ],
      "execution_count": null,
      "outputs": [
        {
          "output_type": "stream",
          "text": [
            "Epoch 1/50\n",
            "469/469 [==============================] - 8s 16ms/step - loss: 0.7949 - accuracy: 0.9022 - val_loss: 0.0650 - val_accuracy: 0.9784\n",
            "Epoch 2/50\n",
            "469/469 [==============================] - 7s 15ms/step - loss: 0.0925 - accuracy: 0.9722 - val_loss: 0.0555 - val_accuracy: 0.9822\n",
            "Epoch 3/50\n",
            "469/469 [==============================] - 7s 15ms/step - loss: 0.0704 - accuracy: 0.9790 - val_loss: 0.0488 - val_accuracy: 0.9832\n",
            "Epoch 4/50\n",
            "469/469 [==============================] - 7s 15ms/step - loss: 0.0579 - accuracy: 0.9822 - val_loss: 0.0569 - val_accuracy: 0.9814\n",
            "Epoch 5/50\n",
            "469/469 [==============================] - 7s 15ms/step - loss: 0.0495 - accuracy: 0.9848 - val_loss: 0.0439 - val_accuracy: 0.9863\n",
            "Epoch 6/50\n",
            "469/469 [==============================] - 7s 15ms/step - loss: 0.0417 - accuracy: 0.9868 - val_loss: 0.0434 - val_accuracy: 0.9878\n",
            "Epoch 7/50\n",
            "469/469 [==============================] - 7s 15ms/step - loss: 0.0425 - accuracy: 0.9866 - val_loss: 0.0522 - val_accuracy: 0.9845\n",
            "Epoch 8/50\n",
            "469/469 [==============================] - 7s 15ms/step - loss: 0.0396 - accuracy: 0.9877 - val_loss: 0.0466 - val_accuracy: 0.9859\n",
            "Epoch 9/50\n",
            "469/469 [==============================] - 7s 15ms/step - loss: 0.0393 - accuracy: 0.9880 - val_loss: 0.0468 - val_accuracy: 0.9859\n",
            "Epoch 10/50\n",
            "469/469 [==============================] - 7s 15ms/step - loss: 0.0354 - accuracy: 0.9892 - val_loss: 0.0500 - val_accuracy: 0.9849\n",
            "Epoch 11/50\n",
            "469/469 [==============================] - 7s 15ms/step - loss: 0.0332 - accuracy: 0.9900 - val_loss: 0.0423 - val_accuracy: 0.9875\n",
            "Epoch 12/50\n",
            "469/469 [==============================] - 7s 15ms/step - loss: 0.0338 - accuracy: 0.9898 - val_loss: 0.0428 - val_accuracy: 0.9876\n",
            "Epoch 13/50\n",
            "469/469 [==============================] - 7s 15ms/step - loss: 0.0349 - accuracy: 0.9897 - val_loss: 0.0416 - val_accuracy: 0.9892\n",
            "Epoch 14/50\n",
            "469/469 [==============================] - 7s 15ms/step - loss: 0.0330 - accuracy: 0.9900 - val_loss: 0.0584 - val_accuracy: 0.9850\n",
            "Epoch 15/50\n",
            "469/469 [==============================] - 7s 15ms/step - loss: 0.0315 - accuracy: 0.9908 - val_loss: 0.0492 - val_accuracy: 0.9861\n",
            "Epoch 16/50\n",
            "469/469 [==============================] - 7s 15ms/step - loss: 0.0297 - accuracy: 0.9920 - val_loss: 0.0459 - val_accuracy: 0.9875\n",
            "Epoch 17/50\n",
            "469/469 [==============================] - 7s 15ms/step - loss: 0.0325 - accuracy: 0.9909 - val_loss: 0.0732 - val_accuracy: 0.9841\n",
            "Epoch 18/50\n",
            "469/469 [==============================] - 7s 15ms/step - loss: 0.0306 - accuracy: 0.9918 - val_loss: 0.0476 - val_accuracy: 0.9877\n",
            "Epoch 19/50\n",
            "469/469 [==============================] - 7s 15ms/step - loss: 0.0306 - accuracy: 0.9918 - val_loss: 0.0471 - val_accuracy: 0.9866\n",
            "Epoch 20/50\n",
            "469/469 [==============================] - 7s 15ms/step - loss: 0.0268 - accuracy: 0.9932 - val_loss: 0.0550 - val_accuracy: 0.9888\n",
            "Epoch 21/50\n",
            "469/469 [==============================] - 7s 15ms/step - loss: 0.0341 - accuracy: 0.9905 - val_loss: 0.0567 - val_accuracy: 0.9855\n",
            "Epoch 22/50\n",
            "469/469 [==============================] - 7s 15ms/step - loss: 0.0280 - accuracy: 0.9925 - val_loss: 0.0508 - val_accuracy: 0.9881\n",
            "Epoch 23/50\n",
            "469/469 [==============================] - 7s 15ms/step - loss: 0.0237 - accuracy: 0.9929 - val_loss: 0.0605 - val_accuracy: 0.9882\n",
            "Epoch 24/50\n",
            "469/469 [==============================] - 7s 15ms/step - loss: 0.0291 - accuracy: 0.9927 - val_loss: 0.0650 - val_accuracy: 0.9876\n",
            "Epoch 25/50\n",
            "469/469 [==============================] - 7s 15ms/step - loss: 0.0299 - accuracy: 0.9924 - val_loss: 0.0545 - val_accuracy: 0.9875\n",
            "Epoch 26/50\n",
            "469/469 [==============================] - 7s 15ms/step - loss: 0.0212 - accuracy: 0.9946 - val_loss: 0.0695 - val_accuracy: 0.9874\n",
            "Epoch 27/50\n",
            "469/469 [==============================] - 7s 15ms/step - loss: 0.0229 - accuracy: 0.9944 - val_loss: 0.0769 - val_accuracy: 0.9864\n",
            "Epoch 28/50\n",
            "469/469 [==============================] - 7s 15ms/step - loss: 0.0263 - accuracy: 0.9938 - val_loss: 0.0624 - val_accuracy: 0.9859\n",
            "Epoch 29/50\n",
            "469/469 [==============================] - 7s 15ms/step - loss: 0.0220 - accuracy: 0.9946 - val_loss: 0.0623 - val_accuracy: 0.9885\n",
            "Epoch 30/50\n",
            "469/469 [==============================] - 7s 15ms/step - loss: 0.0242 - accuracy: 0.9943 - val_loss: 0.0633 - val_accuracy: 0.9886\n",
            "Epoch 31/50\n",
            "469/469 [==============================] - 7s 15ms/step - loss: 0.0226 - accuracy: 0.9951 - val_loss: 0.0715 - val_accuracy: 0.9868\n",
            "Epoch 32/50\n",
            "469/469 [==============================] - 7s 15ms/step - loss: 0.0272 - accuracy: 0.9933 - val_loss: 0.0749 - val_accuracy: 0.9862\n",
            "Epoch 33/50\n",
            "469/469 [==============================] - 7s 15ms/step - loss: 0.0211 - accuracy: 0.9948 - val_loss: 0.0644 - val_accuracy: 0.9887\n",
            "Epoch 34/50\n",
            "469/469 [==============================] - 7s 15ms/step - loss: 0.0210 - accuracy: 0.9954 - val_loss: 0.0704 - val_accuracy: 0.9881\n",
            "Epoch 35/50\n",
            "469/469 [==============================] - 7s 15ms/step - loss: 0.0250 - accuracy: 0.9946 - val_loss: 0.0699 - val_accuracy: 0.9870\n",
            "Epoch 36/50\n",
            "469/469 [==============================] - 7s 15ms/step - loss: 0.0258 - accuracy: 0.9945 - val_loss: 0.0649 - val_accuracy: 0.9883\n",
            "Epoch 37/50\n",
            "469/469 [==============================] - 8s 16ms/step - loss: 0.0265 - accuracy: 0.9946 - val_loss: 0.0841 - val_accuracy: 0.9859\n",
            "Epoch 38/50\n",
            "469/469 [==============================] - 7s 16ms/step - loss: 0.0296 - accuracy: 0.9938 - val_loss: 0.0590 - val_accuracy: 0.9890\n",
            "Epoch 39/50\n",
            "469/469 [==============================] - 7s 16ms/step - loss: 0.0220 - accuracy: 0.9954 - val_loss: 0.0619 - val_accuracy: 0.9885\n",
            "Epoch 40/50\n",
            "469/469 [==============================] - 7s 16ms/step - loss: 0.0203 - accuracy: 0.9962 - val_loss: 0.0553 - val_accuracy: 0.9893\n",
            "Epoch 41/50\n",
            "469/469 [==============================] - 7s 15ms/step - loss: 0.0235 - accuracy: 0.9951 - val_loss: 0.0747 - val_accuracy: 0.9891\n",
            "Epoch 42/50\n",
            "469/469 [==============================] - 7s 15ms/step - loss: 0.0213 - accuracy: 0.9956 - val_loss: 0.0681 - val_accuracy: 0.9890\n",
            "Epoch 43/50\n",
            "469/469 [==============================] - 7s 15ms/step - loss: 0.0254 - accuracy: 0.9953 - val_loss: 0.0781 - val_accuracy: 0.9884\n",
            "Epoch 44/50\n",
            "469/469 [==============================] - 7s 15ms/step - loss: 0.0298 - accuracy: 0.9944 - val_loss: 0.0798 - val_accuracy: 0.9878\n",
            "Epoch 45/50\n",
            "469/469 [==============================] - 7s 15ms/step - loss: 0.0223 - accuracy: 0.9959 - val_loss: 0.0821 - val_accuracy: 0.9886\n",
            "Epoch 46/50\n",
            "469/469 [==============================] - 7s 15ms/step - loss: 0.0223 - accuracy: 0.9956 - val_loss: 0.0681 - val_accuracy: 0.9880\n",
            "Epoch 47/50\n",
            "469/469 [==============================] - 7s 15ms/step - loss: 0.0173 - accuracy: 0.9966 - val_loss: 0.0659 - val_accuracy: 0.9890\n",
            "Epoch 48/50\n",
            "469/469 [==============================] - 7s 15ms/step - loss: 0.0241 - accuracy: 0.9959 - val_loss: 0.0838 - val_accuracy: 0.9877\n",
            "Epoch 49/50\n",
            "469/469 [==============================] - 7s 15ms/step - loss: 0.0183 - accuracy: 0.9964 - val_loss: 0.1131 - val_accuracy: 0.9857\n",
            "Epoch 50/50\n",
            "469/469 [==============================] - 7s 15ms/step - loss: 0.0276 - accuracy: 0.9958 - val_loss: 0.1093 - val_accuracy: 0.9877\n"
          ],
          "name": "stdout"
        },
        {
          "output_type": "execute_result",
          "data": {
            "text/plain": [
              "<tensorflow.python.keras.callbacks.History at 0x7ff440450fd0>"
            ]
          },
          "metadata": {
            "tags": []
          },
          "execution_count": 9
        }
      ]
    },
    {
      "cell_type": "code",
      "metadata": {
        "id": "2nDcqCjjFGv6",
        "colab": {
          "base_uri": "https://localhost:8080/",
          "height": 50
        },
        "outputId": "094014fb-7e2f-4756-da8f-06477c731678"
      },
      "source": [
        "# Final evaluation of the model\n",
        "scores = model.evaluate(X_test, Y_test)\n",
        "print(\"Accuracy: %.2f%%\" % (scores[1]*100))"
      ],
      "execution_count": null,
      "outputs": [
        {
          "output_type": "stream",
          "text": [
            "313/313 [==============================] - 2s 5ms/step - loss: 0.1093 - accuracy: 0.9877\n",
            "Accuracy: 98.77%\n"
          ],
          "name": "stdout"
        }
      ]
    },
    {
      "cell_type": "markdown",
      "metadata": {
        "id": "ADkxtCXbY_0i"
      },
      "source": [
        "filter size(3,3)"
      ]
    },
    {
      "cell_type": "code",
      "metadata": {
        "id": "ox1Y8-OjEu8J"
      },
      "source": [
        "from keras.models import Sequential\n",
        "from keras.layers import Conv2D, MaxPooling2D, Flatten,Dense,Dropout"
      ],
      "execution_count": null,
      "outputs": []
    },
    {
      "cell_type": "code",
      "metadata": {
        "id": "pI6kh-4UZJ1v"
      },
      "source": [
        "model = Sequential()\n",
        "model.add(Conv2D(32,(3,3),padding='same',activation='relu',input_shape=(28,28,1)))\n",
        "model.add(MaxPooling2D((2,2),strides=(2,2)))\n",
        "model.add(Conv2D(64,(3,3),padding='same',activation='relu'))\n",
        "model.add(MaxPooling2D((2,2),strides=(2,2)))\n",
        "\n",
        "model.add(Flatten())\n",
        "\n",
        "model.add(Dense(1024,activation='relu'))\n",
        "model.add(Dropout(0.5))\n",
        "model.add(Dense(1024,activation='relu'))\n",
        "model.add(Dense(10,activation='softmax'))\n",
        "model.compile(loss='categorical_crossentropy',optimizer='adam',metrics=['accuracy'])"
      ],
      "execution_count": null,
      "outputs": []
    },
    {
      "cell_type": "code",
      "metadata": {
        "id": "4UmE5hFSZYYG",
        "colab": {
          "base_uri": "https://localhost:8080/",
          "height": 454
        },
        "outputId": "7ef194c3-9ad7-4135-fa3a-ebeece2b2698"
      },
      "source": [
        "model.summary()"
      ],
      "execution_count": null,
      "outputs": [
        {
          "output_type": "stream",
          "text": [
            "Model: \"sequential_1\"\n",
            "_________________________________________________________________\n",
            "Layer (type)                 Output Shape              Param #   \n",
            "=================================================================\n",
            "conv2d_2 (Conv2D)            (None, 28, 28, 32)        320       \n",
            "_________________________________________________________________\n",
            "max_pooling2d_2 (MaxPooling2 (None, 14, 14, 32)        0         \n",
            "_________________________________________________________________\n",
            "conv2d_3 (Conv2D)            (None, 14, 14, 64)        18496     \n",
            "_________________________________________________________________\n",
            "max_pooling2d_3 (MaxPooling2 (None, 7, 7, 64)          0         \n",
            "_________________________________________________________________\n",
            "flatten_1 (Flatten)          (None, 3136)              0         \n",
            "_________________________________________________________________\n",
            "dense_3 (Dense)              (None, 1024)              3212288   \n",
            "_________________________________________________________________\n",
            "dropout_1 (Dropout)          (None, 1024)              0         \n",
            "_________________________________________________________________\n",
            "dense_4 (Dense)              (None, 1024)              1049600   \n",
            "_________________________________________________________________\n",
            "dense_5 (Dense)              (None, 10)                10250     \n",
            "=================================================================\n",
            "Total params: 4,290,954\n",
            "Trainable params: 4,290,954\n",
            "Non-trainable params: 0\n",
            "_________________________________________________________________\n"
          ],
          "name": "stdout"
        }
      ]
    },
    {
      "cell_type": "code",
      "metadata": {
        "id": "6wLSjmD4ZiB2",
        "colab": {
          "base_uri": "https://localhost:8080/",
          "height": 874
        },
        "outputId": "519ea637-b323-4080-ce41-883f2e88be0c"
      },
      "source": [
        "model.fit(X_train,Y_train,batch_size=128,epochs=25,validation_data=(X_test, Y_test))"
      ],
      "execution_count": null,
      "outputs": [
        {
          "output_type": "stream",
          "text": [
            "Epoch 1/25\n",
            "469/469 [==============================] - 2s 5ms/step - loss: 1.0657 - accuracy: 0.9165 - val_loss: 0.0553 - val_accuracy: 0.9824\n",
            "Epoch 2/25\n",
            "469/469 [==============================] - 2s 5ms/step - loss: 0.0879 - accuracy: 0.9731 - val_loss: 0.0544 - val_accuracy: 0.9837\n",
            "Epoch 3/25\n",
            "469/469 [==============================] - 2s 5ms/step - loss: 0.0674 - accuracy: 0.9791 - val_loss: 0.0466 - val_accuracy: 0.9848\n",
            "Epoch 4/25\n",
            "469/469 [==============================] - 2s 5ms/step - loss: 0.0586 - accuracy: 0.9821 - val_loss: 0.0392 - val_accuracy: 0.9870\n",
            "Epoch 5/25\n",
            "469/469 [==============================] - 2s 5ms/step - loss: 0.0480 - accuracy: 0.9854 - val_loss: 0.0464 - val_accuracy: 0.9852\n",
            "Epoch 6/25\n",
            "469/469 [==============================] - 2s 5ms/step - loss: 0.0447 - accuracy: 0.9861 - val_loss: 0.0399 - val_accuracy: 0.9873\n",
            "Epoch 7/25\n",
            "469/469 [==============================] - 2s 5ms/step - loss: 0.0430 - accuracy: 0.9871 - val_loss: 0.0404 - val_accuracy: 0.9876\n",
            "Epoch 8/25\n",
            "469/469 [==============================] - 2s 5ms/step - loss: 0.0393 - accuracy: 0.9881 - val_loss: 0.0485 - val_accuracy: 0.9862\n",
            "Epoch 9/25\n",
            "469/469 [==============================] - 2s 5ms/step - loss: 0.0322 - accuracy: 0.9901 - val_loss: 0.0447 - val_accuracy: 0.9849\n",
            "Epoch 10/25\n",
            "469/469 [==============================] - 2s 5ms/step - loss: 0.0304 - accuracy: 0.9908 - val_loss: 0.0363 - val_accuracy: 0.9883\n",
            "Epoch 11/25\n",
            "469/469 [==============================] - 2s 5ms/step - loss: 0.0321 - accuracy: 0.9900 - val_loss: 0.0392 - val_accuracy: 0.9884\n",
            "Epoch 12/25\n",
            "469/469 [==============================] - 2s 5ms/step - loss: 0.0313 - accuracy: 0.9909 - val_loss: 0.0411 - val_accuracy: 0.9885\n",
            "Epoch 13/25\n",
            "469/469 [==============================] - 2s 5ms/step - loss: 0.0293 - accuracy: 0.9915 - val_loss: 0.0397 - val_accuracy: 0.9881\n",
            "Epoch 14/25\n",
            "469/469 [==============================] - 2s 5ms/step - loss: 0.0285 - accuracy: 0.9919 - val_loss: 0.0365 - val_accuracy: 0.9892\n",
            "Epoch 15/25\n",
            "469/469 [==============================] - 2s 5ms/step - loss: 0.0259 - accuracy: 0.9921 - val_loss: 0.0345 - val_accuracy: 0.9902\n",
            "Epoch 16/25\n",
            "469/469 [==============================] - 2s 5ms/step - loss: 0.0271 - accuracy: 0.9920 - val_loss: 0.0428 - val_accuracy: 0.9893\n",
            "Epoch 17/25\n",
            "469/469 [==============================] - 2s 5ms/step - loss: 0.0255 - accuracy: 0.9926 - val_loss: 0.0458 - val_accuracy: 0.9873\n",
            "Epoch 18/25\n",
            "469/469 [==============================] - 2s 5ms/step - loss: 0.0267 - accuracy: 0.9927 - val_loss: 0.0410 - val_accuracy: 0.9887\n",
            "Epoch 19/25\n",
            "469/469 [==============================] - 2s 5ms/step - loss: 0.0215 - accuracy: 0.9941 - val_loss: 0.0437 - val_accuracy: 0.9889\n",
            "Epoch 20/25\n",
            "469/469 [==============================] - 2s 5ms/step - loss: 0.0270 - accuracy: 0.9929 - val_loss: 0.0447 - val_accuracy: 0.9893\n",
            "Epoch 21/25\n",
            "469/469 [==============================] - 2s 5ms/step - loss: 0.0258 - accuracy: 0.9931 - val_loss: 0.0500 - val_accuracy: 0.9870\n",
            "Epoch 22/25\n",
            "469/469 [==============================] - 2s 5ms/step - loss: 0.0225 - accuracy: 0.9935 - val_loss: 0.0356 - val_accuracy: 0.9901\n",
            "Epoch 23/25\n",
            "469/469 [==============================] - 2s 5ms/step - loss: 0.0200 - accuracy: 0.9947 - val_loss: 0.0493 - val_accuracy: 0.9885\n",
            "Epoch 24/25\n",
            "469/469 [==============================] - 2s 5ms/step - loss: 0.0218 - accuracy: 0.9940 - val_loss: 0.0527 - val_accuracy: 0.9886\n",
            "Epoch 25/25\n",
            "469/469 [==============================] - 2s 5ms/step - loss: 0.0198 - accuracy: 0.9947 - val_loss: 0.0494 - val_accuracy: 0.9903\n"
          ],
          "name": "stdout"
        },
        {
          "output_type": "execute_result",
          "data": {
            "text/plain": [
              "<tensorflow.python.keras.callbacks.History at 0x7fad7e139080>"
            ]
          },
          "metadata": {
            "tags": []
          },
          "execution_count": 15
        }
      ]
    },
    {
      "cell_type": "code",
      "metadata": {
        "id": "5rtieBVoZpjV",
        "colab": {
          "base_uri": "https://localhost:8080/",
          "height": 50
        },
        "outputId": "e95e73d3-534b-46e8-e203-b29809ed1268"
      },
      "source": [
        "scores = model.evaluate(X_test, Y_test)\n",
        "print(\"Accuracy: %.2f%%\" % (scores[1]*100))"
      ],
      "execution_count": null,
      "outputs": [
        {
          "output_type": "stream",
          "text": [
            "313/313 [==============================] - 1s 2ms/step - loss: 0.0494 - accuracy: 0.9903\n",
            "Accuracy: 99.03%\n"
          ],
          "name": "stdout"
        }
      ]
    },
    {
      "cell_type": "markdown",
      "metadata": {
        "id": "ELTOupw1d-PY"
      },
      "source": [
        "2 convolution layers before the max pooling layer with filter size as 5,5"
      ]
    },
    {
      "cell_type": "markdown",
      "metadata": {
        "id": "OKEVCkwFhVIJ"
      },
      "source": [
        "2conv layer  before the max pooling with 5,5 filter size"
      ]
    },
    {
      "cell_type": "code",
      "metadata": {
        "id": "7IuXv2T-c3_0"
      },
      "source": [
        "from keras.models import Sequential\n",
        "from keras.layers import Conv2D, MaxPooling2D, Flatten,Dense,Dropout"
      ],
      "execution_count": null,
      "outputs": []
    },
    {
      "cell_type": "code",
      "metadata": {
        "id": "uQXAX3TjdrKS"
      },
      "source": [
        "model = Sequential()\n",
        "model.add(Conv2D(32,(5,5),padding='same',activation='relu',input_shape=(28,28,1)))\n",
        "#model.add(Conv2D(32,(5,5),padding='same',activation='relu')\n",
        "model.add(MaxPooling2D((2,2)))\n",
        "model.add(Conv2D(64,(5,5),padding='same',activation='relu'))\n",
        "model.add(Conv2D(64,(5,5),padding='same',activation='relu'))\n",
        "model.add(MaxPooling2D((2,2)))\n",
        "\n",
        "model.add(Flatten())\n",
        "\n",
        "model.add(Dense(1024,activation='relu'))\n",
        "model.add(Dropout(0.5))\n",
        "model.add(Dense(1024,activation='relu'))\n",
        "model.add(Dense(10,activation='softmax'))\n",
        "model.compile(loss='categorical_crossentropy',optimizer='adam',metrics=['accuracy'])"
      ],
      "execution_count": null,
      "outputs": []
    },
    {
      "cell_type": "code",
      "metadata": {
        "id": "nAbMVvwLeLOV",
        "colab": {
          "base_uri": "https://localhost:8080/",
          "height": 487
        },
        "outputId": "188c3d6d-e2ec-4124-bda5-eb1e60bb9c06"
      },
      "source": [
        "model.summary()"
      ],
      "execution_count": null,
      "outputs": [
        {
          "output_type": "stream",
          "text": [
            "Model: \"sequential_2\"\n",
            "_________________________________________________________________\n",
            "Layer (type)                 Output Shape              Param #   \n",
            "=================================================================\n",
            "conv2d_4 (Conv2D)            (None, 28, 28, 32)        832       \n",
            "_________________________________________________________________\n",
            "max_pooling2d_4 (MaxPooling2 (None, 14, 14, 32)        0         \n",
            "_________________________________________________________________\n",
            "conv2d_5 (Conv2D)            (None, 14, 14, 64)        51264     \n",
            "_________________________________________________________________\n",
            "conv2d_6 (Conv2D)            (None, 14, 14, 64)        102464    \n",
            "_________________________________________________________________\n",
            "max_pooling2d_5 (MaxPooling2 (None, 7, 7, 64)          0         \n",
            "_________________________________________________________________\n",
            "flatten_2 (Flatten)          (None, 3136)              0         \n",
            "_________________________________________________________________\n",
            "dense_6 (Dense)              (None, 1024)              3212288   \n",
            "_________________________________________________________________\n",
            "dropout_2 (Dropout)          (None, 1024)              0         \n",
            "_________________________________________________________________\n",
            "dense_7 (Dense)              (None, 1024)              1049600   \n",
            "_________________________________________________________________\n",
            "dense_8 (Dense)              (None, 10)                10250     \n",
            "=================================================================\n",
            "Total params: 4,426,698\n",
            "Trainable params: 4,426,698\n",
            "Non-trainable params: 0\n",
            "_________________________________________________________________\n"
          ],
          "name": "stdout"
        }
      ]
    },
    {
      "cell_type": "code",
      "metadata": {
        "id": "x255H8I9gS3x",
        "colab": {
          "base_uri": "https://localhost:8080/",
          "height": 874
        },
        "outputId": "7092d195-0aa9-427e-8573-f6ca6f9cd333"
      },
      "source": [
        "model.fit(X_train,Y_train,batch_size=128,epochs=25,validation_data=(X_test, Y_test))"
      ],
      "execution_count": null,
      "outputs": [
        {
          "output_type": "stream",
          "text": [
            "Epoch 1/25\n",
            "469/469 [==============================] - 4s 8ms/step - loss: 0.4840 - accuracy: 0.9122 - val_loss: 0.0577 - val_accuracy: 0.9820\n",
            "Epoch 2/25\n",
            "469/469 [==============================] - 3s 7ms/step - loss: 0.0725 - accuracy: 0.9784 - val_loss: 0.0441 - val_accuracy: 0.9872\n",
            "Epoch 3/25\n",
            "469/469 [==============================] - 3s 7ms/step - loss: 0.0562 - accuracy: 0.9826 - val_loss: 0.0417 - val_accuracy: 0.9872\n",
            "Epoch 4/25\n",
            "469/469 [==============================] - 3s 7ms/step - loss: 0.0487 - accuracy: 0.9850 - val_loss: 0.0356 - val_accuracy: 0.9883\n",
            "Epoch 5/25\n",
            "469/469 [==============================] - 3s 7ms/step - loss: 0.0436 - accuracy: 0.9866 - val_loss: 0.0496 - val_accuracy: 0.9858\n",
            "Epoch 6/25\n",
            "469/469 [==============================] - 3s 7ms/step - loss: 0.0371 - accuracy: 0.9886 - val_loss: 0.0413 - val_accuracy: 0.9884\n",
            "Epoch 7/25\n",
            "469/469 [==============================] - 3s 7ms/step - loss: 0.0396 - accuracy: 0.9884 - val_loss: 0.0370 - val_accuracy: 0.9883\n",
            "Epoch 8/25\n",
            "469/469 [==============================] - 3s 7ms/step - loss: 0.0362 - accuracy: 0.9889 - val_loss: 0.0358 - val_accuracy: 0.9898\n",
            "Epoch 9/25\n",
            "469/469 [==============================] - 3s 7ms/step - loss: 0.0337 - accuracy: 0.9898 - val_loss: 0.0427 - val_accuracy: 0.9863\n",
            "Epoch 10/25\n",
            "469/469 [==============================] - 3s 7ms/step - loss: 0.0359 - accuracy: 0.9888 - val_loss: 0.0400 - val_accuracy: 0.9880\n",
            "Epoch 11/25\n",
            "469/469 [==============================] - 3s 7ms/step - loss: 0.0318 - accuracy: 0.9905 - val_loss: 0.0344 - val_accuracy: 0.9903\n",
            "Epoch 12/25\n",
            "469/469 [==============================] - 3s 7ms/step - loss: 0.0278 - accuracy: 0.9918 - val_loss: 0.0383 - val_accuracy: 0.9894\n",
            "Epoch 13/25\n",
            "469/469 [==============================] - 3s 7ms/step - loss: 0.0315 - accuracy: 0.9910 - val_loss: 0.0465 - val_accuracy: 0.9867\n",
            "Epoch 14/25\n",
            "469/469 [==============================] - 3s 7ms/step - loss: 0.0287 - accuracy: 0.9917 - val_loss: 0.0402 - val_accuracy: 0.9888\n",
            "Epoch 15/25\n",
            "469/469 [==============================] - 3s 7ms/step - loss: 0.0272 - accuracy: 0.9926 - val_loss: 0.0382 - val_accuracy: 0.9903\n",
            "Epoch 16/25\n",
            "469/469 [==============================] - 3s 7ms/step - loss: 0.0261 - accuracy: 0.9927 - val_loss: 0.0532 - val_accuracy: 0.9853\n",
            "Epoch 17/25\n",
            "469/469 [==============================] - 3s 7ms/step - loss: 0.0284 - accuracy: 0.9922 - val_loss: 0.0377 - val_accuracy: 0.9905\n",
            "Epoch 18/25\n",
            "469/469 [==============================] - 3s 7ms/step - loss: 0.0288 - accuracy: 0.9923 - val_loss: 0.0379 - val_accuracy: 0.9893\n",
            "Epoch 19/25\n",
            "469/469 [==============================] - 3s 7ms/step - loss: 0.0227 - accuracy: 0.9939 - val_loss: 0.0572 - val_accuracy: 0.9852\n",
            "Epoch 20/25\n",
            "469/469 [==============================] - 3s 7ms/step - loss: 0.0313 - accuracy: 0.9920 - val_loss: 0.0516 - val_accuracy: 0.9874\n",
            "Epoch 21/25\n",
            "469/469 [==============================] - 3s 7ms/step - loss: 0.0242 - accuracy: 0.9938 - val_loss: 0.0409 - val_accuracy: 0.9905\n",
            "Epoch 22/25\n",
            "469/469 [==============================] - 3s 7ms/step - loss: 0.0288 - accuracy: 0.9924 - val_loss: 0.0457 - val_accuracy: 0.9884\n",
            "Epoch 23/25\n",
            "469/469 [==============================] - 3s 7ms/step - loss: 0.0222 - accuracy: 0.9940 - val_loss: 0.0444 - val_accuracy: 0.9898\n",
            "Epoch 24/25\n",
            "469/469 [==============================] - 3s 7ms/step - loss: 0.0213 - accuracy: 0.9944 - val_loss: 0.0550 - val_accuracy: 0.9878\n",
            "Epoch 25/25\n",
            "469/469 [==============================] - 3s 7ms/step - loss: 0.0279 - accuracy: 0.9932 - val_loss: 0.0418 - val_accuracy: 0.9917\n"
          ],
          "name": "stdout"
        },
        {
          "output_type": "execute_result",
          "data": {
            "text/plain": [
              "<tensorflow.python.keras.callbacks.History at 0x7fad646cd668>"
            ]
          },
          "metadata": {
            "tags": []
          },
          "execution_count": 20
        }
      ]
    },
    {
      "cell_type": "code",
      "metadata": {
        "id": "17MhAseKgYJz",
        "colab": {
          "base_uri": "https://localhost:8080/",
          "height": 50
        },
        "outputId": "3868b1fb-44af-479c-ab7a-fd42cb78897d"
      },
      "source": [
        "scores = model.evaluate(X_test, Y_test)\n",
        "print(\"Accuracy: %.2f%%\" % (scores[1]*100))"
      ],
      "execution_count": null,
      "outputs": [
        {
          "output_type": "stream",
          "text": [
            "313/313 [==============================] - 1s 2ms/step - loss: 0.0418 - accuracy: 0.9917\n",
            "Accuracy: 99.17%\n"
          ],
          "name": "stdout"
        }
      ]
    },
    {
      "cell_type": "markdown",
      "metadata": {
        "id": "0hSFK8C_prBz"
      },
      "source": [
        "2 conv layers before the max pooling layer  with filter size is 3,3"
      ]
    },
    {
      "cell_type": "code",
      "metadata": {
        "id": "6KBTq55Tppw2"
      },
      "source": [
        "from keras.models import Sequential\n",
        "from keras.layers import Conv2D, MaxPooling2D, Flatten,Dense,Dropout"
      ],
      "execution_count": null,
      "outputs": []
    },
    {
      "cell_type": "code",
      "metadata": {
        "id": "abDT8ctIqvOI"
      },
      "source": [
        "model = Sequential()\n",
        "model.add(Conv2D(32,(3,3),padding='same',activation='relu',input_shape=(28,28,1)))\n",
        "#model.add(Conv2D(32,(5,5),padding='same',activation='relu')\n",
        "model.add(MaxPooling2D((2,2)))\n",
        "model.add(Conv2D(64,(3,3),padding='same',activation='relu'))\n",
        "model.add(Conv2D(64,(3,3),padding='same',activation='relu'))\n",
        "model.add(MaxPooling2D((2,2)))\n",
        "\n",
        "model.add(Flatten())\n",
        "\n",
        "model.add(Dense(1024,activation='relu'))\n",
        "model.add(Dropout(0.5))\n",
        "model.add(Dense(1024,activation='relu'))\n",
        "model.add(Dense(10,activation='softmax'))\n",
        "model.compile(loss='categorical_crossentropy',optimizer='adam',metrics=['accuracy'])"
      ],
      "execution_count": null,
      "outputs": []
    },
    {
      "cell_type": "code",
      "metadata": {
        "id": "xIXsxMa8qz7B",
        "colab": {
          "base_uri": "https://localhost:8080/",
          "height": 487
        },
        "outputId": "73b3ab30-6d30-420a-e5ac-a622f222dd9a"
      },
      "source": [
        "model.summary()"
      ],
      "execution_count": null,
      "outputs": [
        {
          "output_type": "stream",
          "text": [
            "Model: \"sequential_3\"\n",
            "_________________________________________________________________\n",
            "Layer (type)                 Output Shape              Param #   \n",
            "=================================================================\n",
            "conv2d_7 (Conv2D)            (None, 28, 28, 32)        320       \n",
            "_________________________________________________________________\n",
            "max_pooling2d_6 (MaxPooling2 (None, 14, 14, 32)        0         \n",
            "_________________________________________________________________\n",
            "conv2d_8 (Conv2D)            (None, 14, 14, 64)        18496     \n",
            "_________________________________________________________________\n",
            "conv2d_9 (Conv2D)            (None, 14, 14, 64)        36928     \n",
            "_________________________________________________________________\n",
            "max_pooling2d_7 (MaxPooling2 (None, 7, 7, 64)          0         \n",
            "_________________________________________________________________\n",
            "flatten_3 (Flatten)          (None, 3136)              0         \n",
            "_________________________________________________________________\n",
            "dense_9 (Dense)              (None, 1024)              3212288   \n",
            "_________________________________________________________________\n",
            "dropout_3 (Dropout)          (None, 1024)              0         \n",
            "_________________________________________________________________\n",
            "dense_10 (Dense)             (None, 1024)              1049600   \n",
            "_________________________________________________________________\n",
            "dense_11 (Dense)             (None, 10)                10250     \n",
            "=================================================================\n",
            "Total params: 4,327,882\n",
            "Trainable params: 4,327,882\n",
            "Non-trainable params: 0\n",
            "_________________________________________________________________\n"
          ],
          "name": "stdout"
        }
      ]
    },
    {
      "cell_type": "code",
      "metadata": {
        "id": "uEevkmtuq5ek",
        "colab": {
          "base_uri": "https://localhost:8080/",
          "height": 874
        },
        "outputId": "12acc73b-48b1-45a2-d4aa-498d432333a2"
      },
      "source": [
        "model.fit(X_train,Y_train,batch_size=128,epochs=25,validation_data=(X_test, Y_test))"
      ],
      "execution_count": null,
      "outputs": [
        {
          "output_type": "stream",
          "text": [
            "Epoch 1/25\n",
            "469/469 [==============================] - 3s 6ms/step - loss: 0.6107 - accuracy: 0.9243 - val_loss: 0.0608 - val_accuracy: 0.9799\n",
            "Epoch 2/25\n",
            "469/469 [==============================] - 3s 6ms/step - loss: 0.0714 - accuracy: 0.9785 - val_loss: 0.0532 - val_accuracy: 0.9830\n",
            "Epoch 3/25\n",
            "469/469 [==============================] - 3s 6ms/step - loss: 0.0523 - accuracy: 0.9839 - val_loss: 0.0536 - val_accuracy: 0.9820\n",
            "Epoch 4/25\n",
            "469/469 [==============================] - 3s 6ms/step - loss: 0.0395 - accuracy: 0.9877 - val_loss: 0.0377 - val_accuracy: 0.9878\n",
            "Epoch 5/25\n",
            "469/469 [==============================] - 3s 6ms/step - loss: 0.0374 - accuracy: 0.9888 - val_loss: 0.0449 - val_accuracy: 0.9865\n",
            "Epoch 6/25\n",
            "469/469 [==============================] - 3s 6ms/step - loss: 0.0323 - accuracy: 0.9897 - val_loss: 0.0519 - val_accuracy: 0.9858\n",
            "Epoch 7/25\n",
            "469/469 [==============================] - 3s 6ms/step - loss: 0.0306 - accuracy: 0.9909 - val_loss: 0.0451 - val_accuracy: 0.9863\n",
            "Epoch 8/25\n",
            "469/469 [==============================] - 3s 6ms/step - loss: 0.0281 - accuracy: 0.9913 - val_loss: 0.0370 - val_accuracy: 0.9886\n",
            "Epoch 9/25\n",
            "469/469 [==============================] - 3s 6ms/step - loss: 0.0241 - accuracy: 0.9928 - val_loss: 0.0375 - val_accuracy: 0.9877\n",
            "Epoch 10/25\n",
            "469/469 [==============================] - 3s 6ms/step - loss: 0.0237 - accuracy: 0.9927 - val_loss: 0.0417 - val_accuracy: 0.9880\n",
            "Epoch 11/25\n",
            "469/469 [==============================] - 3s 5ms/step - loss: 0.0277 - accuracy: 0.9915 - val_loss: 0.0442 - val_accuracy: 0.9878\n",
            "Epoch 12/25\n",
            "469/469 [==============================] - 3s 6ms/step - loss: 0.0215 - accuracy: 0.9932 - val_loss: 0.0426 - val_accuracy: 0.9899\n",
            "Epoch 13/25\n",
            "469/469 [==============================] - 3s 6ms/step - loss: 0.0235 - accuracy: 0.9931 - val_loss: 0.0404 - val_accuracy: 0.9892\n",
            "Epoch 14/25\n",
            "469/469 [==============================] - 3s 6ms/step - loss: 0.0217 - accuracy: 0.9938 - val_loss: 0.0467 - val_accuracy: 0.9895\n",
            "Epoch 15/25\n",
            "469/469 [==============================] - 3s 6ms/step - loss: 0.0233 - accuracy: 0.9934 - val_loss: 0.0348 - val_accuracy: 0.9892\n",
            "Epoch 16/25\n",
            "469/469 [==============================] - 3s 6ms/step - loss: 0.0181 - accuracy: 0.9949 - val_loss: 0.0356 - val_accuracy: 0.9898\n",
            "Epoch 17/25\n",
            "469/469 [==============================] - 3s 6ms/step - loss: 0.0214 - accuracy: 0.9941 - val_loss: 0.0420 - val_accuracy: 0.9894\n",
            "Epoch 18/25\n",
            "469/469 [==============================] - 3s 6ms/step - loss: 0.0190 - accuracy: 0.9945 - val_loss: 0.0352 - val_accuracy: 0.9905\n",
            "Epoch 19/25\n",
            "469/469 [==============================] - 3s 6ms/step - loss: 0.0185 - accuracy: 0.9949 - val_loss: 0.0412 - val_accuracy: 0.9899\n",
            "Epoch 20/25\n",
            "469/469 [==============================] - 3s 6ms/step - loss: 0.0165 - accuracy: 0.9951 - val_loss: 0.0425 - val_accuracy: 0.9887\n",
            "Epoch 21/25\n",
            "469/469 [==============================] - 3s 5ms/step - loss: 0.0156 - accuracy: 0.9957 - val_loss: 0.0493 - val_accuracy: 0.9898\n",
            "Epoch 22/25\n",
            "469/469 [==============================] - 3s 6ms/step - loss: 0.0179 - accuracy: 0.9951 - val_loss: 0.0387 - val_accuracy: 0.9905\n",
            "Epoch 23/25\n",
            "469/469 [==============================] - 3s 6ms/step - loss: 0.0138 - accuracy: 0.9963 - val_loss: 0.0550 - val_accuracy: 0.9883\n",
            "Epoch 24/25\n",
            "469/469 [==============================] - 3s 6ms/step - loss: 0.0218 - accuracy: 0.9946 - val_loss: 0.0455 - val_accuracy: 0.9896\n",
            "Epoch 25/25\n",
            "469/469 [==============================] - 3s 6ms/step - loss: 0.0196 - accuracy: 0.9948 - val_loss: 0.0385 - val_accuracy: 0.9906\n"
          ],
          "name": "stdout"
        },
        {
          "output_type": "execute_result",
          "data": {
            "text/plain": [
              "<tensorflow.python.keras.callbacks.History at 0x7fad645e71d0>"
            ]
          },
          "metadata": {
            "tags": []
          },
          "execution_count": 25
        }
      ]
    },
    {
      "cell_type": "code",
      "metadata": {
        "id": "B7PnFOZPq-Ey",
        "colab": {
          "base_uri": "https://localhost:8080/",
          "height": 50
        },
        "outputId": "a2a96052-6db4-4f35-9d57-96762ec111ea"
      },
      "source": [
        "scores = model.evaluate(X_test, Y_test)\n",
        "print(\"Accuracy: %.2f%%\" % (scores[1]*100))"
      ],
      "execution_count": null,
      "outputs": [
        {
          "output_type": "stream",
          "text": [
            "313/313 [==============================] - 1s 2ms/step - loss: 0.0385 - accuracy: 0.9906\n",
            "Accuracy: 99.06%\n"
          ],
          "name": "stdout"
        }
      ]
    },
    {
      "cell_type": "markdown",
      "metadata": {
        "id": "_Lb9dm_7Np5T"
      },
      "source": [
        "5,5 filter with average pooling"
      ]
    },
    {
      "cell_type": "code",
      "metadata": {
        "id": "tvLm0f9jNpZg"
      },
      "source": [
        "from keras.models import Sequential\n",
        "from keras.layers import Conv2D, AveragePooling2D, Flatten,Dense,Dropout"
      ],
      "execution_count": null,
      "outputs": []
    },
    {
      "cell_type": "code",
      "metadata": {
        "id": "rxEbNJ2WOtcX"
      },
      "source": [
        "model = Sequential()\n",
        "model.add(Conv2D(32,(5,5),padding='same',activation='relu',input_shape=(28,28,1)))\n",
        "#model.add(Conv2D(32,(5,5),padding='same',activation='relu')\n",
        "model.add(AveragePooling2D((2,2)))\n",
        "model.add(Conv2D(64,(5,5),padding='same',activation='relu'))\n",
        "\n",
        "model.add(AveragePooling2D((2,2)))\n",
        "\n",
        "model.add(Flatten())\n",
        "\n",
        "model.add(Dense(1024,activation='relu'))\n",
        "model.add(Dropout(0.5))\n",
        "model.add(Dense(1024,activation='relu'))\n",
        "model.add(Dense(10,activation='softmax'))\n",
        "model.compile(loss='categorical_crossentropy',optimizer='adam',metrics=['accuracy'])"
      ],
      "execution_count": null,
      "outputs": []
    },
    {
      "cell_type": "code",
      "metadata": {
        "id": "58oKlhc4O4lP",
        "colab": {
          "base_uri": "https://localhost:8080/",
          "height": 454
        },
        "outputId": "705bf106-d866-449a-d0f5-f4faefc3314c"
      },
      "source": [
        "model.summary()"
      ],
      "execution_count": null,
      "outputs": [
        {
          "output_type": "stream",
          "text": [
            "Model: \"sequential_4\"\n",
            "_________________________________________________________________\n",
            "Layer (type)                 Output Shape              Param #   \n",
            "=================================================================\n",
            "conv2d_10 (Conv2D)           (None, 28, 28, 32)        832       \n",
            "_________________________________________________________________\n",
            "average_pooling2d (AveragePo (None, 14, 14, 32)        0         \n",
            "_________________________________________________________________\n",
            "conv2d_11 (Conv2D)           (None, 14, 14, 64)        51264     \n",
            "_________________________________________________________________\n",
            "average_pooling2d_1 (Average (None, 7, 7, 64)          0         \n",
            "_________________________________________________________________\n",
            "flatten_4 (Flatten)          (None, 3136)              0         \n",
            "_________________________________________________________________\n",
            "dense_12 (Dense)             (None, 1024)              3212288   \n",
            "_________________________________________________________________\n",
            "dropout_4 (Dropout)          (None, 1024)              0         \n",
            "_________________________________________________________________\n",
            "dense_13 (Dense)             (None, 1024)              1049600   \n",
            "_________________________________________________________________\n",
            "dense_14 (Dense)             (None, 10)                10250     \n",
            "=================================================================\n",
            "Total params: 4,324,234\n",
            "Trainable params: 4,324,234\n",
            "Non-trainable params: 0\n",
            "_________________________________________________________________\n"
          ],
          "name": "stdout"
        }
      ]
    },
    {
      "cell_type": "code",
      "metadata": {
        "id": "YAQRecKYO9O5",
        "colab": {
          "base_uri": "https://localhost:8080/",
          "height": 874
        },
        "outputId": "3b5a679c-a899-46a8-f7fc-f39f19954026"
      },
      "source": [
        "model.fit(X_train,Y_train,batch_size=128,epochs=25,validation_data=(X_test, Y_test))"
      ],
      "execution_count": null,
      "outputs": [
        {
          "output_type": "stream",
          "text": [
            "Epoch 1/25\n",
            "469/469 [==============================] - 3s 6ms/step - loss: 0.3139 - accuracy: 0.9351 - val_loss: 0.0655 - val_accuracy: 0.9793\n",
            "Epoch 2/25\n",
            "469/469 [==============================] - 3s 6ms/step - loss: 0.0653 - accuracy: 0.9801 - val_loss: 0.0362 - val_accuracy: 0.9882\n",
            "Epoch 3/25\n",
            "469/469 [==============================] - 3s 6ms/step - loss: 0.0473 - accuracy: 0.9851 - val_loss: 0.0368 - val_accuracy: 0.9879\n",
            "Epoch 4/25\n",
            "469/469 [==============================] - 3s 6ms/step - loss: 0.0387 - accuracy: 0.9880 - val_loss: 0.0327 - val_accuracy: 0.9895\n",
            "Epoch 5/25\n",
            "469/469 [==============================] - 3s 6ms/step - loss: 0.0357 - accuracy: 0.9888 - val_loss: 0.0323 - val_accuracy: 0.9894\n",
            "Epoch 6/25\n",
            "469/469 [==============================] - 3s 6ms/step - loss: 0.0294 - accuracy: 0.9909 - val_loss: 0.0382 - val_accuracy: 0.9880\n",
            "Epoch 7/25\n",
            "469/469 [==============================] - 3s 6ms/step - loss: 0.0270 - accuracy: 0.9913 - val_loss: 0.0363 - val_accuracy: 0.9879\n",
            "Epoch 8/25\n",
            "469/469 [==============================] - 3s 6ms/step - loss: 0.0244 - accuracy: 0.9927 - val_loss: 0.0341 - val_accuracy: 0.9895\n",
            "Epoch 9/25\n",
            "469/469 [==============================] - 3s 6ms/step - loss: 0.0259 - accuracy: 0.9921 - val_loss: 0.0343 - val_accuracy: 0.9896\n",
            "Epoch 10/25\n",
            "469/469 [==============================] - 3s 6ms/step - loss: 0.0228 - accuracy: 0.9925 - val_loss: 0.0320 - val_accuracy: 0.9894\n",
            "Epoch 11/25\n",
            "469/469 [==============================] - 3s 6ms/step - loss: 0.0210 - accuracy: 0.9938 - val_loss: 0.0384 - val_accuracy: 0.9893\n",
            "Epoch 12/25\n",
            "469/469 [==============================] - 3s 6ms/step - loss: 0.0233 - accuracy: 0.9926 - val_loss: 0.0360 - val_accuracy: 0.9910\n",
            "Epoch 13/25\n",
            "469/469 [==============================] - 3s 6ms/step - loss: 0.0199 - accuracy: 0.9941 - val_loss: 0.0372 - val_accuracy: 0.9904\n",
            "Epoch 14/25\n",
            "469/469 [==============================] - 3s 6ms/step - loss: 0.0202 - accuracy: 0.9941 - val_loss: 0.0385 - val_accuracy: 0.9910\n",
            "Epoch 15/25\n",
            "469/469 [==============================] - 3s 6ms/step - loss: 0.0190 - accuracy: 0.9944 - val_loss: 0.0333 - val_accuracy: 0.9911\n",
            "Epoch 16/25\n",
            "469/469 [==============================] - 3s 6ms/step - loss: 0.0186 - accuracy: 0.9946 - val_loss: 0.0375 - val_accuracy: 0.9908\n",
            "Epoch 17/25\n",
            "469/469 [==============================] - 3s 6ms/step - loss: 0.0182 - accuracy: 0.9946 - val_loss: 0.0377 - val_accuracy: 0.9908\n",
            "Epoch 18/25\n",
            "469/469 [==============================] - 3s 6ms/step - loss: 0.0176 - accuracy: 0.9952 - val_loss: 0.0330 - val_accuracy: 0.9912\n",
            "Epoch 19/25\n",
            "469/469 [==============================] - 3s 6ms/step - loss: 0.0162 - accuracy: 0.9956 - val_loss: 0.0405 - val_accuracy: 0.9893\n",
            "Epoch 20/25\n",
            "469/469 [==============================] - 3s 6ms/step - loss: 0.0177 - accuracy: 0.9952 - val_loss: 0.0367 - val_accuracy: 0.9902\n",
            "Epoch 21/25\n",
            "469/469 [==============================] - 3s 6ms/step - loss: 0.0128 - accuracy: 0.9964 - val_loss: 0.0484 - val_accuracy: 0.9886\n",
            "Epoch 22/25\n",
            "469/469 [==============================] - 3s 6ms/step - loss: 0.0125 - accuracy: 0.9965 - val_loss: 0.0384 - val_accuracy: 0.9914\n",
            "Epoch 23/25\n",
            "469/469 [==============================] - 3s 6ms/step - loss: 0.0157 - accuracy: 0.9959 - val_loss: 0.0441 - val_accuracy: 0.9906\n",
            "Epoch 24/25\n",
            "469/469 [==============================] - 3s 6ms/step - loss: 0.0190 - accuracy: 0.9953 - val_loss: 0.0380 - val_accuracy: 0.9903\n",
            "Epoch 25/25\n",
            "469/469 [==============================] - 3s 6ms/step - loss: 0.0145 - accuracy: 0.9965 - val_loss: 0.0531 - val_accuracy: 0.9890\n"
          ],
          "name": "stdout"
        },
        {
          "output_type": "execute_result",
          "data": {
            "text/plain": [
              "<tensorflow.python.keras.callbacks.History at 0x7fad64319e10>"
            ]
          },
          "metadata": {
            "tags": []
          },
          "execution_count": 30
        }
      ]
    },
    {
      "cell_type": "code",
      "metadata": {
        "id": "rI94UQ5QPA1d",
        "colab": {
          "base_uri": "https://localhost:8080/",
          "height": 50
        },
        "outputId": "5c111d3e-d8d6-4bc8-fa6d-c526da221217"
      },
      "source": [
        "scores = model.evaluate(X_test, Y_test)\n",
        "print(\"Accuracy: %.2f%%\" % (scores[1]*100))"
      ],
      "execution_count": null,
      "outputs": [
        {
          "output_type": "stream",
          "text": [
            "313/313 [==============================] - 1s 2ms/step - loss: 0.0532 - accuracy: 0.9890\n",
            "Accuracy: 98.90%\n"
          ],
          "name": "stdout"
        }
      ]
    },
    {
      "cell_type": "markdown",
      "metadata": {
        "id": "1oL6k-OBRDEI"
      },
      "source": [
        "average pooling with filter size (3,3)"
      ]
    },
    {
      "cell_type": "code",
      "metadata": {
        "id": "Pzth_NN0QVdh"
      },
      "source": [
        "from keras.models import Sequential\n",
        "from keras.layers import Conv2D, AveragePooling2D, Flatten,Dense,Dropout"
      ],
      "execution_count": null,
      "outputs": []
    },
    {
      "cell_type": "code",
      "metadata": {
        "id": "Jy2pd_q7RSEs"
      },
      "source": [
        "model = Sequential()\n",
        "model.add(Conv2D(32,(3,3),padding='same',activation='relu',input_shape=(28,28,1)))\n",
        "model.add(AveragePooling2D((2,2)))\n",
        "model.add(Conv2D(64,(3,3),padding='same',activation='relu'))\n",
        "model.add(AveragePooling2D((2,2)))\n",
        "model.add(Flatten())\n",
        "model.add(Dense(1024,activation='relu'))\n",
        "model.add(Dropout(0.5))\n",
        "model.add(Dense(1024,activation='relu'))\n",
        "model.add(Dense(10,activation='softmax'))\n",
        "model.compile(loss='categorical_crossentropy',optimizer='adam',metrics=['accuracy'])"
      ],
      "execution_count": null,
      "outputs": []
    },
    {
      "cell_type": "code",
      "metadata": {
        "id": "swvAD3ZsRcte",
        "colab": {
          "base_uri": "https://localhost:8080/",
          "height": 454
        },
        "outputId": "ada29128-720c-4581-ec6f-7d43514c3642"
      },
      "source": [
        "model.summary()"
      ],
      "execution_count": null,
      "outputs": [
        {
          "output_type": "stream",
          "text": [
            "Model: \"sequential_5\"\n",
            "_________________________________________________________________\n",
            "Layer (type)                 Output Shape              Param #   \n",
            "=================================================================\n",
            "conv2d_12 (Conv2D)           (None, 28, 28, 32)        320       \n",
            "_________________________________________________________________\n",
            "average_pooling2d_2 (Average (None, 14, 14, 32)        0         \n",
            "_________________________________________________________________\n",
            "conv2d_13 (Conv2D)           (None, 14, 14, 64)        18496     \n",
            "_________________________________________________________________\n",
            "average_pooling2d_3 (Average (None, 7, 7, 64)          0         \n",
            "_________________________________________________________________\n",
            "flatten_5 (Flatten)          (None, 3136)              0         \n",
            "_________________________________________________________________\n",
            "dense_15 (Dense)             (None, 1024)              3212288   \n",
            "_________________________________________________________________\n",
            "dropout_5 (Dropout)          (None, 1024)              0         \n",
            "_________________________________________________________________\n",
            "dense_16 (Dense)             (None, 1024)              1049600   \n",
            "_________________________________________________________________\n",
            "dense_17 (Dense)             (None, 10)                10250     \n",
            "=================================================================\n",
            "Total params: 4,290,954\n",
            "Trainable params: 4,290,954\n",
            "Non-trainable params: 0\n",
            "_________________________________________________________________\n"
          ],
          "name": "stdout"
        }
      ]
    },
    {
      "cell_type": "code",
      "metadata": {
        "id": "52s3SZiDRiGC",
        "colab": {
          "base_uri": "https://localhost:8080/",
          "height": 874
        },
        "outputId": "8e6ae0d0-370c-49dd-e6c9-bfb65cb818b0"
      },
      "source": [
        "model.fit(X_train,Y_train,batch_size=128,epochs=25,validation_data=(X_test, Y_test))"
      ],
      "execution_count": null,
      "outputs": [
        {
          "output_type": "stream",
          "text": [
            "Epoch 1/25\n",
            "469/469 [==============================] - 2s 5ms/step - loss: 0.3485 - accuracy: 0.9401 - val_loss: 0.0600 - val_accuracy: 0.9806\n",
            "Epoch 2/25\n",
            "469/469 [==============================] - 2s 5ms/step - loss: 0.0600 - accuracy: 0.9816 - val_loss: 0.0356 - val_accuracy: 0.9891\n",
            "Epoch 3/25\n",
            "469/469 [==============================] - 2s 5ms/step - loss: 0.0452 - accuracy: 0.9862 - val_loss: 0.0359 - val_accuracy: 0.9892\n",
            "Epoch 4/25\n",
            "469/469 [==============================] - 2s 5ms/step - loss: 0.0360 - accuracy: 0.9884 - val_loss: 0.0334 - val_accuracy: 0.9903\n",
            "Epoch 5/25\n",
            "469/469 [==============================] - 2s 5ms/step - loss: 0.0314 - accuracy: 0.9908 - val_loss: 0.0370 - val_accuracy: 0.9878\n",
            "Epoch 6/25\n",
            "469/469 [==============================] - 2s 5ms/step - loss: 0.0295 - accuracy: 0.9903 - val_loss: 0.0410 - val_accuracy: 0.9880\n",
            "Epoch 7/25\n",
            "469/469 [==============================] - 2s 5ms/step - loss: 0.0261 - accuracy: 0.9919 - val_loss: 0.0275 - val_accuracy: 0.9915\n",
            "Epoch 8/25\n",
            "469/469 [==============================] - 2s 5ms/step - loss: 0.0230 - accuracy: 0.9930 - val_loss: 0.0322 - val_accuracy: 0.9902\n",
            "Epoch 9/25\n",
            "469/469 [==============================] - 2s 5ms/step - loss: 0.0205 - accuracy: 0.9933 - val_loss: 0.0329 - val_accuracy: 0.9913\n",
            "Epoch 10/25\n",
            "469/469 [==============================] - 2s 5ms/step - loss: 0.0199 - accuracy: 0.9935 - val_loss: 0.0340 - val_accuracy: 0.9903\n",
            "Epoch 11/25\n",
            "469/469 [==============================] - 2s 5ms/step - loss: 0.0180 - accuracy: 0.9940 - val_loss: 0.0405 - val_accuracy: 0.9877\n",
            "Epoch 12/25\n",
            "469/469 [==============================] - 2s 5ms/step - loss: 0.0195 - accuracy: 0.9940 - val_loss: 0.0347 - val_accuracy: 0.9897\n",
            "Epoch 13/25\n",
            "469/469 [==============================] - 2s 5ms/step - loss: 0.0149 - accuracy: 0.9953 - val_loss: 0.0449 - val_accuracy: 0.9886\n",
            "Epoch 14/25\n",
            "469/469 [==============================] - 2s 5ms/step - loss: 0.0166 - accuracy: 0.9949 - val_loss: 0.0586 - val_accuracy: 0.9868\n",
            "Epoch 15/25\n",
            "469/469 [==============================] - 2s 5ms/step - loss: 0.0161 - accuracy: 0.9954 - val_loss: 0.0307 - val_accuracy: 0.9913\n",
            "Epoch 16/25\n",
            "469/469 [==============================] - 2s 5ms/step - loss: 0.0132 - accuracy: 0.9956 - val_loss: 0.0403 - val_accuracy: 0.9906\n",
            "Epoch 17/25\n",
            "469/469 [==============================] - 2s 5ms/step - loss: 0.0123 - accuracy: 0.9961 - val_loss: 0.0400 - val_accuracy: 0.9902\n",
            "Epoch 18/25\n",
            "469/469 [==============================] - 2s 5ms/step - loss: 0.0151 - accuracy: 0.9956 - val_loss: 0.0458 - val_accuracy: 0.9903\n",
            "Epoch 19/25\n",
            "469/469 [==============================] - 2s 5ms/step - loss: 0.0150 - accuracy: 0.9957 - val_loss: 0.0386 - val_accuracy: 0.9911\n",
            "Epoch 20/25\n",
            "469/469 [==============================] - 2s 5ms/step - loss: 0.0115 - accuracy: 0.9966 - val_loss: 0.0304 - val_accuracy: 0.9916\n",
            "Epoch 21/25\n",
            "469/469 [==============================] - 2s 5ms/step - loss: 0.0101 - accuracy: 0.9971 - val_loss: 0.0656 - val_accuracy: 0.9889\n",
            "Epoch 22/25\n",
            "469/469 [==============================] - 2s 5ms/step - loss: 0.0151 - accuracy: 0.9961 - val_loss: 0.0366 - val_accuracy: 0.9904\n",
            "Epoch 23/25\n",
            "469/469 [==============================] - 2s 5ms/step - loss: 0.0095 - accuracy: 0.9973 - val_loss: 0.0434 - val_accuracy: 0.9919\n",
            "Epoch 24/25\n",
            "469/469 [==============================] - 2s 5ms/step - loss: 0.0127 - accuracy: 0.9969 - val_loss: 0.0534 - val_accuracy: 0.9910\n",
            "Epoch 25/25\n",
            "469/469 [==============================] - 2s 5ms/step - loss: 0.0125 - accuracy: 0.9969 - val_loss: 0.0512 - val_accuracy: 0.9897\n"
          ],
          "name": "stdout"
        },
        {
          "output_type": "execute_result",
          "data": {
            "text/plain": [
              "<tensorflow.python.keras.callbacks.History at 0x7fad641a3ac8>"
            ]
          },
          "metadata": {
            "tags": []
          },
          "execution_count": 35
        }
      ]
    },
    {
      "cell_type": "code",
      "metadata": {
        "id": "dbzKWUdNRl61",
        "colab": {
          "base_uri": "https://localhost:8080/",
          "height": 50
        },
        "outputId": "9aaf4f9f-a57b-477e-c89e-b6212c4bf88f"
      },
      "source": [
        "scores = model.evaluate(X_test, Y_test)\n",
        "print(\"Accuracy: %.2f%%\" % (scores[1]*100))"
      ],
      "execution_count": null,
      "outputs": [
        {
          "output_type": "stream",
          "text": [
            "313/313 [==============================] - 1s 2ms/step - loss: 0.0512 - accuracy: 0.9897\n",
            "Accuracy: 98.97%\n"
          ],
          "name": "stdout"
        }
      ]
    },
    {
      "cell_type": "markdown",
      "metadata": {
        "id": "1aH1VccESdZx"
      },
      "source": [
        "average pooling with 5,5 filters with 2 convolution layers"
      ]
    },
    {
      "cell_type": "code",
      "metadata": {
        "id": "uyRQz7ZnSEQR"
      },
      "source": [
        "from keras.models import Sequential\n",
        "from keras.layers import Conv2D, AveragePooling2D, Flatten,Dense,Dropout"
      ],
      "execution_count": null,
      "outputs": []
    },
    {
      "cell_type": "code",
      "metadata": {
        "id": "bIZ14ImlR7L1"
      },
      "source": [
        "model = Sequential()\n",
        "model.add(Conv2D(32,(5,5),padding='same',activation='relu',input_shape=(28,28,1)))\n",
        "model.add(AveragePooling2D((2,2)))\n",
        "model.add(Conv2D(64,(5,5),padding='same',activation='relu'))\n",
        "model.add(Conv2D(64,(5,5),padding='same',activation='relu'))\n",
        "model.add(AveragePooling2D((2,2)))\n",
        "model.add(Flatten())\n",
        "model.add(Dense(1024,activation='relu'))\n",
        "model.add(Dropout(0.5))\n",
        "model.add(Dense(1024,activation='relu'))\n",
        "model.add(Dense(10,activation='softmax'))\n",
        "model.compile(loss='categorical_crossentropy',optimizer='adam',metrics=['accuracy'])"
      ],
      "execution_count": null,
      "outputs": []
    },
    {
      "cell_type": "code",
      "metadata": {
        "id": "wrjbHwvxRyHF",
        "colab": {
          "base_uri": "https://localhost:8080/",
          "height": 874
        },
        "outputId": "84fea2be-fa50-4b4f-e02a-c59f458f7f57"
      },
      "source": [
        "model.fit(X_train,Y_train,batch_size=128,epochs=25,validation_data=(X_test, Y_test))"
      ],
      "execution_count": null,
      "outputs": [
        {
          "output_type": "stream",
          "text": [
            "Epoch 1/25\n",
            "469/469 [==============================] - 4s 8ms/step - loss: 0.2528 - accuracy: 0.9398 - val_loss: 0.0388 - val_accuracy: 0.9867\n",
            "Epoch 2/25\n",
            "469/469 [==============================] - 4s 7ms/step - loss: 0.0530 - accuracy: 0.9843 - val_loss: 0.0267 - val_accuracy: 0.9910\n",
            "Epoch 3/25\n",
            "469/469 [==============================] - 4s 8ms/step - loss: 0.0378 - accuracy: 0.9881 - val_loss: 0.0456 - val_accuracy: 0.9854\n",
            "Epoch 4/25\n",
            "469/469 [==============================] - 3s 7ms/step - loss: 0.0331 - accuracy: 0.9894 - val_loss: 0.0339 - val_accuracy: 0.9893\n",
            "Epoch 5/25\n",
            "469/469 [==============================] - 3s 7ms/step - loss: 0.0301 - accuracy: 0.9910 - val_loss: 0.0254 - val_accuracy: 0.9913\n",
            "Epoch 6/25\n",
            "469/469 [==============================] - 3s 7ms/step - loss: 0.0253 - accuracy: 0.9925 - val_loss: 0.0303 - val_accuracy: 0.9911\n",
            "Epoch 7/25\n",
            "469/469 [==============================] - 3s 7ms/step - loss: 0.0249 - accuracy: 0.9928 - val_loss: 0.0383 - val_accuracy: 0.9877\n",
            "Epoch 8/25\n",
            "469/469 [==============================] - 3s 7ms/step - loss: 0.0221 - accuracy: 0.9930 - val_loss: 0.0273 - val_accuracy: 0.9918\n",
            "Epoch 9/25\n",
            "469/469 [==============================] - 3s 7ms/step - loss: 0.0239 - accuracy: 0.9929 - val_loss: 0.0286 - val_accuracy: 0.9906\n",
            "Epoch 10/25\n",
            "469/469 [==============================] - 3s 7ms/step - loss: 0.0219 - accuracy: 0.9936 - val_loss: 0.0353 - val_accuracy: 0.9905\n",
            "Epoch 11/25\n",
            "469/469 [==============================] - 3s 7ms/step - loss: 0.0210 - accuracy: 0.9937 - val_loss: 0.0318 - val_accuracy: 0.9927\n",
            "Epoch 12/25\n",
            "469/469 [==============================] - 3s 7ms/step - loss: 0.0180 - accuracy: 0.9946 - val_loss: 0.0346 - val_accuracy: 0.9913\n",
            "Epoch 13/25\n",
            "469/469 [==============================] - 3s 7ms/step - loss: 0.0213 - accuracy: 0.9937 - val_loss: 0.0365 - val_accuracy: 0.9918\n",
            "Epoch 14/25\n",
            "469/469 [==============================] - 4s 7ms/step - loss: 0.0154 - accuracy: 0.9954 - val_loss: 0.0447 - val_accuracy: 0.9886\n",
            "Epoch 15/25\n",
            "469/469 [==============================] - 3s 7ms/step - loss: 0.0178 - accuracy: 0.9950 - val_loss: 0.0333 - val_accuracy: 0.9910\n",
            "Epoch 16/25\n",
            "469/469 [==============================] - 4s 7ms/step - loss: 0.0181 - accuracy: 0.9951 - val_loss: 0.0402 - val_accuracy: 0.9913\n",
            "Epoch 17/25\n",
            "469/469 [==============================] - 3s 7ms/step - loss: 0.0144 - accuracy: 0.9957 - val_loss: 0.0493 - val_accuracy: 0.9899\n",
            "Epoch 18/25\n",
            "469/469 [==============================] - 3s 7ms/step - loss: 0.0180 - accuracy: 0.9956 - val_loss: 0.0357 - val_accuracy: 0.9910\n",
            "Epoch 19/25\n",
            "469/469 [==============================] - 3s 7ms/step - loss: 0.0171 - accuracy: 0.9952 - val_loss: 0.0387 - val_accuracy: 0.9915\n",
            "Epoch 20/25\n",
            "469/469 [==============================] - 3s 7ms/step - loss: 0.0124 - accuracy: 0.9966 - val_loss: 0.0581 - val_accuracy: 0.9880\n",
            "Epoch 21/25\n",
            "469/469 [==============================] - 3s 7ms/step - loss: 0.0129 - accuracy: 0.9965 - val_loss: 0.0465 - val_accuracy: 0.9885\n",
            "Epoch 22/25\n",
            "469/469 [==============================] - 3s 7ms/step - loss: 0.0168 - accuracy: 0.9955 - val_loss: 0.0325 - val_accuracy: 0.9916\n",
            "Epoch 23/25\n",
            "469/469 [==============================] - 3s 7ms/step - loss: 0.0147 - accuracy: 0.9961 - val_loss: 0.0504 - val_accuracy: 0.9912\n",
            "Epoch 24/25\n",
            "469/469 [==============================] - 3s 7ms/step - loss: 0.0122 - accuracy: 0.9969 - val_loss: 0.0534 - val_accuracy: 0.9902\n",
            "Epoch 25/25\n",
            "469/469 [==============================] - 3s 7ms/step - loss: 0.0124 - accuracy: 0.9970 - val_loss: 0.0411 - val_accuracy: 0.9909\n"
          ],
          "name": "stdout"
        },
        {
          "output_type": "execute_result",
          "data": {
            "text/plain": [
              "<tensorflow.python.keras.callbacks.History at 0x7fad64059a20>"
            ]
          },
          "metadata": {
            "tags": []
          },
          "execution_count": 39
        }
      ]
    },
    {
      "cell_type": "code",
      "metadata": {
        "id": "_ySAD9awRwIZ",
        "colab": {
          "base_uri": "https://localhost:8080/",
          "height": 50
        },
        "outputId": "fbe41c83-d7e4-4221-e91c-383e7eb3ff10"
      },
      "source": [
        "scores = model.evaluate(X_test, Y_test)\n",
        "print(\"Accuracy: %.2f%%\" % (scores[1]*100))"
      ],
      "execution_count": null,
      "outputs": [
        {
          "output_type": "stream",
          "text": [
            "313/313 [==============================] - 1s 2ms/step - loss: 0.0411 - accuracy: 0.9909\n",
            "Accuracy: 99.09%\n"
          ],
          "name": "stdout"
        }
      ]
    },
    {
      "cell_type": "markdown",
      "metadata": {
        "id": "_F0oh5koSzbK"
      },
      "source": [
        "average pooling with filter size as 3,3 and 2 convolution layers"
      ]
    },
    {
      "cell_type": "code",
      "metadata": {
        "id": "2bRm67olURXC"
      },
      "source": [
        "from keras.models import Sequential\n",
        "from keras.layers import Conv2D, AveragePooling2D, Flatten,Dense,Dropout"
      ],
      "execution_count": null,
      "outputs": []
    },
    {
      "cell_type": "code",
      "metadata": {
        "id": "D943kH9eU8cP"
      },
      "source": [
        "model = Sequential()\n",
        "model.add(Conv2D(32,(5,5),padding='same',activation='relu',input_shape=(28,28,1)))\n",
        "model.add(AveragePooling2D((2,2)))\n",
        "model.add(Conv2D(64,(5,5),padding='same',activation='relu'))\n",
        "model.add(Conv2D(64,(5,5),padding='same',activation='relu'))\n",
        "model.add(AveragePooling2D((2,2)))\n",
        "model.add(Flatten())\n",
        "model.add(Dense(1024,activation='relu'))\n",
        "model.add(Dropout(0.5))\n",
        "model.add(Dense(1024,activation='relu'))\n",
        "model.add(Dense(10,activation='softmax'))\n",
        "model.compile(loss='categorical_crossentropy',optimizer='adam',metrics=['accuracy'])"
      ],
      "execution_count": null,
      "outputs": []
    },
    {
      "cell_type": "code",
      "metadata": {
        "id": "c86Jx4PzVJBW",
        "colab": {
          "base_uri": "https://localhost:8080/",
          "height": 487
        },
        "outputId": "1b1e79f0-5ffd-4d02-d37d-f0a1be669b4f"
      },
      "source": [
        "model.summary()"
      ],
      "execution_count": null,
      "outputs": [
        {
          "output_type": "stream",
          "text": [
            "Model: \"sequential_7\"\n",
            "_________________________________________________________________\n",
            "Layer (type)                 Output Shape              Param #   \n",
            "=================================================================\n",
            "conv2d_17 (Conv2D)           (None, 28, 28, 32)        832       \n",
            "_________________________________________________________________\n",
            "average_pooling2d_6 (Average (None, 14, 14, 32)        0         \n",
            "_________________________________________________________________\n",
            "conv2d_18 (Conv2D)           (None, 14, 14, 64)        51264     \n",
            "_________________________________________________________________\n",
            "conv2d_19 (Conv2D)           (None, 14, 14, 64)        102464    \n",
            "_________________________________________________________________\n",
            "average_pooling2d_7 (Average (None, 7, 7, 64)          0         \n",
            "_________________________________________________________________\n",
            "flatten_7 (Flatten)          (None, 3136)              0         \n",
            "_________________________________________________________________\n",
            "dense_21 (Dense)             (None, 1024)              3212288   \n",
            "_________________________________________________________________\n",
            "dropout_7 (Dropout)          (None, 1024)              0         \n",
            "_________________________________________________________________\n",
            "dense_22 (Dense)             (None, 1024)              1049600   \n",
            "_________________________________________________________________\n",
            "dense_23 (Dense)             (None, 10)                10250     \n",
            "=================================================================\n",
            "Total params: 4,426,698\n",
            "Trainable params: 4,426,698\n",
            "Non-trainable params: 0\n",
            "_________________________________________________________________\n"
          ],
          "name": "stdout"
        }
      ]
    },
    {
      "cell_type": "code",
      "metadata": {
        "id": "4cw3pNwmVLRT",
        "colab": {
          "base_uri": "https://localhost:8080/",
          "height": 874
        },
        "outputId": "b3f56d6e-10c8-4f48-c26e-b4492ba4a2a8"
      },
      "source": [
        "model.fit(X_test,Y_test,batch_size=128,epochs=25,validation_data=(X_test,Y_test))"
      ],
      "execution_count": null,
      "outputs": [
        {
          "output_type": "stream",
          "text": [
            "Epoch 1/25\n",
            "79/79 [==============================] - 1s 13ms/step - loss: 0.9063 - accuracy: 0.7778 - val_loss: 0.0959 - val_accuracy: 0.9682\n",
            "Epoch 2/25\n",
            "79/79 [==============================] - 1s 10ms/step - loss: 0.1083 - accuracy: 0.9669 - val_loss: 0.0507 - val_accuracy: 0.9835\n",
            "Epoch 3/25\n",
            "79/79 [==============================] - 1s 10ms/step - loss: 0.0761 - accuracy: 0.9738 - val_loss: 0.0303 - val_accuracy: 0.9901\n",
            "Epoch 4/25\n",
            "79/79 [==============================] - 1s 10ms/step - loss: 0.0472 - accuracy: 0.9835 - val_loss: 0.0254 - val_accuracy: 0.9911\n",
            "Epoch 5/25\n",
            "79/79 [==============================] - 1s 10ms/step - loss: 0.0392 - accuracy: 0.9875 - val_loss: 0.0164 - val_accuracy: 0.9946\n",
            "Epoch 6/25\n",
            "79/79 [==============================] - 1s 10ms/step - loss: 0.0290 - accuracy: 0.9899 - val_loss: 0.0289 - val_accuracy: 0.9904\n",
            "Epoch 7/25\n",
            "79/79 [==============================] - 1s 10ms/step - loss: 0.0258 - accuracy: 0.9908 - val_loss: 0.0104 - val_accuracy: 0.9965\n",
            "Epoch 8/25\n",
            "79/79 [==============================] - 1s 10ms/step - loss: 0.0253 - accuracy: 0.9914 - val_loss: 0.0105 - val_accuracy: 0.9966\n",
            "Epoch 9/25\n",
            "79/79 [==============================] - 1s 10ms/step - loss: 0.0236 - accuracy: 0.9928 - val_loss: 0.0166 - val_accuracy: 0.9943\n",
            "Epoch 10/25\n",
            "79/79 [==============================] - 1s 10ms/step - loss: 0.0166 - accuracy: 0.9940 - val_loss: 0.0122 - val_accuracy: 0.9961\n",
            "Epoch 11/25\n",
            "79/79 [==============================] - 1s 10ms/step - loss: 0.0219 - accuracy: 0.9929 - val_loss: 0.0059 - val_accuracy: 0.9977\n",
            "Epoch 12/25\n",
            "79/79 [==============================] - 1s 10ms/step - loss: 0.0186 - accuracy: 0.9934 - val_loss: 0.0086 - val_accuracy: 0.9969\n",
            "Epoch 13/25\n",
            "79/79 [==============================] - 1s 10ms/step - loss: 0.0198 - accuracy: 0.9939 - val_loss: 0.0033 - val_accuracy: 0.9991\n",
            "Epoch 14/25\n",
            "79/79 [==============================] - 1s 10ms/step - loss: 0.0070 - accuracy: 0.9979 - val_loss: 0.0023 - val_accuracy: 0.9993\n",
            "Epoch 15/25\n",
            "79/79 [==============================] - 1s 10ms/step - loss: 0.0062 - accuracy: 0.9978 - val_loss: 0.0019 - val_accuracy: 0.9996\n",
            "Epoch 16/25\n",
            "79/79 [==============================] - 1s 10ms/step - loss: 0.0168 - accuracy: 0.9944 - val_loss: 0.0139 - val_accuracy: 0.9950\n",
            "Epoch 17/25\n",
            "79/79 [==============================] - 1s 10ms/step - loss: 0.0235 - accuracy: 0.9930 - val_loss: 0.0037 - val_accuracy: 0.9991\n",
            "Epoch 18/25\n",
            "79/79 [==============================] - 1s 10ms/step - loss: 0.0063 - accuracy: 0.9977 - val_loss: 0.0032 - val_accuracy: 0.9994\n",
            "Epoch 19/25\n",
            "79/79 [==============================] - 1s 10ms/step - loss: 0.0099 - accuracy: 0.9975 - val_loss: 0.0059 - val_accuracy: 0.9979\n",
            "Epoch 20/25\n",
            "79/79 [==============================] - 1s 10ms/step - loss: 0.0114 - accuracy: 0.9960 - val_loss: 0.0043 - val_accuracy: 0.9987\n",
            "Epoch 21/25\n",
            "79/79 [==============================] - 1s 10ms/step - loss: 0.0143 - accuracy: 0.9949 - val_loss: 0.0078 - val_accuracy: 0.9972\n",
            "Epoch 22/25\n",
            "79/79 [==============================] - 1s 10ms/step - loss: 0.0120 - accuracy: 0.9961 - val_loss: 0.0020 - val_accuracy: 0.9993\n",
            "Epoch 23/25\n",
            "79/79 [==============================] - 1s 10ms/step - loss: 0.0144 - accuracy: 0.9959 - val_loss: 0.0060 - val_accuracy: 0.9980\n",
            "Epoch 24/25\n",
            "79/79 [==============================] - 1s 10ms/step - loss: 0.0347 - accuracy: 0.9901 - val_loss: 0.0086 - val_accuracy: 0.9975\n",
            "Epoch 25/25\n",
            "79/79 [==============================] - 1s 10ms/step - loss: 0.0232 - accuracy: 0.9933 - val_loss: 0.0085 - val_accuracy: 0.9974\n"
          ],
          "name": "stdout"
        },
        {
          "output_type": "execute_result",
          "data": {
            "text/plain": [
              "<tensorflow.python.keras.callbacks.History at 0x7fad390d8fd0>"
            ]
          },
          "metadata": {
            "tags": []
          },
          "execution_count": 44
        }
      ]
    },
    {
      "cell_type": "code",
      "metadata": {
        "id": "derVJb37Vl46",
        "colab": {
          "base_uri": "https://localhost:8080/",
          "height": 50
        },
        "outputId": "87588b09-a2ea-44bb-d1f1-9cea93644815"
      },
      "source": [
        "scores = model.evaluate(X_test, Y_test)\n",
        "print(\"Accuracy: %.2f%%\" % (scores[1]*100))"
      ],
      "execution_count": null,
      "outputs": [
        {
          "output_type": "stream",
          "text": [
            "313/313 [==============================] - 1s 2ms/step - loss: 0.0085 - accuracy: 0.9974\n",
            "Accuracy: 99.74%\n"
          ],
          "name": "stdout"
        }
      ]
    },
    {
      "cell_type": "code",
      "metadata": {
        "id": "aALMOY_LWA7B"
      },
      "source": [
        ""
      ],
      "execution_count": null,
      "outputs": []
    }
  ]
}